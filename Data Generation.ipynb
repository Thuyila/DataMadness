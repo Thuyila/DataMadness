{
 "cells": [
  {
   "cell_type": "code",
   "execution_count": 1,
   "metadata": {},
   "outputs": [
    {
     "name": "stdout",
     "output_type": "stream",
     "text": [
      "Requirement already satisfied: cryptocmd in c:\\users\\sirul\\anaconda3\\lib\\site-packages (0.6.0)\n",
      "Requirement already satisfied: tablib in c:\\users\\sirul\\anaconda3\\lib\\site-packages (from cryptocmd) (3.0.0)\n",
      "Requirement already satisfied: requests in c:\\users\\sirul\\anaconda3\\lib\\site-packages (from cryptocmd) (2.22.0)\n",
      "Requirement already satisfied: chardet<3.1.0,>=3.0.2 in c:\\users\\sirul\\anaconda3\\lib\\site-packages (from requests->cryptocmd) (3.0.4)\n",
      "Requirement already satisfied: urllib3!=1.25.0,!=1.25.1,<1.26,>=1.21.1 in c:\\users\\sirul\\anaconda3\\lib\\site-packages (from requests->cryptocmd) (1.25.8)\n",
      "Requirement already satisfied: certifi>=2017.4.17 in c:\\users\\sirul\\anaconda3\\lib\\site-packages (from requests->cryptocmd) (2019.11.28)\n",
      "Requirement already satisfied: idna<2.9,>=2.5 in c:\\users\\sirul\\anaconda3\\lib\\site-packages (from requests->cryptocmd) (2.8)\n",
      "Note: you may need to restart the kernel to use updated packages.\n"
     ]
    }
   ],
   "source": [
    "# Top 10 cryptocurrencies data generated using cryptocmd library.\n",
    "pip install cryptocmd"
   ]
  },
  {
   "cell_type": "code",
   "execution_count": 2,
   "metadata": {},
   "outputs": [],
   "source": [
    "from cryptocmd import CmcScraper\n",
    "scraper = CmcScraper(\"btc\")\n",
    "scraper.export(\"csv\", name=\"bitcoin_data\")"
   ]
  },
  {
   "cell_type": "code",
   "execution_count": 3,
   "metadata": {},
   "outputs": [],
   "source": [
    "scraper = CmcScraper(\"eth\")\n",
    "scraper.export(\"csv\", name=\"Ethereum_data\")"
   ]
  },
  {
   "cell_type": "code",
   "execution_count": 4,
   "metadata": {},
   "outputs": [],
   "source": [
    "scraper = CmcScraper(\"btc\")\n",
    "scraper.export(\"csv\", name=\"Binance_Coin_data\")"
   ]
  },
  {
   "cell_type": "code",
   "execution_count": 5,
   "metadata": {},
   "outputs": [],
   "source": [
    "scraper = CmcScraper(\"ada\")\n",
    "scraper.export(\"csv\", name=\"Cardano_data\")"
   ]
  },
  {
   "cell_type": "code",
   "execution_count": 6,
   "metadata": {},
   "outputs": [],
   "source": [
    "scraper = CmcScraper(\"usdt\")\n",
    "scraper.export(\"csv\", name=\"Tether_data\")"
   ]
  },
  {
   "cell_type": "code",
   "execution_count": 7,
   "metadata": {},
   "outputs": [],
   "source": [
    "scraper = CmcScraper(\"dot\")\n",
    "scraper.export(\"csv\", name=\"Polkadot_data\")"
   ]
  },
  {
   "cell_type": "code",
   "execution_count": 8,
   "metadata": {},
   "outputs": [],
   "source": [
    "scraper = CmcScraper(\"xrp\")\n",
    "scraper.export(\"csv\", name=\"XRP_data\")"
   ]
  },
  {
   "cell_type": "code",
   "execution_count": 9,
   "metadata": {},
   "outputs": [],
   "source": [
    "scraper = CmcScraper(\"ltc\")\n",
    "scraper.export(\"csv\", name=\"Litecoin_data\")"
   ]
  },
  {
   "cell_type": "code",
   "execution_count": 10,
   "metadata": {},
   "outputs": [],
   "source": [
    "scraper = CmcScraper(\"link\")\n",
    "scraper.export(\"csv\", name=\"ChainLink_data\")"
   ]
  },
  {
   "cell_type": "code",
   "execution_count": 11,
   "metadata": {},
   "outputs": [],
   "source": [
    "scraper = CmcScraper(\"Xlm\")\n",
    "scraper.export(\"csv\", name=\"Stellar\")"
   ]
  }
 ],
 "metadata": {
  "kernelspec": {
   "display_name": "Python 3",
   "language": "python",
   "name": "python3"
  },
  "language_info": {
   "codemirror_mode": {
    "name": "ipython",
    "version": 3
   },
   "file_extension": ".py",
   "mimetype": "text/x-python",
   "name": "python",
   "nbconvert_exporter": "python",
   "pygments_lexer": "ipython3",
   "version": "3.7.6"
  }
 },
 "nbformat": 4,
 "nbformat_minor": 4
}
