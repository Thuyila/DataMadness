{
 "cells": [
  {
   "cell_type": "code",
   "execution_count": 1,
   "metadata": {},
   "outputs": [],
   "source": [
    "#Imported all require libraries\n",
    "\n",
    "import pandas as pd\n",
    "import numpy as np\n",
    "import matplotlib.pyplot as plt\n",
    "import seaborn as sns\n",
    "import datetime as dt\n",
    "import warnings\n",
    "warnings.filterwarnings('ignore')\n",
    "from sklearn import preprocessing\n",
    "import statsmodels.formula.api as sm\n",
    "from sklearn.model_selection import train_test_split\n",
    "from sklearn.ensemble import GradientBoostingRegressor, RandomForestRegressor\n",
    "from sklearn.preprocessing import scale \n",
    "from sklearn.metrics import mean_squared_error\n",
    "from sklearn.linear_model import LinearRegression, Ridge, RidgeCV, Lasso, LassoCV\n",
    "from sklearn.preprocessing import StandardScaler\n",
    "from datetime import datetime"
   ]
  },
  {
   "cell_type": "code",
   "execution_count": 2,
   "metadata": {},
   "outputs": [
    {
     "data": {
      "text/html": [
       "<div>\n",
       "<style scoped>\n",
       "    .dataframe tbody tr th:only-of-type {\n",
       "        vertical-align: middle;\n",
       "    }\n",
       "\n",
       "    .dataframe tbody tr th {\n",
       "        vertical-align: top;\n",
       "    }\n",
       "\n",
       "    .dataframe thead th {\n",
       "        text-align: right;\n",
       "    }\n",
       "</style>\n",
       "<table border=\"1\" class=\"dataframe\">\n",
       "  <thead>\n",
       "    <tr style=\"text-align: right;\">\n",
       "      <th></th>\n",
       "      <th>Unnamed: 0</th>\n",
       "      <th>Crypto</th>\n",
       "      <th>Date</th>\n",
       "      <th>Open</th>\n",
       "      <th>High</th>\n",
       "      <th>Low</th>\n",
       "      <th>Close</th>\n",
       "      <th>Volume</th>\n",
       "      <th>Market Cap</th>\n",
       "    </tr>\n",
       "  </thead>\n",
       "  <tbody>\n",
       "    <tr>\n",
       "      <th>0</th>\n",
       "      <td>0</td>\n",
       "      <td>Binance</td>\n",
       "      <td>28-02-2021</td>\n",
       "      <td>225.445941</td>\n",
       "      <td>228.173046</td>\n",
       "      <td>195.852670</td>\n",
       "      <td>209.574404</td>\n",
       "      <td>3.129699e+09</td>\n",
       "      <td>3.238612e+10</td>\n",
       "    </tr>\n",
       "    <tr>\n",
       "      <th>1</th>\n",
       "      <td>1</td>\n",
       "      <td>Binance</td>\n",
       "      <td>27-02-2021</td>\n",
       "      <td>221.980905</td>\n",
       "      <td>237.179435</td>\n",
       "      <td>220.099401</td>\n",
       "      <td>225.249443</td>\n",
       "      <td>2.755271e+09</td>\n",
       "      <td>3.480842e+10</td>\n",
       "    </tr>\n",
       "    <tr>\n",
       "      <th>2</th>\n",
       "      <td>2</td>\n",
       "      <td>Binance</td>\n",
       "      <td>26-02-2021</td>\n",
       "      <td>235.270287</td>\n",
       "      <td>238.755012</td>\n",
       "      <td>210.310761</td>\n",
       "      <td>221.680429</td>\n",
       "      <td>4.167146e+09</td>\n",
       "      <td>3.425689e+10</td>\n",
       "    </tr>\n",
       "    <tr>\n",
       "      <th>3</th>\n",
       "      <td>3</td>\n",
       "      <td>Binance</td>\n",
       "      <td>25-02-2021</td>\n",
       "      <td>254.467606</td>\n",
       "      <td>264.705134</td>\n",
       "      <td>233.885956</td>\n",
       "      <td>233.885956</td>\n",
       "      <td>4.059853e+09</td>\n",
       "      <td>3.614305e+10</td>\n",
       "    </tr>\n",
       "    <tr>\n",
       "      <th>4</th>\n",
       "      <td>4</td>\n",
       "      <td>Binance</td>\n",
       "      <td>24-02-2021</td>\n",
       "      <td>231.121604</td>\n",
       "      <td>280.088196</td>\n",
       "      <td>214.524714</td>\n",
       "      <td>254.359132</td>\n",
       "      <td>7.154122e+09</td>\n",
       "      <td>3.930683e+10</td>\n",
       "    </tr>\n",
       "    <tr>\n",
       "      <th>...</th>\n",
       "      <td>...</td>\n",
       "      <td>...</td>\n",
       "      <td>...</td>\n",
       "      <td>...</td>\n",
       "      <td>...</td>\n",
       "      <td>...</td>\n",
       "      <td>...</td>\n",
       "      <td>...</td>\n",
       "      <td>...</td>\n",
       "    </tr>\n",
       "    <tr>\n",
       "      <th>19126</th>\n",
       "      <td>2761</td>\n",
       "      <td>XRP</td>\n",
       "      <td>08-08-2013</td>\n",
       "      <td>0.004397</td>\n",
       "      <td>0.004424</td>\n",
       "      <td>0.004175</td>\n",
       "      <td>0.004254</td>\n",
       "      <td>0.000000e+00</td>\n",
       "      <td>3.325863e+07</td>\n",
       "    </tr>\n",
       "    <tr>\n",
       "      <th>19127</th>\n",
       "      <td>2762</td>\n",
       "      <td>XRP</td>\n",
       "      <td>07-08-2013</td>\n",
       "      <td>0.004669</td>\n",
       "      <td>0.004682</td>\n",
       "      <td>0.004333</td>\n",
       "      <td>0.004417</td>\n",
       "      <td>0.000000e+00</td>\n",
       "      <td>3.453412e+07</td>\n",
       "    </tr>\n",
       "    <tr>\n",
       "      <th>19128</th>\n",
       "      <td>2763</td>\n",
       "      <td>XRP</td>\n",
       "      <td>06-08-2013</td>\n",
       "      <td>0.005637</td>\n",
       "      <td>0.005661</td>\n",
       "      <td>0.004629</td>\n",
       "      <td>0.004680</td>\n",
       "      <td>0.000000e+00</td>\n",
       "      <td>3.659101e+07</td>\n",
       "    </tr>\n",
       "    <tr>\n",
       "      <th>19129</th>\n",
       "      <td>2764</td>\n",
       "      <td>XRP</td>\n",
       "      <td>05-08-2013</td>\n",
       "      <td>0.005875</td>\n",
       "      <td>0.005980</td>\n",
       "      <td>0.005613</td>\n",
       "      <td>0.005613</td>\n",
       "      <td>0.000000e+00</td>\n",
       "      <td>4.387916e+07</td>\n",
       "    </tr>\n",
       "    <tr>\n",
       "      <th>19130</th>\n",
       "      <td>2765</td>\n",
       "      <td>XRP</td>\n",
       "      <td>04-08-2013</td>\n",
       "      <td>0.005874</td>\n",
       "      <td>0.005927</td>\n",
       "      <td>0.005874</td>\n",
       "      <td>0.005882</td>\n",
       "      <td>0.000000e+00</td>\n",
       "      <td>4.598358e+07</td>\n",
       "    </tr>\n",
       "  </tbody>\n",
       "</table>\n",
       "<p>19131 rows × 9 columns</p>\n",
       "</div>"
      ],
      "text/plain": [
       "       Unnamed: 0   Crypto        Date        Open        High         Low  \\\n",
       "0               0  Binance  28-02-2021  225.445941  228.173046  195.852670   \n",
       "1               1  Binance  27-02-2021  221.980905  237.179435  220.099401   \n",
       "2               2  Binance  26-02-2021  235.270287  238.755012  210.310761   \n",
       "3               3  Binance  25-02-2021  254.467606  264.705134  233.885956   \n",
       "4               4  Binance  24-02-2021  231.121604  280.088196  214.524714   \n",
       "...           ...      ...         ...         ...         ...         ...   \n",
       "19126        2761      XRP  08-08-2013    0.004397    0.004424    0.004175   \n",
       "19127        2762      XRP  07-08-2013    0.004669    0.004682    0.004333   \n",
       "19128        2763      XRP  06-08-2013    0.005637    0.005661    0.004629   \n",
       "19129        2764      XRP  05-08-2013    0.005875    0.005980    0.005613   \n",
       "19130        2765      XRP  04-08-2013    0.005874    0.005927    0.005874   \n",
       "\n",
       "            Close        Volume    Market Cap  \n",
       "0      209.574404  3.129699e+09  3.238612e+10  \n",
       "1      225.249443  2.755271e+09  3.480842e+10  \n",
       "2      221.680429  4.167146e+09  3.425689e+10  \n",
       "3      233.885956  4.059853e+09  3.614305e+10  \n",
       "4      254.359132  7.154122e+09  3.930683e+10  \n",
       "...           ...           ...           ...  \n",
       "19126    0.004254  0.000000e+00  3.325863e+07  \n",
       "19127    0.004417  0.000000e+00  3.453412e+07  \n",
       "19128    0.004680  0.000000e+00  3.659101e+07  \n",
       "19129    0.005613  0.000000e+00  4.387916e+07  \n",
       "19130    0.005882  0.000000e+00  4.598358e+07  \n",
       "\n",
       "[19131 rows x 9 columns]"
      ]
     },
     "execution_count": 2,
     "metadata": {},
     "output_type": "execute_result"
    }
   ],
   "source": [
    "# read csv dataset as dataframe\n",
    "df = pd.read_csv('cryptos.csv')\n",
    "df"
   ]
  },
  {
   "cell_type": "code",
   "execution_count": 3,
   "metadata": {},
   "outputs": [],
   "source": [
    "# change the date in string format to date format\n",
    "df['Date'] = pd.to_datetime(df['Date'], format='%d-%m-%Y')"
   ]
  },
  {
   "cell_type": "code",
   "execution_count": 4,
   "metadata": {},
   "outputs": [],
   "source": [
    "# date after which all the cryptos have equal amount of data available\n",
    "specific_date = '2017-09-30 00:00:00'  "
   ]
  },
  {
   "cell_type": "code",
   "execution_count": 5,
   "metadata": {},
   "outputs": [],
   "source": [
    "# filter the dataset with the specific date \n",
    "df = df[df['Date'] > specific_date]"
   ]
  },
  {
   "cell_type": "code",
   "execution_count": 6,
   "metadata": {},
   "outputs": [],
   "source": [
    "# columns of the dataset\n",
    "df = df[['Date','Crypto', 'Open', 'High', 'Low', 'Close', 'Volume','Market Cap']]"
   ]
  },
  {
   "cell_type": "code",
   "execution_count": 7,
   "metadata": {},
   "outputs": [],
   "source": [
    "df\n",
    "df1= df\n",
    "df2= df1\n",
    "df3= df2\n",
    "df4= df3\n",
    "df5= df4"
   ]
  },
  {
   "cell_type": "code",
   "execution_count": 8,
   "metadata": {},
   "outputs": [],
   "source": [
    "# Convert string cryptocurrencies' names into numeric data\n",
    "le = preprocessing.LabelEncoder()\n",
    "df['Crypto'] = le.fit_transform(df['Crypto'])"
   ]
  },
  {
   "cell_type": "code",
   "execution_count": 9,
   "metadata": {},
   "outputs": [],
   "source": [
    "open_mean = df['Open'] # mean of opening prices\n",
    "close_mean = df['Close'] # mean of closing prices\n",
    "high_mean = df['High'] # mean of highest prices\n",
    "low_mean = df['Low'] # mean of lowest prices\n",
    "open_close_avg = (df['Open'] + df['Close']) / 2 # average price on a day calculated with opening and closing prices\n",
    "high_low_avg = (df['High'] + df['Low']) / 2 # average price on a day calculated with highest and lowest prices"
   ]
  },
  {
   "cell_type": "code",
   "execution_count": 10,
   "metadata": {},
   "outputs": [],
   "source": [
    "# The average percentage change in price from opening to closing price\n",
    "open_close = (open_mean/close_mean * 100) - 100"
   ]
  },
  {
   "cell_type": "code",
   "execution_count": 11,
   "metadata": {},
   "outputs": [],
   "source": [
    "# The average percentage change in price between highest and lowest prices\n",
    "high_low = (high_mean/low_mean * 100) - 100"
   ]
  },
  {
   "cell_type": "code",
   "execution_count": 12,
   "metadata": {},
   "outputs": [],
   "source": [
    "# new dataframe without the original open, close, high and loe prices\n",
    "new_df = df[['Date','Crypto', 'Volume','Market Cap']]"
   ]
  },
  {
   "cell_type": "code",
   "execution_count": 13,
   "metadata": {},
   "outputs": [],
   "source": [
    "# rename the Market Cap column as MarketCap (comes in handy later in linear regression model)\n",
    "new_df = new_df.rename(columns = {\"Market Cap\": \"MarketCap\"})"
   ]
  },
  {
   "cell_type": "code",
   "execution_count": 14,
   "metadata": {},
   "outputs": [],
   "source": [
    "# adding calculated average features to the new dataframe\n",
    "new_df['OpenClose'] = open_close # The average percentage change in price from opening to closing price\n",
    "new_df['HighLow'] = high_low # The average percentage change in price between highest and lowest prices\n",
    "new_df['AvgPrice'] = (open_close_avg + high_low_avg) / 2 # average price on a day calculated with opening-closing  and high-low prices"
   ]
  },
  {
   "cell_type": "code",
   "execution_count": 15,
   "metadata": {},
   "outputs": [],
   "source": [
    "# get only the unique dates in order to calculate the sum of all market capital and volume on a day\n",
    "dates = new_df['Date'].unique()"
   ]
  },
  {
   "cell_type": "code",
   "execution_count": 16,
   "metadata": {},
   "outputs": [],
   "source": [
    "# create a new dataframe check\n",
    "check = pd.DataFrame()"
   ]
  },
  {
   "cell_type": "code",
   "execution_count": 17,
   "metadata": {},
   "outputs": [],
   "source": [
    "# calculating the sum of total market capital and volume of all cryptocurrencies on a day\n",
    "# and calculating the percentage of each cryptocurrency's market capital and volume as a part of the total sum\n",
    "# and adding these as features to the new dataframe\n",
    "\n",
    "for i in range(len(dates)):\n",
    "    data = new_df[new_df['Date'] == dates[i]] # get the entries on the dataset corresponding to the unique dates\n",
    "    sum_mc = np.sum(data['MarketCap']) # sum of market capital per day\n",
    "    sum_vol = np.sum(data['Volume']) # sum of volume per day\n",
    "    \n",
    "    data['MarketCap'] = data['MarketCap'] / sum_mc * 100 # each cryptocurrency's part in the total market capital\n",
    "    data['Volume'] = data['Volume'] / sum_vol * 100 # each cryptocurrency's part in the total volume\n",
    "    \n",
    "    check = pd.concat([check, data]) # add the adjusted dataset to the new dataframe"
   ]
  },
  {
   "cell_type": "code",
   "execution_count": 18,
   "metadata": {},
   "outputs": [
    {
     "data": {
      "text/html": [
       "<div>\n",
       "<style scoped>\n",
       "    .dataframe tbody tr th:only-of-type {\n",
       "        vertical-align: middle;\n",
       "    }\n",
       "\n",
       "    .dataframe tbody tr th {\n",
       "        vertical-align: top;\n",
       "    }\n",
       "\n",
       "    .dataframe thead th {\n",
       "        text-align: right;\n",
       "    }\n",
       "</style>\n",
       "<table border=\"1\" class=\"dataframe\">\n",
       "  <thead>\n",
       "    <tr style=\"text-align: right;\">\n",
       "      <th></th>\n",
       "      <th>Date</th>\n",
       "      <th>Crypto</th>\n",
       "      <th>Volume</th>\n",
       "      <th>MarketCap</th>\n",
       "      <th>OpenClose</th>\n",
       "      <th>HighLow</th>\n",
       "      <th>AvgPrice</th>\n",
       "    </tr>\n",
       "  </thead>\n",
       "  <tbody>\n",
       "    <tr>\n",
       "      <th>0</th>\n",
       "      <td>2021-02-28</td>\n",
       "      <td>0</td>\n",
       "      <td>1.389866</td>\n",
       "      <td>2.716893</td>\n",
       "      <td>7.573223</td>\n",
       "      <td>16.502392</td>\n",
       "      <td>214.761515</td>\n",
       "    </tr>\n",
       "    <tr>\n",
       "      <th>1315</th>\n",
       "      <td>2021-02-28</td>\n",
       "      <td>1</td>\n",
       "      <td>23.733861</td>\n",
       "      <td>70.588028</td>\n",
       "      <td>2.340049</td>\n",
       "      <td>8.035806</td>\n",
       "      <td>45322.459010</td>\n",
       "    </tr>\n",
       "    <tr>\n",
       "      <th>4179</th>\n",
       "      <td>2021-02-28</td>\n",
       "      <td>2</td>\n",
       "      <td>6.986660</td>\n",
       "      <td>3.414095</td>\n",
       "      <td>1.189515</td>\n",
       "      <td>16.724383</td>\n",
       "      <td>1.289721</td>\n",
       "    </tr>\n",
       "    <tr>\n",
       "      <th>5426</th>\n",
       "      <td>2021-02-28</td>\n",
       "      <td>3</td>\n",
       "      <td>0.896995</td>\n",
       "      <td>0.848326</td>\n",
       "      <td>6.364030</td>\n",
       "      <td>15.942324</td>\n",
       "      <td>25.181430</td>\n",
       "    </tr>\n",
       "    <tr>\n",
       "      <th>6684</th>\n",
       "      <td>2021-02-28</td>\n",
       "      <td>4</td>\n",
       "      <td>12.273309</td>\n",
       "      <td>13.644850</td>\n",
       "      <td>3.093928</td>\n",
       "      <td>12.912187</td>\n",
       "      <td>1411.193242</td>\n",
       "    </tr>\n",
       "    <tr>\n",
       "      <th>...</th>\n",
       "      <td>...</td>\n",
       "      <td>...</td>\n",
       "      <td>...</td>\n",
       "      <td>...</td>\n",
       "      <td>...</td>\n",
       "      <td>...</td>\n",
       "      <td>...</td>\n",
       "    </tr>\n",
       "    <tr>\n",
       "      <th>7930</th>\n",
       "      <td>2017-10-01</td>\n",
       "      <td>4</td>\n",
       "      <td>16.644267</td>\n",
       "      <td>25.264011</td>\n",
       "      <td>-0.261301</td>\n",
       "      <td>2.756036</td>\n",
       "      <td>300.534500</td>\n",
       "    </tr>\n",
       "    <tr>\n",
       "      <th>9963</th>\n",
       "      <td>2017-10-01</td>\n",
       "      <td>5</td>\n",
       "      <td>5.445965</td>\n",
       "      <td>2.554226</td>\n",
       "      <td>1.087025</td>\n",
       "      <td>2.865071</td>\n",
       "      <td>54.616574</td>\n",
       "    </tr>\n",
       "    <tr>\n",
       "      <th>13020</th>\n",
       "      <td>2017-10-01</td>\n",
       "      <td>7</td>\n",
       "      <td>0.083407</td>\n",
       "      <td>0.199908</td>\n",
       "      <td>0.913177</td>\n",
       "      <td>3.598702</td>\n",
       "      <td>0.013687</td>\n",
       "    </tr>\n",
       "    <tr>\n",
       "      <th>15420</th>\n",
       "      <td>2017-10-01</td>\n",
       "      <td>8</td>\n",
       "      <td>5.599478</td>\n",
       "      <td>0.384778</td>\n",
       "      <td>-0.265821</td>\n",
       "      <td>0.721311</td>\n",
       "      <td>0.998588</td>\n",
       "    </tr>\n",
       "    <tr>\n",
       "      <th>17611</th>\n",
       "      <td>2017-10-01</td>\n",
       "      <td>9</td>\n",
       "      <td>2.791150</td>\n",
       "      <td>6.972413</td>\n",
       "      <td>-4.314102</td>\n",
       "      <td>5.615027</td>\n",
       "      <td>0.201877</td>\n",
       "    </tr>\n",
       "  </tbody>\n",
       "</table>\n",
       "<p>11416 rows × 7 columns</p>\n",
       "</div>"
      ],
      "text/plain": [
       "            Date  Crypto     Volume  MarketCap  OpenClose    HighLow  \\\n",
       "0     2021-02-28       0   1.389866   2.716893   7.573223  16.502392   \n",
       "1315  2021-02-28       1  23.733861  70.588028   2.340049   8.035806   \n",
       "4179  2021-02-28       2   6.986660   3.414095   1.189515  16.724383   \n",
       "5426  2021-02-28       3   0.896995   0.848326   6.364030  15.942324   \n",
       "6684  2021-02-28       4  12.273309  13.644850   3.093928  12.912187   \n",
       "...          ...     ...        ...        ...        ...        ...   \n",
       "7930  2017-10-01       4  16.644267  25.264011  -0.261301   2.756036   \n",
       "9963  2017-10-01       5   5.445965   2.554226   1.087025   2.865071   \n",
       "13020 2017-10-01       7   0.083407   0.199908   0.913177   3.598702   \n",
       "15420 2017-10-01       8   5.599478   0.384778  -0.265821   0.721311   \n",
       "17611 2017-10-01       9   2.791150   6.972413  -4.314102   5.615027   \n",
       "\n",
       "           AvgPrice  \n",
       "0        214.761515  \n",
       "1315   45322.459010  \n",
       "4179       1.289721  \n",
       "5426      25.181430  \n",
       "6684    1411.193242  \n",
       "...             ...  \n",
       "7930     300.534500  \n",
       "9963      54.616574  \n",
       "13020      0.013687  \n",
       "15420      0.998588  \n",
       "17611      0.201877  \n",
       "\n",
       "[11416 rows x 7 columns]"
      ]
     },
     "execution_count": 18,
     "metadata": {},
     "output_type": "execute_result"
    }
   ],
   "source": [
    "check"
   ]
  },
  {
   "cell_type": "code",
   "execution_count": 19,
   "metadata": {},
   "outputs": [],
   "source": [
    "# group the newly created dataframe by cryptocurrencies\n",
    "group_crypto = check.groupby('Crypto')"
   ]
  },
  {
   "cell_type": "code",
   "execution_count": 20,
   "metadata": {},
   "outputs": [],
   "source": [
    "group_df = pd.DataFrame() # dataframe to store the mean dataset of each currency\n",
    "\n",
    "group_df['Cryptos'] = check['Crypto'].unique() # unique dates (thus each day since the specific date)\n",
    "group_df['OpenClose'] = group_crypto['OpenClose'].agg(np.mean) # mean of difference of opening and closing prices \n",
    "group_df['HighLow'] = group_crypto['HighLow'].agg(np.mean) # mean of difference of highest and lowest prices\n",
    "group_df['MarketCap'] = group_crypto['MarketCap'].agg(np.mean) # mean market cappital percentage of each currency\n",
    "group_df['Volume'] = group_crypto['Volume'].agg(np.mean) # mean volume percentage of each currency\n",
    "group_df['AvgPrice'] = group_crypto['AvgPrice'].agg(np.mean) # average price calculated with opening-closing and high-low prices"
   ]
  },
  {
   "cell_type": "code",
   "execution_count": 21,
   "metadata": {},
   "outputs": [
    {
     "data": {
      "text/html": [
       "<div>\n",
       "<style scoped>\n",
       "    .dataframe tbody tr th:only-of-type {\n",
       "        vertical-align: middle;\n",
       "    }\n",
       "\n",
       "    .dataframe tbody tr th {\n",
       "        vertical-align: top;\n",
       "    }\n",
       "\n",
       "    .dataframe thead th {\n",
       "        text-align: right;\n",
       "    }\n",
       "</style>\n",
       "<table border=\"1\" class=\"dataframe\">\n",
       "  <thead>\n",
       "    <tr style=\"text-align: right;\">\n",
       "      <th></th>\n",
       "      <th>Cryptos</th>\n",
       "      <th>OpenClose</th>\n",
       "      <th>HighLow</th>\n",
       "      <th>MarketCap</th>\n",
       "      <th>Volume</th>\n",
       "      <th>AvgPrice</th>\n",
       "    </tr>\n",
       "  </thead>\n",
       "  <tbody>\n",
       "    <tr>\n",
       "      <th>0</th>\n",
       "      <td>0</td>\n",
       "      <td>-0.155370</td>\n",
       "      <td>8.359344</td>\n",
       "      <td>1.071488</td>\n",
       "      <td>0.458698</td>\n",
       "      <td>20.077494</td>\n",
       "    </tr>\n",
       "    <tr>\n",
       "      <th>1</th>\n",
       "      <td>1</td>\n",
       "      <td>-0.095923</td>\n",
       "      <td>5.240957</td>\n",
       "      <td>69.258139</td>\n",
       "      <td>40.248561</td>\n",
       "      <td>10222.326331</td>\n",
       "    </tr>\n",
       "    <tr>\n",
       "      <th>2</th>\n",
       "      <td>2</td>\n",
       "      <td>-0.068914</td>\n",
       "      <td>9.769008</td>\n",
       "      <td>1.255743</td>\n",
       "      <td>0.624465</td>\n",
       "      <td>0.138810</td>\n",
       "    </tr>\n",
       "    <tr>\n",
       "      <th>3</th>\n",
       "      <td>3</td>\n",
       "      <td>-0.013277</td>\n",
       "      <td>11.815212</td>\n",
       "      <td>0.416654</td>\n",
       "      <td>0.407971</td>\n",
       "      <td>3.867924</td>\n",
       "    </tr>\n",
       "    <tr>\n",
       "      <th>4</th>\n",
       "      <td>4</td>\n",
       "      <td>0.027188</td>\n",
       "      <td>6.739537</td>\n",
       "      <td>14.808482</td>\n",
       "      <td>15.635820</td>\n",
       "      <td>384.195268</td>\n",
       "    </tr>\n",
       "    <tr>\n",
       "      <th>5</th>\n",
       "      <td>5</td>\n",
       "      <td>0.082176</td>\n",
       "      <td>7.558739</td>\n",
       "      <td>2.099740</td>\n",
       "      <td>4.438660</td>\n",
       "      <td>84.315522</td>\n",
       "    </tr>\n",
       "    <tr>\n",
       "      <th>6</th>\n",
       "      <td>6</td>\n",
       "      <td>-0.945874</td>\n",
       "      <td>11.859125</td>\n",
       "      <td>1.220109</td>\n",
       "      <td>0.819865</td>\n",
       "      <td>9.485905</td>\n",
       "    </tr>\n",
       "    <tr>\n",
       "      <th>7</th>\n",
       "      <td>7</td>\n",
       "      <td>-0.016895</td>\n",
       "      <td>9.442883</td>\n",
       "      <td>1.271531</td>\n",
       "      <td>0.604632</td>\n",
       "      <td>0.155545</td>\n",
       "    </tr>\n",
       "    <tr>\n",
       "      <th>8</th>\n",
       "      <td>8</td>\n",
       "      <td>-0.001160</td>\n",
       "      <td>1.649235</td>\n",
       "      <td>2.132482</td>\n",
       "      <td>33.630384</td>\n",
       "      <td>1.002603</td>\n",
       "    </tr>\n",
       "    <tr>\n",
       "      <th>9</th>\n",
       "      <td>9</td>\n",
       "      <td>0.151228</td>\n",
       "      <td>7.894376</td>\n",
       "      <td>7.496903</td>\n",
       "      <td>3.823917</td>\n",
       "      <td>0.410723</td>\n",
       "    </tr>\n",
       "  </tbody>\n",
       "</table>\n",
       "</div>"
      ],
      "text/plain": [
       "   Cryptos  OpenClose    HighLow  MarketCap     Volume      AvgPrice\n",
       "0        0  -0.155370   8.359344   1.071488   0.458698     20.077494\n",
       "1        1  -0.095923   5.240957  69.258139  40.248561  10222.326331\n",
       "2        2  -0.068914   9.769008   1.255743   0.624465      0.138810\n",
       "3        3  -0.013277  11.815212   0.416654   0.407971      3.867924\n",
       "4        4   0.027188   6.739537  14.808482  15.635820    384.195268\n",
       "5        5   0.082176   7.558739   2.099740   4.438660     84.315522\n",
       "6        6  -0.945874  11.859125   1.220109   0.819865      9.485905\n",
       "7        7  -0.016895   9.442883   1.271531   0.604632      0.155545\n",
       "8        8  -0.001160   1.649235   2.132482  33.630384      1.002603\n",
       "9        9   0.151228   7.894376   7.496903   3.823917      0.410723"
      ]
     },
     "execution_count": 21,
     "metadata": {},
     "output_type": "execute_result"
    }
   ],
   "source": [
    "group_df"
   ]
  },
  {
   "cell_type": "code",
   "execution_count": 22,
   "metadata": {},
   "outputs": [
    {
     "data": {
      "text/html": [
       "<div>\n",
       "<style scoped>\n",
       "    .dataframe tbody tr th:only-of-type {\n",
       "        vertical-align: middle;\n",
       "    }\n",
       "\n",
       "    .dataframe tbody tr th {\n",
       "        vertical-align: top;\n",
       "    }\n",
       "\n",
       "    .dataframe thead th {\n",
       "        text-align: right;\n",
       "    }\n",
       "</style>\n",
       "<table border=\"1\" class=\"dataframe\">\n",
       "  <thead>\n",
       "    <tr style=\"text-align: right;\">\n",
       "      <th></th>\n",
       "      <th>Cryptos</th>\n",
       "      <th>OpenClose</th>\n",
       "      <th>HighLow</th>\n",
       "      <th>MarketCap</th>\n",
       "      <th>Volume</th>\n",
       "      <th>AvgPrice</th>\n",
       "    </tr>\n",
       "  </thead>\n",
       "  <tbody>\n",
       "    <tr>\n",
       "      <th>0</th>\n",
       "      <td>0</td>\n",
       "      <td>-0.155370</td>\n",
       "      <td>8.359344</td>\n",
       "      <td>1.071488</td>\n",
       "      <td>0.458698</td>\n",
       "      <td>20.077494</td>\n",
       "    </tr>\n",
       "    <tr>\n",
       "      <th>1</th>\n",
       "      <td>1</td>\n",
       "      <td>-0.095923</td>\n",
       "      <td>5.240957</td>\n",
       "      <td>69.258139</td>\n",
       "      <td>40.248561</td>\n",
       "      <td>10222.326331</td>\n",
       "    </tr>\n",
       "    <tr>\n",
       "      <th>2</th>\n",
       "      <td>2</td>\n",
       "      <td>-0.068914</td>\n",
       "      <td>9.769008</td>\n",
       "      <td>1.255743</td>\n",
       "      <td>0.624465</td>\n",
       "      <td>0.138810</td>\n",
       "    </tr>\n",
       "    <tr>\n",
       "      <th>3</th>\n",
       "      <td>3</td>\n",
       "      <td>-0.013277</td>\n",
       "      <td>11.815212</td>\n",
       "      <td>0.416654</td>\n",
       "      <td>0.407971</td>\n",
       "      <td>3.867924</td>\n",
       "    </tr>\n",
       "    <tr>\n",
       "      <th>4</th>\n",
       "      <td>4</td>\n",
       "      <td>0.027188</td>\n",
       "      <td>6.739537</td>\n",
       "      <td>14.808482</td>\n",
       "      <td>15.635820</td>\n",
       "      <td>384.195268</td>\n",
       "    </tr>\n",
       "    <tr>\n",
       "      <th>5</th>\n",
       "      <td>5</td>\n",
       "      <td>0.082176</td>\n",
       "      <td>7.558739</td>\n",
       "      <td>2.099740</td>\n",
       "      <td>4.438660</td>\n",
       "      <td>84.315522</td>\n",
       "    </tr>\n",
       "    <tr>\n",
       "      <th>6</th>\n",
       "      <td>6</td>\n",
       "      <td>-0.945874</td>\n",
       "      <td>11.859125</td>\n",
       "      <td>1.220109</td>\n",
       "      <td>0.819865</td>\n",
       "      <td>9.485905</td>\n",
       "    </tr>\n",
       "    <tr>\n",
       "      <th>7</th>\n",
       "      <td>7</td>\n",
       "      <td>-0.016895</td>\n",
       "      <td>9.442883</td>\n",
       "      <td>1.271531</td>\n",
       "      <td>0.604632</td>\n",
       "      <td>0.155545</td>\n",
       "    </tr>\n",
       "    <tr>\n",
       "      <th>8</th>\n",
       "      <td>8</td>\n",
       "      <td>-0.001160</td>\n",
       "      <td>1.649235</td>\n",
       "      <td>2.132482</td>\n",
       "      <td>33.630384</td>\n",
       "      <td>1.002603</td>\n",
       "    </tr>\n",
       "    <tr>\n",
       "      <th>9</th>\n",
       "      <td>9</td>\n",
       "      <td>0.151228</td>\n",
       "      <td>7.894376</td>\n",
       "      <td>7.496903</td>\n",
       "      <td>3.823917</td>\n",
       "      <td>0.410723</td>\n",
       "    </tr>\n",
       "  </tbody>\n",
       "</table>\n",
       "</div>"
      ],
      "text/plain": [
       "   Cryptos  OpenClose    HighLow  MarketCap     Volume      AvgPrice\n",
       "0        0  -0.155370   8.359344   1.071488   0.458698     20.077494\n",
       "1        1  -0.095923   5.240957  69.258139  40.248561  10222.326331\n",
       "2        2  -0.068914   9.769008   1.255743   0.624465      0.138810\n",
       "3        3  -0.013277  11.815212   0.416654   0.407971      3.867924\n",
       "4        4   0.027188   6.739537  14.808482  15.635820    384.195268\n",
       "5        5   0.082176   7.558739   2.099740   4.438660     84.315522\n",
       "6        6  -0.945874  11.859125   1.220109   0.819865      9.485905\n",
       "7        7  -0.016895   9.442883   1.271531   0.604632      0.155545\n",
       "8        8  -0.001160   1.649235   2.132482  33.630384      1.002603\n",
       "9        9   0.151228   7.894376   7.496903   3.823917      0.410723"
      ]
     },
     "execution_count": 22,
     "metadata": {},
     "output_type": "execute_result"
    }
   ],
   "source": [
    "# in order to form a dataset based on the cryptocurrencies and not on the features as columns, the following is done\n",
    "\n",
    "# new columns of the dataframe\n",
    "binance, bitcoin, cardano, chainLink, ethereum, liteCoin, polkadots, stellar, tether, xrp = [], [], [], [], [], [], [], [], [], []\n",
    "\n",
    "# storing the data of mean open-close and high-low differences, market capital, volume and average price per each new column\n",
    "for i in range(len(group_df.columns)):\n",
    "    binance.append(group_df.iloc[0,i])\n",
    "    bitcoin.append(group_df.iloc[1,i])\n",
    "    cardano.append(group_df.iloc[2,i])\n",
    "    chainLink.append(group_df.iloc[3,i])\n",
    "    ethereum.append(group_df.iloc[4,i])\n",
    "    liteCoin.append(group_df.iloc[5,i])\n",
    "    polkadots.append(group_df.iloc[6,i])\n",
    "    stellar.append(group_df.iloc[7,i])\n",
    "    tether.append(group_df.iloc[8,i])\n",
    "    xrp.append(group_df.iloc[9,i])\n",
    "group_df"
   ]
  },
  {
   "cell_type": "code",
   "execution_count": 23,
   "metadata": {},
   "outputs": [
    {
     "data": {
      "text/html": [
       "<div>\n",
       "<style scoped>\n",
       "    .dataframe tbody tr th:only-of-type {\n",
       "        vertical-align: middle;\n",
       "    }\n",
       "\n",
       "    .dataframe tbody tr th {\n",
       "        vertical-align: top;\n",
       "    }\n",
       "\n",
       "    .dataframe thead th {\n",
       "        text-align: right;\n",
       "    }\n",
       "</style>\n",
       "<table border=\"1\" class=\"dataframe\">\n",
       "  <thead>\n",
       "    <tr style=\"text-align: right;\">\n",
       "      <th></th>\n",
       "      <th>Binance</th>\n",
       "      <th>Bitcoin</th>\n",
       "      <th>Cardano</th>\n",
       "      <th>ChainLink</th>\n",
       "      <th>Ethereum</th>\n",
       "      <th>Litecoin</th>\n",
       "      <th>Polkadot</th>\n",
       "      <th>Stellar</th>\n",
       "      <th>Tether</th>\n",
       "      <th>XRP</th>\n",
       "    </tr>\n",
       "  </thead>\n",
       "  <tbody>\n",
       "    <tr>\n",
       "      <th>OpenClose</th>\n",
       "      <td>-0.155370</td>\n",
       "      <td>-0.095923</td>\n",
       "      <td>-0.068914</td>\n",
       "      <td>-0.013277</td>\n",
       "      <td>0.027188</td>\n",
       "      <td>0.082176</td>\n",
       "      <td>-0.945874</td>\n",
       "      <td>-0.016895</td>\n",
       "      <td>-0.001160</td>\n",
       "      <td>0.151228</td>\n",
       "    </tr>\n",
       "    <tr>\n",
       "      <th>HighLow</th>\n",
       "      <td>8.359344</td>\n",
       "      <td>5.240957</td>\n",
       "      <td>9.769008</td>\n",
       "      <td>11.815212</td>\n",
       "      <td>6.739537</td>\n",
       "      <td>7.558739</td>\n",
       "      <td>11.859125</td>\n",
       "      <td>9.442883</td>\n",
       "      <td>1.649235</td>\n",
       "      <td>7.894376</td>\n",
       "    </tr>\n",
       "    <tr>\n",
       "      <th>MarketCap</th>\n",
       "      <td>1.071488</td>\n",
       "      <td>69.258139</td>\n",
       "      <td>1.255743</td>\n",
       "      <td>0.416654</td>\n",
       "      <td>14.808482</td>\n",
       "      <td>2.099740</td>\n",
       "      <td>1.220109</td>\n",
       "      <td>1.271531</td>\n",
       "      <td>2.132482</td>\n",
       "      <td>7.496903</td>\n",
       "    </tr>\n",
       "    <tr>\n",
       "      <th>Volume</th>\n",
       "      <td>0.458698</td>\n",
       "      <td>40.248561</td>\n",
       "      <td>0.624465</td>\n",
       "      <td>0.407971</td>\n",
       "      <td>15.635820</td>\n",
       "      <td>4.438660</td>\n",
       "      <td>0.819865</td>\n",
       "      <td>0.604632</td>\n",
       "      <td>33.630384</td>\n",
       "      <td>3.823917</td>\n",
       "    </tr>\n",
       "    <tr>\n",
       "      <th>AvgPrice</th>\n",
       "      <td>20.077494</td>\n",
       "      <td>10222.326331</td>\n",
       "      <td>0.138810</td>\n",
       "      <td>3.867924</td>\n",
       "      <td>384.195268</td>\n",
       "      <td>84.315522</td>\n",
       "      <td>9.485905</td>\n",
       "      <td>0.155545</td>\n",
       "      <td>1.002603</td>\n",
       "      <td>0.410723</td>\n",
       "    </tr>\n",
       "  </tbody>\n",
       "</table>\n",
       "</div>"
      ],
      "text/plain": [
       "             Binance       Bitcoin   Cardano  ChainLink    Ethereum  \\\n",
       "OpenClose  -0.155370     -0.095923 -0.068914  -0.013277    0.027188   \n",
       "HighLow     8.359344      5.240957  9.769008  11.815212    6.739537   \n",
       "MarketCap   1.071488     69.258139  1.255743   0.416654   14.808482   \n",
       "Volume      0.458698     40.248561  0.624465   0.407971   15.635820   \n",
       "AvgPrice   20.077494  10222.326331  0.138810   3.867924  384.195268   \n",
       "\n",
       "            Litecoin   Polkadot   Stellar     Tether       XRP  \n",
       "OpenClose   0.082176  -0.945874 -0.016895  -0.001160  0.151228  \n",
       "HighLow     7.558739  11.859125  9.442883   1.649235  7.894376  \n",
       "MarketCap   2.099740   1.220109  1.271531   2.132482  7.496903  \n",
       "Volume      4.438660   0.819865  0.604632  33.630384  3.823917  \n",
       "AvgPrice   84.315522   9.485905  0.155545   1.002603  0.410723  "
      ]
     },
     "execution_count": 23,
     "metadata": {},
     "output_type": "execute_result"
    }
   ],
   "source": [
    "# transfrom cryptocurrencies as columns and attributes as rows\n",
    "group_df_rev = pd.DataFrame({\n",
    "    \"Binance\": [binance[1], binance[2], binance[3], binance[4], binance[5]],\n",
    "    \"Bitcoin\": [bitcoin[1], bitcoin[2], bitcoin[3], bitcoin[4], bitcoin[5]],\n",
    "    \"Cardano\": [cardano[1], cardano[2], cardano[3], cardano[4], cardano[5]],\n",
    "    \"ChainLink\": [chainLink[1], chainLink[2], chainLink[3], chainLink[4], chainLink[5]],\n",
    "    \"Ethereum\": [ethereum[1], ethereum[2], ethereum[3], ethereum[4], ethereum[5]],\n",
    "    \"Litecoin\": [liteCoin[1], liteCoin[2], liteCoin[3], liteCoin[4], liteCoin[5]],\n",
    "    \"Polkadot\": [polkadots[1], polkadots[2], polkadots[3], polkadots[4], polkadots[5]],\n",
    "    \"Stellar\": [stellar[1], stellar[2], stellar[3], stellar[4], stellar[5]],\n",
    "    \"Tether\": [tether[1], tether[2], tether[3], tether[4], tether[5]],\n",
    "    \"XRP\": [xrp[1], xrp[2], xrp[3], xrp[4], xrp[5]]\n",
    "})\n",
    "\n",
    "# for convenience sake changing the row names\n",
    "group_df_rev = group_df_rev.rename(index={0: 'OpenClose', 1: 'HighLow', 2:'MarketCap', 3:'Volume', 4:'AvgPrice'})\n",
    "group_df_rev"
   ]
  },
  {
   "cell_type": "code",
   "execution_count": 24,
   "metadata": {},
   "outputs": [],
   "source": [
    "# columns of new dataframe\n",
    "cryptos = ['Binance', 'Bitcoin', 'Cardano', 'ChainLink', 'Ethereum', 'Litecoin', 'Polkadot', 'Stellar', 'Tether', 'XRP']"
   ]
  },
  {
   "cell_type": "code",
   "execution_count": 25,
   "metadata": {},
   "outputs": [],
   "source": [
    "# x-axis = unique dates since the specific date\n",
    "x = check['Date'].unique()"
   ]
  },
  {
   "cell_type": "code",
   "execution_count": 26,
   "metadata": {},
   "outputs": [
    {
     "data": {
      "image/png": "[encoded data removed]",
      "text/plain": [
       "<Figure size 432x288 with 1 Axes>"
      ]
     },
     "metadata": {
      "needs_background": "light"
     },
     "output_type": "display_data"
    }
   ],
   "source": [
    "# plotting the market capital percentages of each cryptocurrency \n",
    "\n",
    "for i in range(0, len(cryptos)):\n",
    "    plt_data = check[check['Crypto'] == i] # dataset consisting of specific unique date\n",
    "    y = plt_data['MarketCap'] # data to be plotted\n",
    "    j = len(y) # length of the data necessary (we also have a cryptocurrency with less data)\n",
    "    \n",
    "    # since no data means there was no cryptocurrency before this period of time, and therefore fill it with minimum values\n",
    "    while j != len(x):\n",
    "        y[j] = np.min(plt_data['MarketCap'])\n",
    "        j += 1\n",
    "    \n",
    "    plt.plot(x, y, label = cryptos[i]) # plot the market capital of each cryptocurrency\n",
    "\n",
    "plt.xlabel('Date')\n",
    "plt.ylabel('Marekt Cap')\n",
    "plt.title('Market Capital Percentages')\n",
    "plt.legend()\n",
    "plt.rcParams[\"figure.figsize\"] = (20, 25)\n",
    "plt.show()"
   ]
  },
  {
   "cell_type": "markdown",
   "metadata": {},
   "source": [
    "**Interpretation :** <br>\n",
    "**1)** Bitcoin has the highest market capital value followed by Ethereum and XRP.<br>\n",
    "**2)** On average, Bitcoin has increased in market capital throughout the years, while Ethereum and XRP have relatively decreased.<br>\n",
    "**3)** Notably, as Bitcoin increases in market capital, XRP decreases. This might point towards a negative correlation.<br>\n",
    "**4)** Since the market capital is mostly taken over by Bitcoin, Ethereum, XRP and Litecoin, this could be suggestive of our choice later.<br>\n",
    "**5)** The market capital of remaining currencies is relatively negligible comparing with the above 4.<br>"
   ]
  },
  {
   "cell_type": "code",
   "execution_count": 27,
   "metadata": {},
   "outputs": [
    {
     "data": {
      "image/png": "[encoded data removed]",
      "text/plain": [
       "<Figure size 1080x360 with 1 Axes>"
      ]
     },
     "metadata": {
      "needs_background": "light"
     },
     "output_type": "display_data"
    },
    {
     "data": {
      "image/png": "[encoded data removed]",
      "text/plain": [
       "<Figure size 1080x360 with 1 Axes>"
      ]
     },
     "metadata": {
      "needs_background": "light"
     },
     "output_type": "display_data"
    },
    {
     "data": {
      "image/png": "[encoded data removed]",
      "text/plain": [
       "<Figure size 1080x360 with 1 Axes>"
      ]
     },
     "metadata": {
      "needs_background": "light"
     },
     "output_type": "display_data"
    },
    {
     "data": {
      "image/png": "[encoded data removed]",
      "text/plain": [
       "<Figure size 1080x360 with 1 Axes>"
      ]
     },
     "metadata": {
      "needs_background": "light"
     },
     "output_type": "display_data"
    },
    {
     "data": {
      "image/png": "[encoded data removed]",
      "text/plain": [
       "<Figure size 1080x360 with 1 Axes>"
      ]
     },
     "metadata": {
      "needs_background": "light"
     },
     "output_type": "display_data"
    }
   ],
   "source": [
    "# plots of market capital, volume, difference of opening-closing and highest-lowest prices and the average price of each cryptocurrency\n",
    "strings = ['MarketCap', 'Volume', 'OpenClose', 'HighLow', 'AvgPrice'] # features to be plotted\n",
    "# plotting\n",
    "for i in range(len(group_df.columns) - 1):\n",
    "    string = strings[i] + ' of top 10 Crytocurrencies'\n",
    "    plt.rcParams[\"figure.figsize\"] = (15, 5)\n",
    "    plt.bar(cryptos, group_df[strings[i]])\n",
    "    plt.title(string)\n",
    "    plt.xlabel('Cryptocurrency')\n",
    "    plt.ylabel(strings[i])\n",
    "    plt.show()"
   ]
  },
  {
   "cell_type": "markdown",
   "metadata": {},
   "source": [
    "**Interpretation:** <br>\n",
    "**Market Capital:** <br>\n",
    "**1)** Bitcoin with the higgest market capital followed by Ethereum, XRP, Litecoin and Thether. <br>\n",
    "**2)** Binance, Cardano, Polkadot and Stellar follow the above currencies followed by ChainLink with the least market capital.<br>\n",
    "**3)** Higher market capital means either higher volum of the currency, higher price of it or both (we'll come back to this later). <br>\n",
    "\n",
    "**Volume:**<br>\n",
    "**1)** Bitcoin again with the higgest volume followed by Tether, Ethereum, Litecoin and XRP. <br>\n",
    "**2)** Remaining currencies are at around the similar ranks.<br>\n",
    "**3)** Botcoin, Ethereum, Litecoin and Tether have chances of having prices in descending order as given since the market capital and volume follow a similar pattern. <br>\n",
    "**4)** Tether might be interesting to look at, with a low market capital and high volume.<br>\n",
    "\n",
    "**Difference in Opening-Closing prices:**<br>\n",
    "**1)** XRP, Ethereum, Litecoin and Tether have positive differences, meaning on average they've had higher closing prices than the opening prices.<br>\n",
    "**2)** Tether with unchanging value explains the always positive difference.<br>\n",
    "**3)** Polkadot has a very negative difference, meaning on average it has had more higher closing than opening prices. <br>\n",
    "**4)** Binance, Bitcoin and Cardano follow after Polkadot, however, with much less difference.<br>\n",
    "**5)** ChainLink and Stellar have less opening-closing price differences, however, this adds to no positive remark since they both have lower market capital and volume.<br>\n",
    "\n",
    "**Difference in Highest-Lowest prices:**<br>\n",
    "**1)** This is to observe the average fluctuation of price per day. <br>\n",
    "**2)** Tether has the lowest flctuation and thus relatively more constant in price compared to the other currencies.<br>\n",
    "**3)** Bitcoin, Ethereum and Litecoin follow after tether. <br>\n",
    "**4)** Polkadot, ChainLink, Cardano and Stellar have the highest fluctuations and thus have relatively low constant price and therefore are less attractive.<br>\n",
    "\n",
    "**Average price:**<br>\n",
    "**1)** Bitcoin has the highest average price followed by Ethereum, Litecoin and Binance. <br>\n",
    "**2)** Bitcoin having the highest price and volume explains its highest market capital. <br>"
   ]
  },
  {
   "cell_type": "code",
   "execution_count": 28,
   "metadata": {},
   "outputs": [
    {
     "data": {
      "text/html": [
       "<div>\n",
       "<style scoped>\n",
       "    .dataframe tbody tr th:only-of-type {\n",
       "        vertical-align: middle;\n",
       "    }\n",
       "\n",
       "    .dataframe tbody tr th {\n",
       "        vertical-align: top;\n",
       "    }\n",
       "\n",
       "    .dataframe thead th {\n",
       "        text-align: right;\n",
       "    }\n",
       "</style>\n",
       "<table border=\"1\" class=\"dataframe\">\n",
       "  <thead>\n",
       "    <tr style=\"text-align: right;\">\n",
       "      <th></th>\n",
       "      <th>Binance</th>\n",
       "      <th>Bitcoin</th>\n",
       "      <th>Cardano</th>\n",
       "      <th>ChainLink</th>\n",
       "      <th>Ethereum</th>\n",
       "      <th>Litecoin</th>\n",
       "      <th>Polkadot</th>\n",
       "      <th>Stellar</th>\n",
       "      <th>Tether</th>\n",
       "      <th>XRP</th>\n",
       "    </tr>\n",
       "  </thead>\n",
       "  <tbody>\n",
       "    <tr>\n",
       "      <th>Binance</th>\n",
       "      <td>1.000000</td>\n",
       "      <td>0.915381</td>\n",
       "      <td>0.112592</td>\n",
       "      <td>0.455939</td>\n",
       "      <td>0.913708</td>\n",
       "      <td>0.940005</td>\n",
       "      <td>0.793691</td>\n",
       "      <td>0.110884</td>\n",
       "      <td>-0.354534</td>\n",
       "      <td>-0.265270</td>\n",
       "    </tr>\n",
       "    <tr>\n",
       "      <th>Bitcoin</th>\n",
       "      <td>0.915381</td>\n",
       "      <td>1.000000</td>\n",
       "      <td>-0.296953</td>\n",
       "      <td>0.060677</td>\n",
       "      <td>0.999461</td>\n",
       "      <td>0.996961</td>\n",
       "      <td>0.482760</td>\n",
       "      <td>-0.298594</td>\n",
       "      <td>-0.255399</td>\n",
       "      <td>-0.531479</td>\n",
       "    </tr>\n",
       "    <tr>\n",
       "      <th>Cardano</th>\n",
       "      <td>0.112592</td>\n",
       "      <td>-0.296953</td>\n",
       "      <td>1.000000</td>\n",
       "      <td>0.931242</td>\n",
       "      <td>-0.299356</td>\n",
       "      <td>-0.230854</td>\n",
       "      <td>0.691397</td>\n",
       "      <td>0.999984</td>\n",
       "      <td>-0.206184</td>\n",
       "      <td>0.686316</td>\n",
       "    </tr>\n",
       "    <tr>\n",
       "      <th>ChainLink</th>\n",
       "      <td>0.455939</td>\n",
       "      <td>0.060677</td>\n",
       "      <td>0.931242</td>\n",
       "      <td>1.000000</td>\n",
       "      <td>0.055902</td>\n",
       "      <td>0.128307</td>\n",
       "      <td>0.896581</td>\n",
       "      <td>0.930443</td>\n",
       "      <td>-0.304720</td>\n",
       "      <td>0.460930</td>\n",
       "    </tr>\n",
       "    <tr>\n",
       "      <th>Ethereum</th>\n",
       "      <td>0.913708</td>\n",
       "      <td>0.999461</td>\n",
       "      <td>-0.299356</td>\n",
       "      <td>0.055902</td>\n",
       "      <td>1.000000</td>\n",
       "      <td>0.997126</td>\n",
       "      <td>0.481729</td>\n",
       "      <td>-0.301068</td>\n",
       "      <td>-0.234252</td>\n",
       "      <td>-0.515852</td>\n",
       "    </tr>\n",
       "    <tr>\n",
       "      <th>Litecoin</th>\n",
       "      <td>0.940005</td>\n",
       "      <td>0.996961</td>\n",
       "      <td>-0.230854</td>\n",
       "      <td>0.128307</td>\n",
       "      <td>0.997126</td>\n",
       "      <td>1.000000</td>\n",
       "      <td>0.542816</td>\n",
       "      <td>-0.232716</td>\n",
       "      <td>-0.240334</td>\n",
       "      <td>-0.488117</td>\n",
       "    </tr>\n",
       "    <tr>\n",
       "      <th>Polkadot</th>\n",
       "      <td>0.793691</td>\n",
       "      <td>0.482760</td>\n",
       "      <td>0.691397</td>\n",
       "      <td>0.896581</td>\n",
       "      <td>0.481729</td>\n",
       "      <td>0.542816</td>\n",
       "      <td>1.000000</td>\n",
       "      <td>0.689934</td>\n",
       "      <td>-0.337719</td>\n",
       "      <td>0.244132</td>\n",
       "    </tr>\n",
       "    <tr>\n",
       "      <th>Stellar</th>\n",
       "      <td>0.110884</td>\n",
       "      <td>-0.298594</td>\n",
       "      <td>0.999984</td>\n",
       "      <td>0.930443</td>\n",
       "      <td>-0.301068</td>\n",
       "      <td>-0.232716</td>\n",
       "      <td>0.689934</td>\n",
       "      <td>1.000000</td>\n",
       "      <td>-0.210387</td>\n",
       "      <td>0.687649</td>\n",
       "    </tr>\n",
       "    <tr>\n",
       "      <th>Tether</th>\n",
       "      <td>-0.354534</td>\n",
       "      <td>-0.255399</td>\n",
       "      <td>-0.206184</td>\n",
       "      <td>-0.304720</td>\n",
       "      <td>-0.234252</td>\n",
       "      <td>-0.240334</td>\n",
       "      <td>-0.337719</td>\n",
       "      <td>-0.210387</td>\n",
       "      <td>1.000000</td>\n",
       "      <td>0.028170</td>\n",
       "    </tr>\n",
       "    <tr>\n",
       "      <th>XRP</th>\n",
       "      <td>-0.265270</td>\n",
       "      <td>-0.531479</td>\n",
       "      <td>0.686316</td>\n",
       "      <td>0.460930</td>\n",
       "      <td>-0.515852</td>\n",
       "      <td>-0.488117</td>\n",
       "      <td>0.244132</td>\n",
       "      <td>0.687649</td>\n",
       "      <td>0.028170</td>\n",
       "      <td>1.000000</td>\n",
       "    </tr>\n",
       "  </tbody>\n",
       "</table>\n",
       "</div>"
      ],
      "text/plain": [
       "            Binance   Bitcoin   Cardano  ChainLink  Ethereum  Litecoin  \\\n",
       "Binance    1.000000  0.915381  0.112592   0.455939  0.913708  0.940005   \n",
       "Bitcoin    0.915381  1.000000 -0.296953   0.060677  0.999461  0.996961   \n",
       "Cardano    0.112592 -0.296953  1.000000   0.931242 -0.299356 -0.230854   \n",
       "ChainLink  0.455939  0.060677  0.931242   1.000000  0.055902  0.128307   \n",
       "Ethereum   0.913708  0.999461 -0.299356   0.055902  1.000000  0.997126   \n",
       "Litecoin   0.940005  0.996961 -0.230854   0.128307  0.997126  1.000000   \n",
       "Polkadot   0.793691  0.482760  0.691397   0.896581  0.481729  0.542816   \n",
       "Stellar    0.110884 -0.298594  0.999984   0.930443 -0.301068 -0.232716   \n",
       "Tether    -0.354534 -0.255399 -0.206184  -0.304720 -0.234252 -0.240334   \n",
       "XRP       -0.265270 -0.531479  0.686316   0.460930 -0.515852 -0.488117   \n",
       "\n",
       "           Polkadot   Stellar    Tether       XRP  \n",
       "Binance    0.793691  0.110884 -0.354534 -0.265270  \n",
       "Bitcoin    0.482760 -0.298594 -0.255399 -0.531479  \n",
       "Cardano    0.691397  0.999984 -0.206184  0.686316  \n",
       "ChainLink  0.896581  0.930443 -0.304720  0.460930  \n",
       "Ethereum   0.481729 -0.301068 -0.234252 -0.515852  \n",
       "Litecoin   0.542816 -0.232716 -0.240334 -0.488117  \n",
       "Polkadot   1.000000  0.689934 -0.337719  0.244132  \n",
       "Stellar    0.689934  1.000000 -0.210387  0.687649  \n",
       "Tether    -0.337719 -0.210387  1.000000  0.028170  \n",
       "XRP        0.244132  0.687649  0.028170  1.000000  "
      ]
     },
     "execution_count": 28,
     "metadata": {},
     "output_type": "execute_result"
    }
   ],
   "source": [
    "# The correlation matrix based on all cryptocurrencies\n",
    "cor_matrix = group_df_rev.corr()\n",
    "cor_matrix"
   ]
  },
  {
   "cell_type": "code",
   "execution_count": 29,
   "metadata": {},
   "outputs": [
    {
     "data": {
      "image/png": "[encoded data removed]",
      "text/plain": [
       "<Figure size 1080x360 with 2 Axes>"
      ]
     },
     "metadata": {
      "needs_background": "light"
     },
     "output_type": "display_data"
    }
   ],
   "source": [
    "# The visualization of cryptocurrencies' correlation matrix\n",
    "heat_corr = sns.heatmap(\n",
    "                        cor_matrix,\n",
    "                        vmin = -1,\n",
    "                        vmax = 1,\n",
    "                        center = 0,\n",
    "                        cmap = sns.diverging_palette(20,220,n=200),\n",
    "                        square = True)\n",
    "\n",
    "heat_corr.set_xticklabels(heat_corr.get_xticklabels(),\n",
    "                         rotation = 45,\n",
    "                         horizontalalignment = 'right'\n",
    "                         );"
   ]
  },
  {
   "cell_type": "markdown",
   "metadata": {},
   "source": [
    "**Interpretation:**<br>\n",
    "**1)** The more the score of correlation is towards the green color the higher the positive correlation of two coins.<br>\n",
    "**2)** The more it is towards the red color the more negatively correlated the two coins are. <br>\n",
    "**3)** XRP, Tether, Stellar and Cardano are negatively correlated to Bitcoin, meaning, if the values of these currencies increase, the value of Bitcoin decreases and vice-versa.<br>\n",
    "**4)** Bitcoin, Binance, Ethereum and Litecoin are positively correlated, meaning, as the value of one of these currencies increases, the values of the rest of them increase as well.<br>\n",
    "**5)** Interesting to observe is that XRP has the highest negative correlation with Ethereum, Bitcoin and Litecoin and all of these have so far had notable features (high market capital, volume, price, open-close and high-low differences).<br>"
   ]
  },
  {
   "cell_type": "code",
   "execution_count": 30,
   "metadata": {},
   "outputs": [
    {
     "name": "stdout",
     "output_type": "stream",
     "text": [
      "R-Squared values\n",
      "--------------------\n",
      "Date :  0.03868042569861174 %\n",
      "Crypto :  11.976091302898284 %\n",
      "Volume :  45.53674406741146 %\n",
      "OpenClose :  0.001986433551492972 %\n",
      "HighLow :  1.239854606530788 %\n",
      "AvgPrice :  59.00412931463952 %\n"
     ]
    }
   ],
   "source": [
    "# features taken into account so far\n",
    "features = check.columns\n",
    "\n",
    "print(\"R-Squared values\")\n",
    "print(\"--------------------\")\n",
    "\n",
    "# generating the R-Squared values for each feature based on a single linear model\n",
    "for i in range(len(features)):\n",
    "    if features[i] != 'MarketCap':\n",
    "        x = \"MarketCap ~ \" + features[i]\n",
    "        market_cap = sm.ols(formula = x, data = check).fit()\n",
    "        print(features[i], \": \", market_cap.rsquared * 100, '%')"
   ]
  },
  {
   "cell_type": "markdown",
   "metadata": {},
   "source": [
    "**Interpretation:**<br>\n",
    "**1)** The single linear model is fit observe the correspondence of each attribute on the variance of market capital.<br>\n",
    "**2)** The average price accounts the highest and for 59% of market capital's variance. <br>\n",
    "**3)** Volume is next in line with 45.5% accountancy. <br>\n",
    "**4)** The remaining attributes' R-squared values are low and thus thus contributing to much less variance of market capital.<br>"
   ]
  },
  {
   "cell_type": "code",
   "execution_count": 31,
   "metadata": {},
   "outputs": [
    {
     "name": "stdout",
     "output_type": "stream",
     "text": [
      "R-Squared values\n",
      "--------------------\n",
      "Binance :  83.79228543838764 %\n",
      "Cardano :  8.818134920856247 %\n",
      "ChainLink :  0.36816796425570564 %\n",
      "Ethereum :  99.89216408298233 %\n",
      "Litecoin :  99.3930764291201 %\n",
      "Polkadot :  23.30569745502067 %\n",
      "Stellar :  8.915834542974055 %\n",
      "Tether :  6.522857664745285 %\n",
      "XRP :  28.24695293126017 %\n"
     ]
    }
   ],
   "source": [
    "# the cloumns of the dataframe based on cryptocurrencies --> all cryptocurrencies\n",
    "features = group_df_rev.columns\n",
    "\n",
    "print(\"R-Squared values\")\n",
    "print(\"--------------------\")\n",
    "\n",
    "# generating R-Squared values of each cryptocurrency\n",
    "for i in range(len(features)):\n",
    "    if features[i] != 'Bitcoin':\n",
    "        x = \"Bitcoin ~ \" + features[i]\n",
    "        btc = sm.ols(formula = x, data = group_df_rev).fit()\n",
    "        print(features[i], \": \", btc.rsquared * 100, '%')"
   ]
  },
  {
   "cell_type": "markdown",
   "metadata": {},
   "source": [
    "**Interpretation:**<br>\n",
    "**1)** The single linear model is fit to observe the correspondence of every other cryptocurrency on the variance of Bitcoin.<br>\n",
    "**2)** Ethereum and Litecoin have the highest R-Squared values and thus accounting the most for the variance of Bitcoin, followed by Binance.<br>\n",
    "**3)** The above explains the positive correlation between the concerned currencies.<br>\n",
    "**4)** Cardano, ChainLink, Polkadot, Stellar, Tether and XRP have lower R-squared values and thus accounting for much less of the variance of Bitcoin. <br>\n",
    "**5)** The above explains the negative correlation between them and the positively correlated currencies.<br>"
   ]
  },
  {
   "cell_type": "code",
   "execution_count": 32,
   "metadata": {},
   "outputs": [
    {
     "data": {
      "text/html": [
       "<table class=\"simpletable\">\n",
       "<caption>OLS Regression Results</caption>\n",
       "<tr>\n",
       "  <th>Dep. Variable:</th>         <td>Bitcoin</td>     <th>  R-squared:         </th> <td>   0.999</td>\n",
       "</tr>\n",
       "<tr>\n",
       "  <th>Model:</th>                   <td>OLS</td>       <th>  Adj. R-squared:    </th> <td>   0.999</td>\n",
       "</tr>\n",
       "<tr>\n",
       "  <th>Method:</th>             <td>Least Squares</td>  <th>  F-statistic:       </th> <td>   2779.</td>\n",
       "</tr>\n",
       "<tr>\n",
       "  <th>Date:</th>             <td>Wed, 24 Mar 2021</td> <th>  Prob (F-statistic):</th> <td>1.50e-05</td>\n",
       "</tr>\n",
       "<tr>\n",
       "  <th>Time:</th>                 <td>22:27:54</td>     <th>  Log-Likelihood:    </th> <td> -31.580</td>\n",
       "</tr>\n",
       "<tr>\n",
       "  <th>No. Observations:</th>      <td>     5</td>      <th>  AIC:               </th> <td>   67.16</td>\n",
       "</tr>\n",
       "<tr>\n",
       "  <th>Df Residuals:</th>          <td>     3</td>      <th>  BIC:               </th> <td>   66.38</td>\n",
       "</tr>\n",
       "<tr>\n",
       "  <th>Df Model:</th>              <td>     1</td>      <th>                     </th>     <td> </td>   \n",
       "</tr>\n",
       "<tr>\n",
       "  <th>Covariance Type:</th>      <td>nonrobust</td>    <th>                     </th>     <td> </td>   \n",
       "</tr>\n",
       "</table>\n",
       "<table class=\"simpletable\">\n",
       "<tr>\n",
       "      <td></td>         <th>coef</th>     <th>std err</th>      <th>t</th>      <th>P>|t|</th>  <th>[0.025</th>    <th>0.975]</th>  \n",
       "</tr>\n",
       "<tr>\n",
       "  <th>Intercept</th> <td> -221.4361</td> <td>   88.665</td> <td>   -2.497</td> <td> 0.088</td> <td> -503.608</td> <td>   60.736</td>\n",
       "</tr>\n",
       "<tr>\n",
       "  <th>Ethereum</th>  <td>   27.1571</td> <td>    0.515</td> <td>   52.716</td> <td> 0.000</td> <td>   25.518</td> <td>   28.797</td>\n",
       "</tr>\n",
       "</table>\n",
       "<table class=\"simpletable\">\n",
       "<tr>\n",
       "  <th>Omnibus:</th>       <td>   nan</td> <th>  Durbin-Watson:     </th> <td>   0.981</td>\n",
       "</tr>\n",
       "<tr>\n",
       "  <th>Prob(Omnibus):</th> <td>   nan</td> <th>  Jarque-Bera (JB):  </th> <td>   0.355</td>\n",
       "</tr>\n",
       "<tr>\n",
       "  <th>Skew:</th>          <td> 0.426</td> <th>  Prob(JB):          </th> <td>   0.837</td>\n",
       "</tr>\n",
       "<tr>\n",
       "  <th>Kurtosis:</th>      <td> 2.010</td> <th>  Cond. No.          </th> <td>    197.</td>\n",
       "</tr>\n",
       "</table><br/><br/>Warnings:<br/>[1] Standard Errors assume that the covariance matrix of the errors is correctly specified."
      ],
      "text/plain": [
       "<class 'statsmodels.iolib.summary.Summary'>\n",
       "\"\"\"\n",
       "                            OLS Regression Results                            \n",
       "==============================================================================\n",
       "Dep. Variable:                Bitcoin   R-squared:                       0.999\n",
       "Model:                            OLS   Adj. R-squared:                  0.999\n",
       "Method:                 Least Squares   F-statistic:                     2779.\n",
       "Date:                Wed, 24 Mar 2021   Prob (F-statistic):           1.50e-05\n",
       "Time:                        22:27:54   Log-Likelihood:                -31.580\n",
       "No. Observations:                   5   AIC:                             67.16\n",
       "Df Residuals:                       3   BIC:                             66.38\n",
       "Df Model:                           1                                         \n",
       "Covariance Type:            nonrobust                                         \n",
       "==============================================================================\n",
       "                 coef    std err          t      P>|t|      [0.025      0.975]\n",
       "------------------------------------------------------------------------------\n",
       "Intercept   -221.4361     88.665     -2.497      0.088    -503.608      60.736\n",
       "Ethereum      27.1571      0.515     52.716      0.000      25.518      28.797\n",
       "==============================================================================\n",
       "Omnibus:                          nan   Durbin-Watson:                   0.981\n",
       "Prob(Omnibus):                    nan   Jarque-Bera (JB):                0.355\n",
       "Skew:                           0.426   Prob(JB):                        0.837\n",
       "Kurtosis:                       2.010   Cond. No.                         197.\n",
       "==============================================================================\n",
       "\n",
       "Warnings:\n",
       "[1] Standard Errors assume that the covariance matrix of the errors is correctly specified.\n",
       "\"\"\""
      ]
     },
     "execution_count": 32,
     "metadata": {},
     "output_type": "execute_result"
    }
   ],
   "source": [
    "# fit the linear regression model to observe how ethereum accounts for the variance in Bitcoin\n",
    "# The linear regression model is Bitcoin = beta_0 + beta_1 * Ethereum\n",
    "single_model = sm.ols(formula = \"Bitcoin ~ Ethereum\", data = group_df_rev).fit()\n",
    "single_model.summary()"
   ]
  },
  {
   "cell_type": "markdown",
   "metadata": {},
   "source": [
    "**Interpretation:**<br>\n",
    "**1)** As discussed above, the R-squared value of the model based on Ethereum is 0.99, which means that the model accounts for 99% of the variance in bitcoin.<br>\n",
    "**2)** Single linear model: * Bitcoin = beta_0 + beta_1 * Ethereum --> Bitcoin = -221.5556 + 27.1706 * Ethereum. <br>\n",
    "**3)** The coeffienct of Etherium is positive, meaning, if Ethereum increases by 1 unit then Bitcoin increases by 27.1706 units. (positive correlation)<br>\n",
    "**4)** The p-value of Ethereum's coefficient is 0, meaning, it is significatly different and thus it doesn't occur by chance.<br>"
   ]
  },
  {
   "cell_type": "code",
   "execution_count": 33,
   "metadata": {},
   "outputs": [
    {
     "name": "stdout",
     "output_type": "stream",
     "text": [
      "Coefficients:\n",
      "-----------------------------\n",
      "Cardano : -323.7104577408953\n",
      "Tether : -80.14774323231245\n",
      "XRP : -652.751883964068\n",
      "Stellar : -337.8922164704557\n"
     ]
    }
   ],
   "source": [
    "# since we have already observed that XRP, Tether and Cardano are negatively correlated to Bitcoin, \n",
    "# we can fit the mosel with these features to observe how much each influences Bitcoin.\n",
    "\n",
    "# necessary features\n",
    "features = ['Cardano', 'Tether', 'XRP', 'Stellar']\n",
    "model_data = group_df_rev[['Binance', 'Bitcoin', 'Cardano', 'ChainLink', 'Ethereum', 'Litecoin', 'Polkadot', 'Stellar', 'Tether', 'XRP']]\n",
    "\n",
    "print('Coefficients:')\n",
    "print('-----------------------------')\n",
    "for i in range(len(features)):\n",
    "    formula = 'Bitcoin ~ ' + features[i]\n",
    "    single_model = sm.ols(formula = formula, data = model_data).fit()\n",
    "    print(features[i], ':', single_model.params[1])"
   ]
  },
  {
   "cell_type": "markdown",
   "metadata": {},
   "source": [
    "**Interpretation:**<br>\n",
    "**1)** For one unit of increase in Bitcoin, XRP, Stellar, Cardano and Tether each decreases 653, 338, 324 and 80 in units respectively.<br>\n",
    "**2)** XRP can be observed to be the highest negatively correlated currency to Bitoin, followed by Stellar, Cardano and finally Tether.<br>"
   ]
  },
  {
   "cell_type": "code",
   "execution_count": 34,
   "metadata": {},
   "outputs": [],
   "source": [
    "# Convert string date values into date format\n",
    "check['Date'] = le.fit_transform(check['Date'])"
   ]
  },
  {
   "cell_type": "code",
   "execution_count": 35,
   "metadata": {},
   "outputs": [],
   "source": [
    "# x and y coordinates for prediction the market capital\n",
    "x = check[['Date', 'Crypto', 'Volume', 'OpenClose', 'HighLow', 'AvgPrice']]\n",
    "y = check['MarketCap']"
   ]
  },
  {
   "cell_type": "code",
   "execution_count": 36,
   "metadata": {},
   "outputs": [],
   "source": [
    "# x and y coordinates for predicting the average price\n",
    "x1 = check[['Date', 'Crypto', 'MarketCap', 'Volume', 'OpenClose', 'HighLow']]\n",
    "y1 = check['AvgPrice']"
   ]
  },
  {
   "cell_type": "code",
   "execution_count": 37,
   "metadata": {},
   "outputs": [],
   "source": [
    "# Split the dataset into train and test set for predicting the market capital\n",
    "x_train, x_test, y_train, y_test = train_test_split(x, y, test_size = 0.2, random_state = 0)"
   ]
  },
  {
   "cell_type": "code",
   "execution_count": 38,
   "metadata": {},
   "outputs": [],
   "source": [
    "# Split the dataset into train and test set for predicting the average price\n",
    "x_train1, x_test1, y_train1, y_test1 = train_test_split(x1, y1, test_size = 0.2, random_state = 0)"
   ]
  },
  {
   "cell_type": "code",
   "execution_count": 39,
   "metadata": {},
   "outputs": [],
   "source": [
    "# fit the gradient boosting regression model on train set \n",
    "model_GBR = GradientBoostingRegressor().fit(x_train, y_train)\n",
    "y_pred_GBR = model_GBR.predict(x_test) # predict values on test set\n",
    "\n",
    "# compute the accuracy of train and test set\n",
    "score_train_GBR = model_GBR.score(x_train, y_train)\n",
    "score_test_GBR = model_GBR.score(x_test, y_test)"
   ]
  },
  {
   "cell_type": "code",
   "execution_count": 40,
   "metadata": {},
   "outputs": [
    {
     "name": "stdout",
     "output_type": "stream",
     "text": [
      "Gradient Boosting Regression Results: \n",
      "---------------------------------------\n",
      "Train score:  0.9980339075137902\n",
      "---------------------------------------\n",
      "Test score:  0.997510609707391\n"
     ]
    }
   ],
   "source": [
    "print('Gradient Boosting Regression Results: ')\n",
    "print('---------------------------------------')\n",
    "print('Train score: ', score_train_GBR)\n",
    "print('---------------------------------------')\n",
    "print('Test score: ', score_test_GBR)"
   ]
  },
  {
   "cell_type": "markdown",
   "metadata": {},
   "source": [
    "**Interpretation:**<br>\n",
    "**1)** With around 99% for both training and testing accuracy, the model is optimal.<br>"
   ]
  },
  {
   "cell_type": "code",
   "execution_count": 41,
   "metadata": {},
   "outputs": [],
   "source": [
    "# fit random forest regression model on train set\n",
    "model_RFR = RandomForestRegressor().fit(x_train, y_train)\n",
    "# predict the value on test set\n",
    "y_pred_RFR = model_RFR.predict(x_test)\n",
    "# compute the accuracy of train and test set\n",
    "score_train_RFR = model_RFR.score(x_train, y_train)\n",
    "score_test_RFR = model_RFR.score(x_test, y_test)"
   ]
  },
  {
   "cell_type": "code",
   "execution_count": 42,
   "metadata": {},
   "outputs": [
    {
     "name": "stdout",
     "output_type": "stream",
     "text": [
      "Random Forest Regression Results: \n",
      "---------------------------------------\n",
      "Train score:  0.9999586036094334\n",
      "---------------------------------------\n",
      "Test score:  0.9997182077616843\n"
     ]
    }
   ],
   "source": [
    "print('Random Forest Regression Results: ')\n",
    "print('---------------------------------------')\n",
    "print('Train score: ', score_train_RFR)\n",
    "print('---------------------------------------')\n",
    "print('Test score: ', score_test_RFR)"
   ]
  },
  {
   "cell_type": "markdown",
   "metadata": {},
   "source": [
    "**Interpretation:**<br>\n",
    "**1)** Again, same as the GBR, with around 99% for both training and testing accuracy, the model is optimal.<br>\n",
    "**2)** Since both models so far have a 99% accuracy, we may assume that the 99% accuracy is more to the correct direction.<br>"
   ]
  },
  {
   "cell_type": "code",
   "execution_count": 43,
   "metadata": {},
   "outputs": [],
   "source": [
    "# Compare all acurracies of train and test sets of different regression models\n",
    "indices = ['Test_GBR', 'Train_GBR', 'Test_RFR', 'Train_RFR']\n",
    "scores = [score_test_GBR, score_train_GBR, score_test_RFR, score_train_RFR]"
   ]
  },
  {
   "cell_type": "code",
   "execution_count": 44,
   "metadata": {},
   "outputs": [
    {
     "data": {
      "image/png": "[encoded data removed]",
      "text/plain": [
       "<Figure size 1080x360 with 1 Axes>"
      ]
     },
     "metadata": {
      "needs_background": "light"
     },
     "output_type": "display_data"
    }
   ],
   "source": [
    "# Plot the train score of different regression models\n",
    "plt.bar(indices, scores)\n",
    "plt.xlabel('Models')\n",
    "plt.ylabel('Scores')\n",
    "plt.title('Test and Train scores of Market capital of 2 models')\n",
    "plt.show()"
   ]
  },
  {
   "cell_type": "markdown",
   "metadata": {},
   "source": [
    "**Interpretation:**<br>\n",
    "**1)** Visualization of the constant accuracy rates"
   ]
  },
  {
   "cell_type": "code",
   "execution_count": 45,
   "metadata": {},
   "outputs": [],
   "source": [
    "# fit the gradient boosting regression model on train set \n",
    "model_GBR1 = GradientBoostingRegressor().fit(x_train1, y_train1)\n",
    "# predict values on test set\n",
    "y_pred_GBR1 = model_GBR1.predict(x_test1)\n",
    "# compute the accuracy of train and test set\n",
    "score_train_GBR1 = model_GBR1.score(x_train1, y_train1)\n",
    "score_test_GBR1 = model_GBR1.score(x_test1, y_test1)"
   ]
  },
  {
   "cell_type": "code",
   "execution_count": 46,
   "metadata": {},
   "outputs": [
    {
     "name": "stdout",
     "output_type": "stream",
     "text": [
      "Gradient Boosting Regression Results: \n",
      "---------------------------------------\n",
      "Train score:  0.9952592516995146\n",
      "---------------------------------------\n",
      "Test score:  0.992094641766142\n"
     ]
    }
   ],
   "source": [
    "print('Gradient Boosting Regression Results: ')\n",
    "print('---------------------------------------')\n",
    "print('Train score: ', score_train_GBR1)\n",
    "print('---------------------------------------')\n",
    "print('Test score: ', score_test_GBR1)"
   ]
  },
  {
   "cell_type": "markdown",
   "metadata": {},
   "source": [
    "**Interpretation:**<br>\n",
    "**1)** Just as for the prediction of market capital, the accuracy is around 99% for the prediction of average price using GBR."
   ]
  },
  {
   "cell_type": "code",
   "execution_count": 47,
   "metadata": {},
   "outputs": [],
   "source": [
    "# fit random forest regression model on train set\n",
    "model_RFR1 = RandomForestRegressor().fit(x_train1, y_train1)\n",
    "# predict the value on test set\n",
    "y_pred_RFR1 = model_RFR1.predict(x_test1)\n",
    "# compute the accuracy of train and test set\n",
    "score_train_RFR1 = model_RFR1.score(x_train1, y_train1)\n",
    "score_test_RFR1 = model_RFR1.score(x_test1, y_test1)"
   ]
  },
  {
   "cell_type": "code",
   "execution_count": 48,
   "metadata": {},
   "outputs": [
    {
     "name": "stdout",
     "output_type": "stream",
     "text": [
      "Random Forest Regression Results: \n",
      "---------------------------------------\n",
      "Train score:  0.9994319237122652\n",
      "---------------------------------------\n",
      "Test score:  0.9966446669607306\n"
     ]
    }
   ],
   "source": [
    "print('Random Forest Regression Results: ')\n",
    "print('---------------------------------------')\n",
    "print('Train score: ', score_train_RFR1)\n",
    "print('---------------------------------------')\n",
    "print('Test score: ', score_test_RFR1)"
   ]
  },
  {
   "cell_type": "markdown",
   "metadata": {},
   "source": [
    "**Interpretation:**<br>\n",
    "**1)** Having both the models produce and accuracy of around 99% for the prediction of average price confirms the correctness."
   ]
  },
  {
   "cell_type": "code",
   "execution_count": 49,
   "metadata": {},
   "outputs": [],
   "source": [
    "# dataframe of test data and the predictions generated of Market cap\n",
    "result_mc = pd.DataFrame()\n",
    "result_mc = x_test\n",
    "result_mc['GBR'] = y_pred_GBR\n",
    "result_mc['RFR'] = y_pred_RFR\n",
    "result_mc['Average_MC_Pred'] = (y_pred_GBR + y_pred_RFR) / 2\n",
    "result_mc['Date'] = le.inverse_transform(result_mc['Date'])\n",
    "result_mc.sort_values(by=['Date'], inplace = True, ascending=False)"
   ]
  },
  {
   "cell_type": "code",
   "execution_count": 50,
   "metadata": {},
   "outputs": [],
   "source": [
    "# dataframe of test data and the predictions generated of Average price\n",
    "result_price = pd.DataFrame()\n",
    "result_price = x_test1\n",
    "result_price['GBR'] = y_pred_GBR1\n",
    "result_price['RFR'] = y_pred_RFR1\n",
    "result_price['Average_Price_Pred'] = (y_pred_GBR1 + y_pred_RFR1) / 2\n",
    "result_price['Date'] = le.inverse_transform(result_price['Date'])\n",
    "result_price.sort_values(by=['Date'], inplace = True, ascending=False)"
   ]
  },
  {
   "cell_type": "code",
   "execution_count": 51,
   "metadata": {},
   "outputs": [],
   "source": [
    "# reverting the cryptocurrencies from numeric to string format\n",
    "market_cap = pd.DataFrame()\n",
    "avg_price = pd.DataFrame()\n",
    "\n",
    "for i in range(len(cryptos)):\n",
    "    data1 = result_mc[result_mc['Crypto'] == i]\n",
    "    data2 = result_price[result_price['Crypto'] == i]\n",
    "    \n",
    "    for j in range(len(data1)):\n",
    "        data1.iloc[j, 1] = cryptos[i]\n",
    "        data2.iloc[j, 1] = cryptos[i]\n",
    "    \n",
    "    market_cap = pd.concat([market_cap, data1])\n",
    "    avg_price = pd.concat([avg_price, data2])"
   ]
  },
  {
   "cell_type": "code",
   "execution_count": 52,
   "metadata": {},
   "outputs": [],
   "source": [
    "# Compare all acurracies of train and test sets of different regression models\n",
    "scores1 = [score_test_GBR1, score_train_GBR1, score_test_RFR1, score_train_RFR1]"
   ]
  },
  {
   "cell_type": "code",
   "execution_count": 53,
   "metadata": {},
   "outputs": [
    {
     "data": {
      "image/png": "[encoded data removed]",
      "text/plain": [
       "<Figure size 1080x360 with 1 Axes>"
      ]
     },
     "metadata": {
      "needs_background": "light"
     },
     "output_type": "display_data"
    }
   ],
   "source": [
    "# Plot the train score of different regression models\n",
    "plt.bar(indices, scores1)\n",
    "plt.xlabel('Models')\n",
    "plt.ylabel('Scores')\n",
    "plt.title('Train and Test scores of average price of 2 models')\n",
    "plt.show()"
   ]
  },
  {
   "cell_type": "markdown",
   "metadata": {},
   "source": [
    "**Interpretation:**<br>\n",
    "**1)** Again, having similar accuracy scores for all train and test models assures correctness."
   ]
  },
  {
   "cell_type": "code",
   "execution_count": 54,
   "metadata": {},
   "outputs": [],
   "source": [
    "# grouping dataframe by crypto to create test dataframe of market capital\n",
    "group_mc = market_cap.groupby('Crypto')\n",
    "group_mc_all = pd.DataFrame()"
   ]
  },
  {
   "cell_type": "code",
   "execution_count": 55,
   "metadata": {},
   "outputs": [],
   "source": [
    "cols = market_cap.columns # columns of test and predicted dataset\n",
    "group_mc_all['Crypto'] = market_cap['Crypto'].unique() # grouping based on cryptocurrencies\n",
    "\n",
    "# for every other feature, calculate the mean of them and add them to the dataframe\n",
    "for i in range(len(cols)):\n",
    "    if cols[i] != 'Date' and cols[i] != 'Crypto':\n",
    "        vals = group_mc[cols[i]].agg(np.mean)\n",
    "        group_mc_all[cols[i]] = vals.values"
   ]
  },
  {
   "cell_type": "code",
   "execution_count": 56,
   "metadata": {},
   "outputs": [],
   "source": [
    "# grouping dataframe by crypto to create test dataframe of average price\n",
    "group_price = avg_price.groupby('Crypto')\n",
    "group_price_all = pd.DataFrame()"
   ]
  },
  {
   "cell_type": "code",
   "execution_count": 57,
   "metadata": {},
   "outputs": [],
   "source": [
    "cols = avg_price.columns # columns of test and predicted dataset\n",
    "group_price_all['Crypto'] = avg_price['Crypto'].unique()\n",
    "\n",
    "# for every other feature, calculate the mean of them and add them to the dataframe\n",
    "for i in range(len(cols)):\n",
    "    if cols[i] != 'Date' and cols[i] != 'Crypto':\n",
    "        vals = group_price[cols[i]].agg(np.mean)\n",
    "        group_price_all[cols[i]] = vals.values"
   ]
  },
  {
   "cell_type": "code",
   "execution_count": 58,
   "metadata": {},
   "outputs": [
    {
     "data": {
      "image/png": "[encoded data removed]",
      "text/plain": [
       "<Figure size 1080x360 with 1 Axes>"
      ]
     },
     "metadata": {
      "needs_background": "light"
     },
     "output_type": "display_data"
    }
   ],
   "source": [
    "# plotting the average price of each cryptocurrency\n",
    "plt.bar(group_price_all['Crypto'], group_price_all['Average_Price_Pred'])\n",
    "plt.xlabel('Cryptocurencies')\n",
    "plt.ylabel('Average Prices')\n",
    "plt.title('Predicted average prices of top 10 cryptocurrencies')\n",
    "plt.show()"
   ]
  },
  {
   "cell_type": "markdown",
   "metadata": {},
   "source": [
    "**Interpretation:**<br>\n",
    "**1)** As we've observed so far, Bitcoin has the highest average price predicted.<br>\n",
    "**2)** Ethereum and Litecoin follow after.<br>\n",
    "**3)** Below is another plot without Bitcoin so as to observe the other ccoins better.<br>"
   ]
  },
  {
   "cell_type": "code",
   "execution_count": 59,
   "metadata": {},
   "outputs": [
    {
     "data": {
      "image/png": "[encoded data removed]",
      "text/plain": [
       "<Figure size 1080x360 with 1 Axes>"
      ]
     },
     "metadata": {
      "needs_background": "light"
     },
     "output_type": "display_data"
    }
   ],
   "source": [
    "# plotting the average price of all cryptocurrencies except Bitcoin (so we can see better)\n",
    "group_price_all = group_price_all[group_price_all['Crypto'] != 'Bitcoin']\n",
    "plt.bar(group_price_all['Crypto'], group_price_all['Average_Price_Pred'])\n",
    "plt.xlabel('Cryptocurencies')\n",
    "plt.ylabel('Average Prices')\n",
    "plt.title('Predicted average prices of top 9 cryptocurrencies (without Bitcoin)')\n",
    "plt.show()"
   ]
  },
  {
   "cell_type": "markdown",
   "metadata": {},
   "source": [
    "**Interpretation:**<br>\n",
    "**1)** After Bitcoin, Ethereum and Litecoin, Binance and XRP have relatively high average prices.<br>\n",
    "**2)** Tether, since always having 1 dollar of average price, is one of the least average prices.<br>\n",
    "**3)** However, Stellar has an average price lower than Tether, meaning this is much less attractive than any other currencies.<br>"
   ]
  },
  {
   "cell_type": "code",
   "execution_count": 60,
   "metadata": {},
   "outputs": [
    {
     "data": {
      "image/png": "[encoded data removed]",
      "text/plain": [
       "<Figure size 1080x360 with 1 Axes>"
      ]
     },
     "metadata": {
      "needs_background": "light"
     },
     "output_type": "display_data"
    }
   ],
   "source": [
    "# plotting the average market capital percentage of all cryptocurrencies\n",
    "plt.bar(group_mc_all['Crypto'], group_mc_all['Average_MC_Pred'])\n",
    "plt.xlabel('Cryptocurencies')\n",
    "plt.ylabel('Market Capital percentages')\n",
    "plt.title('Predicted average market capital percentages of top 10 cryptocurrencies')\n",
    "plt.show()"
   ]
  },
  {
   "cell_type": "markdown",
   "metadata": {},
   "source": [
    "**Interpretation:**<br>\n",
    "**1)** Again, as we've observed so far, Bitcoin has the highest market capital predicted.<br>\n",
    "**2)** Ethereum and XRP follow after.<br>\n",
    "**3)** Tether and Litecoin are on the same level, and the rest of the currencies indicate less attractiveness.<br>"
   ]
  },
  {
   "cell_type": "markdown",
   "metadata": {},
   "source": [
    "### POINTS FOR VIDEO"
   ]
  },
  {
   "cell_type": "markdown",
   "metadata": {},
   "source": [
    "**1)** The first plot with market capital --> Bitcoin, Ethereum, Litecoin, Tether and XRP are in the attractive list. <br>\n",
    "**2)** This is confirmed with the volume plot --> all of the above are in the highest volume plot as well, but now Tether the 2nd highest volume.<br>\n",
    "**3)** Jerry might be wondering between all of the above and be very interested in Tether, because of the highest volume.<br>\n",
    "**4)** But he learns the reason behind it --> 1 dollar and changing back and forth from other currencies. <br>\n",
    "**5)** So he might not actually find it attractive anymore. <br>\n",
    "**6)** Opening and Closing price differences confirm that he's definitely not interested in Polkadot. <br>\n",
    "**7)** Highest and Loweste price differences confirm the above again, plus that he is not interested in Cardano, ChainLink and Stellar either.<br>\n",
    "**8)** Checking the colorful matrix, he realizes that he should either buy Tether and/or XRP or Bitcoin, Litecoin, Ethereum and/or Binance --> negative correlation. <br>\n",
    "**9)** He uses agents GBR and RFR who are 99% accurate in the work they do to investigate further and finds out that Bitcoin shall have the highest average price and market capital in the future as well. <br>\n",
    "**10)** They also recommend Ethereum and XRP in case he is broke, however, he has to make sure that he doesn't buy both. <br>\n",
    "**11)** Since Jerry is very rich, he might want to invest all of his money on Bitcoin, or if he first wants to go easy, he could go for either Ethereum or XRP.<br>"
   ]
  },
  {
   "cell_type": "code",
   "execution_count": 61,
   "metadata": {},
   "outputs": [
    {
     "name": "stdout",
     "output_type": "stream",
     "text": [
      "              Crypto      Open      High       Low     Close    Volume  \\\n",
      "Crypto      1.000000 -0.312287 -0.310542 -0.314440 -0.311730  0.067348   \n",
      "Open       -0.312287  1.000000  0.999392  0.998953  0.998759  0.437690   \n",
      "High       -0.310542  0.999392  1.000000  0.998860  0.999534  0.438581   \n",
      "Low        -0.314440  0.998953  0.998860  1.000000  0.999288  0.435956   \n",
      "Close      -0.311730  0.998759  0.999534  0.999288  1.000000  0.437566   \n",
      "Volume      0.067348  0.437690  0.438581  0.435956  0.437566  1.000000   \n",
      "Market Cap -0.267469  0.976757  0.977778  0.977034  0.978129  0.476720   \n",
      "\n",
      "            Market Cap  \n",
      "Crypto       -0.267469  \n",
      "Open          0.976757  \n",
      "High          0.977778  \n",
      "Low           0.977034  \n",
      "Close         0.978129  \n",
      "Volume        0.476720  \n",
      "Market Cap    1.000000  \n",
      "Days that are forecasted: 571\n"
     ]
    }
   ],
   "source": [
    "import math\n",
    "\n",
    "# Time-series forcasting\n",
    "cor_matrix = df.corr()\n",
    "print(cor_matrix)\n",
    "\n",
    "forecast = int(math.ceil(0.05 * len(df))) # forcasting out 5% of the entire dataset\n",
    "print('Days that are forecasted:',forecast)\n",
    "df['Pred_mc'] = df['Market Cap'].shift(-forecast)\n",
    "df['Pred_close'] = df['Close'].shift(-forecast)"
   ]
  },
  {
   "cell_type": "code",
   "execution_count": 62,
   "metadata": {},
   "outputs": [],
   "source": [
    "#df['Date'] = datetime.fromtimestamp(df['Date'])\n",
    "#df1['Date']=df1['Date'].astype(np.int64)\n",
    "#df1\n",
    "df['Date'] = le.fit_transform(df['Date'])"
   ]
  },
  {
   "cell_type": "code",
   "execution_count": 63,
   "metadata": {},
   "outputs": [
    {
     "data": {
      "text/html": [
       "<div>\n",
       "<style scoped>\n",
       "    .dataframe tbody tr th:only-of-type {\n",
       "        vertical-align: middle;\n",
       "    }\n",
       "\n",
       "    .dataframe tbody tr th {\n",
       "        vertical-align: top;\n",
       "    }\n",
       "\n",
       "    .dataframe thead th {\n",
       "        text-align: right;\n",
       "    }\n",
       "</style>\n",
       "<table border=\"1\" class=\"dataframe\">\n",
       "  <thead>\n",
       "    <tr style=\"text-align: right;\">\n",
       "      <th></th>\n",
       "      <th>Date</th>\n",
       "      <th>Crypto</th>\n",
       "      <th>Open</th>\n",
       "      <th>High</th>\n",
       "      <th>Low</th>\n",
       "      <th>Close</th>\n",
       "      <th>Volume</th>\n",
       "      <th>Market Cap</th>\n",
       "      <th>Pred_mc</th>\n",
       "      <th>Pred_close</th>\n",
       "    </tr>\n",
       "  </thead>\n",
       "  <tbody>\n",
       "    <tr>\n",
       "      <th>1315</th>\n",
       "      <td>1246</td>\n",
       "      <td>1</td>\n",
       "      <td>46194.016352</td>\n",
       "      <td>46716.430993</td>\n",
       "      <td>43241.618227</td>\n",
       "      <td>45137.770468</td>\n",
       "      <td>5.344389e+10</td>\n",
       "      <td>8.414290e+11</td>\n",
       "      <td>2.133304e+11</td>\n",
       "      <td>11941.968341</td>\n",
       "    </tr>\n",
       "    <tr>\n",
       "      <th>1316</th>\n",
       "      <td>1245</td>\n",
       "      <td>1</td>\n",
       "      <td>46344.772237</td>\n",
       "      <td>48253.270101</td>\n",
       "      <td>45269.025766</td>\n",
       "      <td>46188.451275</td>\n",
       "      <td>4.591095e+10</td>\n",
       "      <td>8.609781e+11</td>\n",
       "      <td>2.050233e+11</td>\n",
       "      <td>11478.169346</td>\n",
       "    </tr>\n",
       "    <tr>\n",
       "      <th>1317</th>\n",
       "      <td>1244</td>\n",
       "      <td>1</td>\n",
       "      <td>47180.464054</td>\n",
       "      <td>48370.785260</td>\n",
       "      <td>44454.842114</td>\n",
       "      <td>46339.760083</td>\n",
       "      <td>3.509679e+11</td>\n",
       "      <td>8.637523e+11</td>\n",
       "      <td>2.108488e+11</td>\n",
       "      <td>11805.653725</td>\n",
       "    </tr>\n",
       "    <tr>\n",
       "      <th>1318</th>\n",
       "      <td>1243</td>\n",
       "      <td>1</td>\n",
       "      <td>49709.082425</td>\n",
       "      <td>51948.966982</td>\n",
       "      <td>47093.853019</td>\n",
       "      <td>47093.853019</td>\n",
       "      <td>5.450657e+10</td>\n",
       "      <td>8.777661e+11</td>\n",
       "      <td>1.959079e+11</td>\n",
       "      <td>10970.184216</td>\n",
       "    </tr>\n",
       "    <tr>\n",
       "      <th>1319</th>\n",
       "      <td>1242</td>\n",
       "      <td>1</td>\n",
       "      <td>48835.087661</td>\n",
       "      <td>51290.136695</td>\n",
       "      <td>47213.498162</td>\n",
       "      <td>49705.333316</td>\n",
       "      <td>6.369552e+10</td>\n",
       "      <td>9.263931e+11</td>\n",
       "      <td>1.932340e+11</td>\n",
       "      <td>10821.726510</td>\n",
       "    </tr>\n",
       "    <tr>\n",
       "      <th>...</th>\n",
       "      <td>...</td>\n",
       "      <td>...</td>\n",
       "      <td>...</td>\n",
       "      <td>...</td>\n",
       "      <td>...</td>\n",
       "      <td>...</td>\n",
       "      <td>...</td>\n",
       "      <td>...</td>\n",
       "      <td>...</td>\n",
       "      <td>...</td>\n",
       "    </tr>\n",
       "    <tr>\n",
       "      <th>2557</th>\n",
       "      <td>4</td>\n",
       "      <td>1</td>\n",
       "      <td>4229.879883</td>\n",
       "      <td>4362.640137</td>\n",
       "      <td>4164.049805</td>\n",
       "      <td>4328.410156</td>\n",
       "      <td>1.161770e+09</td>\n",
       "      <td>7.187628e+10</td>\n",
       "      <td>1.372521e+09</td>\n",
       "      <td>0.052938</td>\n",
       "    </tr>\n",
       "    <tr>\n",
       "      <th>2558</th>\n",
       "      <td>3</td>\n",
       "      <td>1</td>\n",
       "      <td>4319.370117</td>\n",
       "      <td>4352.310059</td>\n",
       "      <td>4210.419922</td>\n",
       "      <td>4229.359863</td>\n",
       "      <td>1.116770e+09</td>\n",
       "      <td>7.022503e+10</td>\n",
       "      <td>1.425500e+09</td>\n",
       "      <td>0.054981</td>\n",
       "    </tr>\n",
       "    <tr>\n",
       "      <th>2559</th>\n",
       "      <td>2</td>\n",
       "      <td>1</td>\n",
       "      <td>4408.459961</td>\n",
       "      <td>4432.470215</td>\n",
       "      <td>4258.890137</td>\n",
       "      <td>4317.479980</td>\n",
       "      <td>1.288020e+09</td>\n",
       "      <td>7.168107e+10</td>\n",
       "      <td>1.347716e+09</td>\n",
       "      <td>0.051981</td>\n",
       "    </tr>\n",
       "    <tr>\n",
       "      <th>2560</th>\n",
       "      <td>1</td>\n",
       "      <td>1</td>\n",
       "      <td>4395.810059</td>\n",
       "      <td>4470.229980</td>\n",
       "      <td>4377.459961</td>\n",
       "      <td>4409.319824</td>\n",
       "      <td>1.431730e+09</td>\n",
       "      <td>7.319565e+10</td>\n",
       "      <td>1.235204e+09</td>\n",
       "      <td>0.047641</td>\n",
       "    </tr>\n",
       "    <tr>\n",
       "      <th>2561</th>\n",
       "      <td>0</td>\n",
       "      <td>1</td>\n",
       "      <td>4341.049805</td>\n",
       "      <td>4403.740234</td>\n",
       "      <td>4269.810059</td>\n",
       "      <td>4403.740234</td>\n",
       "      <td>1.208210e+09</td>\n",
       "      <td>7.309487e+10</td>\n",
       "      <td>1.347438e+09</td>\n",
       "      <td>0.051970</td>\n",
       "    </tr>\n",
       "  </tbody>\n",
       "</table>\n",
       "<p>1247 rows × 10 columns</p>\n",
       "</div>"
      ],
      "text/plain": [
       "      Date  Crypto          Open          High           Low         Close  \\\n",
       "1315  1246       1  46194.016352  46716.430993  43241.618227  45137.770468   \n",
       "1316  1245       1  46344.772237  48253.270101  45269.025766  46188.451275   \n",
       "1317  1244       1  47180.464054  48370.785260  44454.842114  46339.760083   \n",
       "1318  1243       1  49709.082425  51948.966982  47093.853019  47093.853019   \n",
       "1319  1242       1  48835.087661  51290.136695  47213.498162  49705.333316   \n",
       "...    ...     ...           ...           ...           ...           ...   \n",
       "2557     4       1   4229.879883   4362.640137   4164.049805   4328.410156   \n",
       "2558     3       1   4319.370117   4352.310059   4210.419922   4229.359863   \n",
       "2559     2       1   4408.459961   4432.470215   4258.890137   4317.479980   \n",
       "2560     1       1   4395.810059   4470.229980   4377.459961   4409.319824   \n",
       "2561     0       1   4341.049805   4403.740234   4269.810059   4403.740234   \n",
       "\n",
       "            Volume    Market Cap       Pred_mc    Pred_close  \n",
       "1315  5.344389e+10  8.414290e+11  2.133304e+11  11941.968341  \n",
       "1316  4.591095e+10  8.609781e+11  2.050233e+11  11478.169346  \n",
       "1317  3.509679e+11  8.637523e+11  2.108488e+11  11805.653725  \n",
       "1318  5.450657e+10  8.777661e+11  1.959079e+11  10970.184216  \n",
       "1319  6.369552e+10  9.263931e+11  1.932340e+11  10821.726510  \n",
       "...            ...           ...           ...           ...  \n",
       "2557  1.161770e+09  7.187628e+10  1.372521e+09      0.052938  \n",
       "2558  1.116770e+09  7.022503e+10  1.425500e+09      0.054981  \n",
       "2559  1.288020e+09  7.168107e+10  1.347716e+09      0.051981  \n",
       "2560  1.431730e+09  7.319565e+10  1.235204e+09      0.047641  \n",
       "2561  1.208210e+09  7.309487e+10  1.347438e+09      0.051970  \n",
       "\n",
       "[1247 rows x 10 columns]"
      ]
     },
     "execution_count": 63,
     "metadata": {},
     "output_type": "execute_result"
    }
   ],
   "source": [
    "# drop all except btc\n",
    "#df1[df1.Crypto != '1']\n",
    "#df[:-3]\n",
    "\n",
    "df1 = df[ df['Crypto'] ==1]\n",
    "df1\n",
    "\n"
   ]
  },
  {
   "cell_type": "code",
   "execution_count": 64,
   "metadata": {},
   "outputs": [
    {
     "name": "stdout",
     "output_type": "stream",
     "text": [
      "(676, 9) (676,)\n"
     ]
    },
    {
     "data": {
      "text/plain": [
       "0.9997670248357254"
      ]
     },
     "execution_count": 64,
     "metadata": {},
     "output_type": "execute_result"
    }
   ],
   "source": [
    "from sklearn.preprocessing import StandardScaler\n",
    "from datetime import datetime\n",
    "\n",
    "scaler = StandardScaler()\n",
    "X = np.array(df1.drop(['Pred_mc'], 1)) \n",
    "scaler.fit(X)\n",
    "\n",
    "X = scaler.transform(X)\n",
    "\n",
    "X_Pred2 = X[-forecast:] # data to be predicted\n",
    "X = X[:-forecast] # data to be trained\n",
    "\n",
    "df.dropna(inplace=True)\n",
    "y = np.array(df1['Pred_mc'])\n",
    "y = y[:-forecast]\n",
    "print(X.shape, y.shape)\n",
    "\n",
    "X_train, X_test, y_train, y_test = train_test_split(X, y, test_size=0.3, random_state=42)\n",
    "\n",
    "lr = LinearRegression()\n",
    "lr.fit(X_train, y_train)\n",
    "lr_confidence = lr.score(X_test, y_test)\n",
    "lr_confidence"
   ]
  },
  {
   "cell_type": "code",
   "execution_count": 65,
   "metadata": {},
   "outputs": [],
   "source": [
    "last_date = df1.index[-1] #getting the lastdate in the dataset\n",
    "#last_unix = last_date.timestamp() #converting it to time in seconds\n",
    "one_day = 86400 #one day equals 86400 seconds\n",
    "next_unix = last_date + one_day # getting the time in seconds for the next day\n",
    "forecast_set = lr.predict(X_Pred2) # predicting forecast data\n",
    "df1['Forecast'] = np.nan\n",
    "for i in forecast_set:\n",
    "    next_date = datetime.fromtimestamp(next_unix)\n",
    "    next_unix += 86400\n",
    "    df1.loc[next_date] = [np.nan for _ in range(len(df1.columns)-1)]+[i]\n",
    "    "
   ]
  },
  {
   "cell_type": "code",
   "execution_count": 66,
   "metadata": {
    "scrolled": true
   },
   "outputs": [
    {
     "data": {
      "image/png": "[encoded data removed]",
      "text/plain": [
       "<Figure size 1296x576 with 1 Axes>"
      ]
     },
     "metadata": {
      "needs_background": "light"
     },
     "output_type": "display_data"
    }
   ],
   "source": [
    "plt.figure(figsize=(18, 8))\n",
    "df1['Market Cap'].plot()\n",
    "df1['Forecast'].plot()\n",
    "plt.legend(loc=1)\n",
    "plt.xlabel('date')\n",
    "plt.ylabel('Market Cap')\n",
    "plt.title('Predicted market capital of Bitcoin')\n",
    "plt.show()"
   ]
  },
  {
   "cell_type": "code",
   "execution_count": 67,
   "metadata": {
    "scrolled": true
   },
   "outputs": [
    {
     "data": {
      "text/html": [
       "<div>\n",
       "<style scoped>\n",
       "    .dataframe tbody tr th:only-of-type {\n",
       "        vertical-align: middle;\n",
       "    }\n",
       "\n",
       "    .dataframe tbody tr th {\n",
       "        vertical-align: top;\n",
       "    }\n",
       "\n",
       "    .dataframe thead th {\n",
       "        text-align: right;\n",
       "    }\n",
       "</style>\n",
       "<table border=\"1\" class=\"dataframe\">\n",
       "  <thead>\n",
       "    <tr style=\"text-align: right;\">\n",
       "      <th></th>\n",
       "      <th>Date</th>\n",
       "      <th>Crypto</th>\n",
       "      <th>Open</th>\n",
       "      <th>High</th>\n",
       "      <th>Low</th>\n",
       "      <th>Close</th>\n",
       "      <th>Volume</th>\n",
       "      <th>Market Cap</th>\n",
       "      <th>Pred_mc</th>\n",
       "      <th>Pred_close</th>\n",
       "    </tr>\n",
       "  </thead>\n",
       "  <tbody>\n",
       "    <tr>\n",
       "      <th>6684</th>\n",
       "      <td>1246</td>\n",
       "      <td>4</td>\n",
       "      <td>1459.860435</td>\n",
       "      <td>1468.391510</td>\n",
       "      <td>1300.472117</td>\n",
       "      <td>1416.048906</td>\n",
       "      <td>2.763703e+10</td>\n",
       "      <td>1.626504e+11</td>\n",
       "      <td>2.427551e+10</td>\n",
       "      <td>226.391008</td>\n",
       "    </tr>\n",
       "    <tr>\n",
       "      <th>6685</th>\n",
       "      <td>1245</td>\n",
       "      <td>4</td>\n",
       "      <td>1446.929455</td>\n",
       "      <td>1524.932428</td>\n",
       "      <td>1433.786929</td>\n",
       "      <td>1459.973121</td>\n",
       "      <td>2.074210e+10</td>\n",
       "      <td>1.676759e+11</td>\n",
       "      <td>2.423271e+10</td>\n",
       "      <td>226.020650</td>\n",
       "    </tr>\n",
       "    <tr>\n",
       "      <th>6686</th>\n",
       "      <td>1244</td>\n",
       "      <td>4</td>\n",
       "      <td>1478.653270</td>\n",
       "      <td>1559.028891</td>\n",
       "      <td>1407.979253</td>\n",
       "      <td>1446.033650</td>\n",
       "      <td>3.143600e+10</td>\n",
       "      <td>1.660555e+11</td>\n",
       "      <td>2.510808e+10</td>\n",
       "      <td>234.215027</td>\n",
       "    </tr>\n",
       "    <tr>\n",
       "      <th>6687</th>\n",
       "      <td>1243</td>\n",
       "      <td>4</td>\n",
       "      <td>1625.393882</td>\n",
       "      <td>1670.224062</td>\n",
       "      <td>1465.058946</td>\n",
       "      <td>1475.703735</td>\n",
       "      <td>2.448168e+10</td>\n",
       "      <td>1.694427e+11</td>\n",
       "      <td>2.386737e+10</td>\n",
       "      <td>222.669727</td>\n",
       "    </tr>\n",
       "    <tr>\n",
       "      <th>6688</th>\n",
       "      <td>1242</td>\n",
       "      <td>4</td>\n",
       "      <td>1571.476497</td>\n",
       "      <td>1710.983795</td>\n",
       "      <td>1511.018963</td>\n",
       "      <td>1626.575705</td>\n",
       "      <td>3.132900e+10</td>\n",
       "      <td>1.867440e+11</td>\n",
       "      <td>2.384512e+10</td>\n",
       "      <td>222.490335</td>\n",
       "    </tr>\n",
       "    <tr>\n",
       "      <th>...</th>\n",
       "      <td>...</td>\n",
       "      <td>...</td>\n",
       "      <td>...</td>\n",
       "      <td>...</td>\n",
       "      <td>...</td>\n",
       "      <td>...</td>\n",
       "      <td>...</td>\n",
       "      <td>...</td>\n",
       "      <td>...</td>\n",
       "      <td>...</td>\n",
       "    </tr>\n",
       "    <tr>\n",
       "      <th>7926</th>\n",
       "      <td>4</td>\n",
       "      <td>4</td>\n",
       "      <td>292.773010</td>\n",
       "      <td>298.040985</td>\n",
       "      <td>288.839996</td>\n",
       "      <td>295.863007</td>\n",
       "      <td>2.537470e+08</td>\n",
       "      <td>2.809834e+10</td>\n",
       "      <td>5.404273e+09</td>\n",
       "      <td>85.749230</td>\n",
       "    </tr>\n",
       "    <tr>\n",
       "      <th>7927</th>\n",
       "      <td>3</td>\n",
       "      <td>4</td>\n",
       "      <td>292.753998</td>\n",
       "      <td>299.394012</td>\n",
       "      <td>290.894989</td>\n",
       "      <td>292.657990</td>\n",
       "      <td>2.579060e+08</td>\n",
       "      <td>2.778944e+10</td>\n",
       "      <td>5.655924e+09</td>\n",
       "      <td>89.752667</td>\n",
       "    </tr>\n",
       "    <tr>\n",
       "      <th>7928</th>\n",
       "      <td>2</td>\n",
       "      <td>4</td>\n",
       "      <td>297.483002</td>\n",
       "      <td>300.110992</td>\n",
       "      <td>288.132996</td>\n",
       "      <td>292.463013</td>\n",
       "      <td>3.216800e+08</td>\n",
       "      <td>2.776644e+10</td>\n",
       "      <td>5.382272e+09</td>\n",
       "      <td>85.419476</td>\n",
       "    </tr>\n",
       "    <tr>\n",
       "      <th>7929</th>\n",
       "      <td>1</td>\n",
       "      <td>4</td>\n",
       "      <td>302.481995</td>\n",
       "      <td>302.920013</td>\n",
       "      <td>294.582001</td>\n",
       "      <td>297.475006</td>\n",
       "      <td>3.394430e+08</td>\n",
       "      <td>2.823776e+10</td>\n",
       "      <td>5.319984e+09</td>\n",
       "      <td>84.439377</td>\n",
       "    </tr>\n",
       "    <tr>\n",
       "      <th>7930</th>\n",
       "      <td>0</td>\n",
       "      <td>4</td>\n",
       "      <td>301.546997</td>\n",
       "      <td>303.192993</td>\n",
       "      <td>295.061005</td>\n",
       "      <td>302.337006</td>\n",
       "      <td>3.061850e+08</td>\n",
       "      <td>2.869473e+10</td>\n",
       "      <td>5.671749e+09</td>\n",
       "      <td>90.031608</td>\n",
       "    </tr>\n",
       "  </tbody>\n",
       "</table>\n",
       "<p>1247 rows × 10 columns</p>\n",
       "</div>"
      ],
      "text/plain": [
       "      Date  Crypto         Open         High          Low        Close  \\\n",
       "6684  1246       4  1459.860435  1468.391510  1300.472117  1416.048906   \n",
       "6685  1245       4  1446.929455  1524.932428  1433.786929  1459.973121   \n",
       "6686  1244       4  1478.653270  1559.028891  1407.979253  1446.033650   \n",
       "6687  1243       4  1625.393882  1670.224062  1465.058946  1475.703735   \n",
       "6688  1242       4  1571.476497  1710.983795  1511.018963  1626.575705   \n",
       "...    ...     ...          ...          ...          ...          ...   \n",
       "7926     4       4   292.773010   298.040985   288.839996   295.863007   \n",
       "7927     3       4   292.753998   299.394012   290.894989   292.657990   \n",
       "7928     2       4   297.483002   300.110992   288.132996   292.463013   \n",
       "7929     1       4   302.481995   302.920013   294.582001   297.475006   \n",
       "7930     0       4   301.546997   303.192993   295.061005   302.337006   \n",
       "\n",
       "            Volume    Market Cap       Pred_mc  Pred_close  \n",
       "6684  2.763703e+10  1.626504e+11  2.427551e+10  226.391008  \n",
       "6685  2.074210e+10  1.676759e+11  2.423271e+10  226.020650  \n",
       "6686  3.143600e+10  1.660555e+11  2.510808e+10  234.215027  \n",
       "6687  2.448168e+10  1.694427e+11  2.386737e+10  222.669727  \n",
       "6688  3.132900e+10  1.867440e+11  2.384512e+10  222.490335  \n",
       "...            ...           ...           ...         ...  \n",
       "7926  2.537470e+08  2.809834e+10  5.404273e+09   85.749230  \n",
       "7927  2.579060e+08  2.778944e+10  5.655924e+09   89.752667  \n",
       "7928  3.216800e+08  2.776644e+10  5.382272e+09   85.419476  \n",
       "7929  3.394430e+08  2.823776e+10  5.319984e+09   84.439377  \n",
       "7930  3.061850e+08  2.869473e+10  5.671749e+09   90.031608  \n",
       "\n",
       "[1247 rows x 10 columns]"
      ]
     },
     "execution_count": 67,
     "metadata": {},
     "output_type": "execute_result"
    }
   ],
   "source": [
    "\n",
    "df2 = df[ df['Crypto'] ==4]\n",
    "df2\n"
   ]
  },
  {
   "cell_type": "code",
   "execution_count": 68,
   "metadata": {},
   "outputs": [
    {
     "name": "stdout",
     "output_type": "stream",
     "text": [
      "(676, 9) (676,)\n"
     ]
    },
    {
     "data": {
      "text/plain": [
       "0.9997375279262529"
      ]
     },
     "execution_count": 68,
     "metadata": {},
     "output_type": "execute_result"
    }
   ],
   "source": [
    "\n",
    "scaler = StandardScaler()\n",
    "X = np.array(df2.drop(['Pred_mc'], 1)) \n",
    "scaler.fit(X)\n",
    "\n",
    "X = scaler.transform(X)\n",
    "\n",
    "X_Pred2 = X[-forecast:] # data to be predicted\n",
    "X = X[:-forecast] # data to be trained\n",
    "\n",
    "df.dropna(inplace=True)\n",
    "y = np.array(df2['Pred_mc'])\n",
    "y = y[:-forecast]\n",
    "print(X.shape, y.shape)\n",
    "\n",
    "X_train, X_test, y_train, y_test = train_test_split(X, y, test_size=0.3, random_state=42)\n",
    "\n",
    "lr = LinearRegression()\n",
    "lr.fit(X_train, y_train)\n",
    "lr_confidence = lr.score(X_test, y_test)\n",
    "lr_confidence"
   ]
  },
  {
   "cell_type": "code",
   "execution_count": 69,
   "metadata": {},
   "outputs": [],
   "source": [
    "last_date = df2.index[-1] #getting the lastdate in the dataset\n",
    "#last_unix = last_date.timestamp() #converting it to time in seconds\n",
    "one_day = 86400 #one day equals 86400 seconds\n",
    "next_unix = last_date + one_day # getting the time in seconds for the next day\n",
    "forecast_set = lr.predict(X_Pred2) # predicting forecast data\n",
    "df2['Forecast'] = np.nan\n",
    "for i in forecast_set:\n",
    "    next_date = datetime.fromtimestamp(next_unix)\n",
    "    next_unix += 86400\n",
    "    df2.loc[next_date] = [np.nan for _ in range(len(df2.columns)-1)]+[i]\n",
    "    "
   ]
  },
  {
   "cell_type": "code",
   "execution_count": 70,
   "metadata": {},
   "outputs": [
    {
     "data": {
      "image/png": "[encoded data removed]",
      "text/plain": [
       "<Figure size 1296x576 with 1 Axes>"
      ]
     },
     "metadata": {
      "needs_background": "light"
     },
     "output_type": "display_data"
    }
   ],
   "source": [
    "plt.figure(figsize=(18, 8))\n",
    "df2['Market Cap'].plot()\n",
    "df2['Forecast'].plot()\n",
    "plt.legend(loc=1)\n",
    "plt.xlabel('date')\n",
    "plt.ylabel('Market Cap')\n",
    "plt.title('Predicted market capital of Ethereum')\n",
    "plt.show()"
   ]
  },
  {
   "cell_type": "code",
   "execution_count": 71,
   "metadata": {},
   "outputs": [
    {
     "name": "stdout",
     "output_type": "stream",
     "text": [
      "(676, 9) (676,)\n",
      "0.9991862823122168\n"
     ]
    },
    {
     "data": {
      "image/png": "[encoded data removed]",
      "text/plain": [
       "<Figure size 1296x576 with 1 Axes>"
      ]
     },
     "metadata": {
      "needs_background": "light"
     },
     "output_type": "display_data"
    }
   ],
   "source": [
    "\n",
    "df3 = df[ df['Crypto'] ==5]\n",
    "df3\n",
    "\n",
    "\n",
    "\n",
    "scaler = StandardScaler()\n",
    "X = np.array(df3.drop(['Pred_mc'], 1)) \n",
    "scaler.fit(X)\n",
    "\n",
    "X = scaler.transform(X)\n",
    "\n",
    "X_Pred2 = X[-forecast:] # data to be predicted\n",
    "X = X[:-forecast] # data to be trained\n",
    "\n",
    "df.dropna(inplace=True)\n",
    "y = np.array(df3['Pred_mc'])\n",
    "y = y[:-forecast]\n",
    "print(X.shape, y.shape)\n",
    "\n",
    "X_train, X_test, y_train, y_test = train_test_split(X, y, test_size=0.3, random_state=42)\n",
    "\n",
    "lr = LinearRegression()\n",
    "lr.fit(X_train, y_train)\n",
    "lr_confidence = lr.score(X_test, y_test)\n",
    "print(lr_confidence)\n",
    "\n",
    "last_date = df3.index[-1] #getting the lastdate in the dataset\n",
    "#last_unix = last_date.timestamp() #converting it to time in seconds\n",
    "one_day = 86400 #one day equals 86400 seconds\n",
    "next_unix = last_date + one_day # getting the time in seconds for the next day\n",
    "forecast_set = lr.predict(X_Pred2) # predicting forecast data\n",
    "df3['Forecast'] = np.nan\n",
    "for i in forecast_set:\n",
    "    next_date = datetime.fromtimestamp(next_unix)\n",
    "    next_unix += 86400\n",
    "    df3.loc[next_date] = [np.nan for _ in range(len(df3.columns)-1)]+[i]\n",
    "    \n",
    "\n",
    "plt.figure(figsize=(18, 8))\n",
    "df3['Market Cap'].plot()\n",
    "df3['Forecast'].plot()\n",
    "plt.legend(loc=1)\n",
    "plt.xlabel('date')\n",
    "plt.ylabel('Market Cap')\n",
    "plt.title('Predicted market capital of Litecoin')\n",
    "plt.show()"
   ]
  },
  {
   "cell_type": "code",
   "execution_count": 72,
   "metadata": {},
   "outputs": [
    {
     "name": "stdout",
     "output_type": "stream",
     "text": [
      "(676, 9) (676,)\n",
      "0.6653387792391836\n"
     ]
    },
    {
     "data": {
      "image/png": "[encoded data removed]",
      "text/plain": [
       "<Figure size 1296x576 with 1 Axes>"
      ]
     },
     "metadata": {
      "needs_background": "light"
     },
     "output_type": "display_data"
    }
   ],
   "source": [
    "\n",
    "df4 = df[ df['Crypto'] ==8]\n",
    "df4\n",
    "\n",
    "\n",
    "\n",
    "scaler = StandardScaler()\n",
    "X = np.array(df4.drop(['Pred_mc'], 1)) \n",
    "scaler.fit(X)\n",
    "\n",
    "X = scaler.transform(X)\n",
    "\n",
    "X_Pred2 = X[-forecast:] # data to be predicted\n",
    "X = X[:-forecast] # data to be trained\n",
    "\n",
    "df.dropna(inplace=True)\n",
    "y = np.array(df4['Pred_mc'])\n",
    "y = y[:-forecast]\n",
    "print(X.shape, y.shape)\n",
    "\n",
    "X_train, X_test, y_train, y_test = train_test_split(X, y, test_size=0.3, random_state=42)\n",
    "\n",
    "lr = LinearRegression()\n",
    "lr.fit(X_train, y_train)\n",
    "lr_confidence = lr.score(X_test, y_test)\n",
    "print(lr_confidence)\n",
    "\n",
    "last_date = df4.index[-1] #getting the lastdate in the dataset\n",
    "#last_unix = last_date.timestamp() #converting it to time in seconds\n",
    "one_day = 86400 #one day equals 86400 seconds\n",
    "next_unix = last_date + one_day # getting the time in seconds for the next day\n",
    "forecast_set = lr.predict(X_Pred2) # predicting forecast data\n",
    "df4['Forecast'] = np.nan\n",
    "for i in forecast_set:\n",
    "    next_date = datetime.fromtimestamp(next_unix)\n",
    "    next_unix += 86400\n",
    "    df4.loc[next_date] = [np.nan for _ in range(len(df4.columns)-1)]+[i]\n",
    "    \n",
    "\n",
    "plt.figure(figsize=(18, 8))\n",
    "df4['Market Cap'].plot()\n",
    "df4['Forecast'].plot()\n",
    "plt.legend(loc=1)\n",
    "plt.xlabel('date')\n",
    "plt.ylabel('Market Cap')\n",
    "plt.title('Predicted market capital of Tether')\n",
    "plt.show()"
   ]
  },
  {
   "cell_type": "code",
   "execution_count": 73,
   "metadata": {},
   "outputs": [
    {
     "name": "stdout",
     "output_type": "stream",
     "text": [
      "(105, 9) (105,)\n",
      "0.9998475409593439\n"
     ]
    },
    {
     "data": {
      "image/png": "[encoded data removed]",
      "text/plain": [
       "<Figure size 1296x576 with 1 Axes>"
      ]
     },
     "metadata": {
      "needs_background": "light"
     },
     "output_type": "display_data"
    }
   ],
   "source": [
    "\n",
    "df5 = df[ df['Crypto'] ==9]\n",
    "df5\n",
    "\n",
    "\n",
    "\n",
    "scaler = StandardScaler()\n",
    "X = np.array(df5.drop(['Pred_mc'], 1)) \n",
    "scaler.fit(X)\n",
    "\n",
    "X = scaler.transform(X)\n",
    "\n",
    "X_Pred2 = X[-forecast:] # data to be predicted\n",
    "X = X[:-forecast] # data to be trained\n",
    "\n",
    "df.dropna(inplace=True)\n",
    "y = np.array(df5['Pred_mc'])\n",
    "y = y[:-forecast]\n",
    "print(X.shape, y.shape)\n",
    "\n",
    "X_train, X_test, y_train, y_test = train_test_split(X, y, test_size=0.3, random_state=42)\n",
    "\n",
    "lr = LinearRegression()\n",
    "lr.fit(X_train, y_train)\n",
    "lr_confidence = lr.score(X_test, y_test)\n",
    "print(lr_confidence)\n",
    "\n",
    "last_date = df5.index[-1] #getting the lastdate in the dataset\n",
    "#last_unix = last_date.timestamp() #converting it to time in seconds\n",
    "one_day = 86400 #one day equals 86400 seconds\n",
    "next_unix = last_date + one_day # getting the time in seconds for the next day\n",
    "forecast_set = lr.predict(X_Pred2) # predicting forecast data\n",
    "df5['Forecast'] = np.nan\n",
    "for i in forecast_set:\n",
    "    next_date = datetime.fromtimestamp(next_unix)\n",
    "    next_unix += 86400\n",
    "    df5.loc[next_date] = [np.nan for _ in range(len(df5.columns)-1)]+[i]\n",
    "    \n",
    "\n",
    "plt.figure(figsize=(18, 8))\n",
    "df5['Market Cap'].plot()\n",
    "df5['Forecast'].plot()\n",
    "plt.legend(loc=1)\n",
    "plt.xlabel('date')\n",
    "plt.ylabel('Market Cap')\n",
    "plt.title('Predicted market capital of XRP')\n",
    "plt.show()"
   ]
  },
  {
   "cell_type": "code",
   "execution_count": 74,
   "metadata": {},
   "outputs": [
    {
     "name": "stdout",
     "output_type": "stream",
     "text": [
      "(105, 9) (105,)\n",
      "0.9998487916595247\n"
     ]
    },
    {
     "data": {
      "image/png": "[encoded data removed]",
      "text/plain": [
       "<Figure size 1296x576 with 1 Axes>"
      ]
     },
     "metadata": {
      "needs_background": "light"
     },
     "output_type": "display_data"
    }
   ],
   "source": [
    "\n",
    "df5 = df[ df['Crypto'] ==9]\n",
    "df5\n",
    "\n",
    "scaler = StandardScaler()\n",
    "X = np.array(df5.drop(['Pred_close'], 1)) \n",
    "scaler.fit(X)\n",
    "\n",
    "X = scaler.transform(X)\n",
    "\n",
    "X_Pred2 = X[-forecast:] # data to be predicted\n",
    "X = X[:-forecast] # data to be trained\n",
    "\n",
    "df.dropna(inplace=True)\n",
    "y = np.array(df5['Pred_close'])\n",
    "y = y[:-forecast]\n",
    "print(X.shape, y.shape)\n",
    "\n",
    "X_train, X_test, y_train, y_test = train_test_split(X, y, test_size=0.3, random_state=42)\n",
    "\n",
    "lr = LinearRegression()\n",
    "lr.fit(X_train, y_train)\n",
    "lr_confidence = lr.score(X_test, y_test)\n",
    "print(lr_confidence)\n",
    "\n",
    "last_date = df5.index[-1] #getting the lastdate in the dataset\n",
    "#last_unix = last_date.timestamp() #converting it to time in seconds\n",
    "one_day = 86400 #one day equals 86400 seconds\n",
    "next_unix = last_date + one_day # getting the time in seconds for the next day\n",
    "forecast_set = lr.predict(X_Pred2) # predicting forecast data\n",
    "df5['Forecast'] = np.nan\n",
    "for i in forecast_set:\n",
    "    next_date = datetime.fromtimestamp(next_unix)\n",
    "    next_unix += 86400\n",
    "    df5.loc[next_date] = [np.nan for _ in range(len(df5.columns)-1)]+[i]\n",
    "    \n",
    "\n",
    "plt.figure(figsize=(18, 8))\n",
    "df5['Close'].plot()\n",
    "df5['Forecast'].plot()\n",
    "plt.legend(loc=1)\n",
    "plt.xlabel('date')\n",
    "plt.ylabel('Market Cap')\n",
    "plt.title('Predicted market capital of XRP')\n",
    "plt.show()"
   ]
  },
  {
   "cell_type": "code",
   "execution_count": 75,
   "metadata": {},
   "outputs": [
    {
     "name": "stdout",
     "output_type": "stream",
     "text": [
      "(676, 9) (676,)\n",
      "-0.017601193328401044\n"
     ]
    },
    {
     "data": {
      "image/png": "[encoded data removed]",
      "text/plain": [
       "<Figure size 1296x576 with 1 Axes>"
      ]
     },
     "metadata": {
      "needs_background": "light"
     },
     "output_type": "display_data"
    }
   ],
   "source": [
    "\n",
    "df4 = df[ df['Crypto'] ==8]\n",
    "df4\n",
    "\n",
    "\n",
    "\n",
    "scaler = StandardScaler()\n",
    "X = np.array(df4.drop(['Pred_close'], 1)) \n",
    "scaler.fit(X)\n",
    "\n",
    "X = scaler.transform(X)\n",
    "\n",
    "X_Pred2 = X[-forecast:] # data to be predicted\n",
    "X = X[:-forecast] # data to be trained\n",
    "\n",
    "df.dropna(inplace=True)\n",
    "y = np.array(df4['Pred_close'])\n",
    "y = y[:-forecast]\n",
    "print(X.shape, y.shape)\n",
    "\n",
    "X_train, X_test, y_train, y_test = train_test_split(X, y, test_size=0.3, random_state=42)\n",
    "\n",
    "lr = LinearRegression()\n",
    "lr.fit(X_train, y_train)\n",
    "lr_confidence = lr.score(X_test, y_test)\n",
    "print(lr_confidence)\n",
    "\n",
    "last_date = df4.index[-1] #getting the lastdate in the dataset\n",
    "#last_unix = last_date.timestamp() #converting it to time in seconds\n",
    "one_day = 86400 #one day equals 86400 seconds\n",
    "next_unix = last_date + one_day # getting the time in seconds for the next day\n",
    "forecast_set = lr.predict(X_Pred2) # predicting forecast data\n",
    "df4['Forecast'] = np.nan\n",
    "for i in forecast_set:\n",
    "    next_date = datetime.fromtimestamp(next_unix)\n",
    "    next_unix += 86400\n",
    "    df4.loc[next_date] = [np.nan for _ in range(len(df4.columns)-1)]+[i]\n",
    "    \n",
    "\n",
    "plt.figure(figsize=(18, 8))\n",
    "df4['Close'].plot()\n",
    "df4['Forecast'].plot()\n",
    "plt.legend(loc=1)\n",
    "plt.xlabel('date')\n",
    "plt.ylabel('Market Cap')\n",
    "plt.title('Predicted market capital of Tether')\n",
    "plt.show()"
   ]
  },
  {
   "cell_type": "code",
   "execution_count": null,
   "metadata": {},
   "outputs": [],
   "source": [
    "\n",
    "df3 = df[ df['Crypto'] ==5]\n",
    "df3\n",
    "\n",
    "\n",
    "scaler = StandardScaler()\n",
    "X = np.array(df3.drop(['Pre'], 1)) \n",
    "scaler.fit(X)\n",
    "\n",
    "X = scaler.transform(X)\n",
    "\n",
    "X_Pred2 = X[-forecast:] # data to be predicted\n",
    "X = X[:-forecast] # data to be trained\n",
    "\n",
    "df.dropna(inplace=True)\n",
    "y = np.array(df3['Pred_mc'])\n",
    "y = y[:-forecast]\n",
    "print(X.shape, y.shape)\n",
    "\n",
    "X_train, X_test, y_train, y_test = train_test_split(X, y, test_size=0.3, random_state=42)\n",
    "\n",
    "lr = LinearRegression()\n",
    "lr.fit(X_train, y_train)\n",
    "lr_confidence = lr.score(X_test, y_test)\n",
    "print(lr_confidence)\n",
    "\n",
    "last_date = df3.index[-1] #getting the lastdate in the dataset\n",
    "#last_unix = last_date.timestamp() #converting it to time in seconds\n",
    "one_day = 86400 #one day equals 86400 seconds\n",
    "next_unix = last_date + one_day # getting the time in seconds for the next day\n",
    "forecast_set = lr.predict(X_Pred2) # predicting forecast data\n",
    "df3['Forecast'] = np.nan\n",
    "for i in forecast_set:\n",
    "    next_date = datetime.fromtimestamp(next_unix)\n",
    "    next_unix += 86400\n",
    "    df3.loc[next_date] = [np.nan for _ in range(len(df3.columns)-1)]+[i]\n",
    "    \n",
    "\n",
    "plt.figure(figsize=(18, 8))\n",
    "df3['Market Cap'].plot()\n",
    "df3['Forecast'].plot()\n",
    "plt.legend(loc=1)\n",
    "plt.xlabel('date')\n",
    "plt.ylabel('Market Cap')\n",
    "plt.title('Predicted market capital of Litecoin')\n",
    "plt.show()"
   ]
  }
 ],
 "metadata": {
  "kernelspec": {
   "display_name": "Python 3",
   "language": "python",
   "name": "python3"
  },
  "language_info": {
   "codemirror_mode": {
    "name": "ipython",
    "version": 3
   },
   "file_extension": ".py",
   "mimetype": "text/x-python",
   "name": "python",
   "nbconvert_exporter": "python",
   "pygments_lexer": "ipython3",
   "version": "3.7.6"
  }
 },
 "nbformat": 4,
 "nbformat_minor": 4
}
