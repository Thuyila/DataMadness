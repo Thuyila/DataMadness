{
 "cells": [
  {
   "cell_type": "code",
   "execution_count": 98,
   "metadata": {},
   "outputs": [],
   "source": [
    "import pandas as pd\n",
    "import numpy as np\n",
    "import matplotlib.pyplot as plt\n",
    "import seaborn as sns\n",
    "import datetime as dt\n",
    "import warnings\n",
    "from sklearn import preprocessing\n",
    "warnings.filterwarnings('ignore')\n",
    "import statsmodels.formula.api as sm\n",
    "from sklearn.model_selection import train_test_split\n",
    "from sklearn.ensemble import GradientBoostingRegressor, RandomForestRegressor\n",
    "from sklearn.preprocessing import scale \n",
    "from sklearn.metrics import mean_squared_error\n",
    "from sklearn.linear_model import LinearRegression, Ridge, RidgeCV, Lasso, LassoCV"
   ]
  },
  {
   "cell_type": "code",
   "execution_count": 2,
   "metadata": {},
   "outputs": [
    {
     "data": {
      "text/html": [
       "<div>\n",
       "<style scoped>\n",
       "    .dataframe tbody tr th:only-of-type {\n",
       "        vertical-align: middle;\n",
       "    }\n",
       "\n",
       "    .dataframe tbody tr th {\n",
       "        vertical-align: top;\n",
       "    }\n",
       "\n",
       "    .dataframe thead th {\n",
       "        text-align: right;\n",
       "    }\n",
       "</style>\n",
       "<table border=\"1\" class=\"dataframe\">\n",
       "  <thead>\n",
       "    <tr style=\"text-align: right;\">\n",
       "      <th></th>\n",
       "      <th>Unnamed: 0</th>\n",
       "      <th>Crypto</th>\n",
       "      <th>Date</th>\n",
       "      <th>Open</th>\n",
       "      <th>High</th>\n",
       "      <th>Low</th>\n",
       "      <th>Close</th>\n",
       "      <th>Volume</th>\n",
       "      <th>Market Cap</th>\n",
       "    </tr>\n",
       "  </thead>\n",
       "  <tbody>\n",
       "    <tr>\n",
       "      <th>0</th>\n",
       "      <td>0</td>\n",
       "      <td>Binance</td>\n",
       "      <td>28-02-2021</td>\n",
       "      <td>225.445941</td>\n",
       "      <td>228.173046</td>\n",
       "      <td>195.852670</td>\n",
       "      <td>209.574404</td>\n",
       "      <td>3.129699e+09</td>\n",
       "      <td>3.238612e+10</td>\n",
       "    </tr>\n",
       "    <tr>\n",
       "      <th>1</th>\n",
       "      <td>1</td>\n",
       "      <td>Binance</td>\n",
       "      <td>27-02-2021</td>\n",
       "      <td>221.980905</td>\n",
       "      <td>237.179435</td>\n",
       "      <td>220.099401</td>\n",
       "      <td>225.249443</td>\n",
       "      <td>2.755271e+09</td>\n",
       "      <td>3.480842e+10</td>\n",
       "    </tr>\n",
       "    <tr>\n",
       "      <th>2</th>\n",
       "      <td>2</td>\n",
       "      <td>Binance</td>\n",
       "      <td>26-02-2021</td>\n",
       "      <td>235.270287</td>\n",
       "      <td>238.755012</td>\n",
       "      <td>210.310761</td>\n",
       "      <td>221.680429</td>\n",
       "      <td>4.167146e+09</td>\n",
       "      <td>3.425689e+10</td>\n",
       "    </tr>\n",
       "    <tr>\n",
       "      <th>3</th>\n",
       "      <td>3</td>\n",
       "      <td>Binance</td>\n",
       "      <td>25-02-2021</td>\n",
       "      <td>254.467606</td>\n",
       "      <td>264.705134</td>\n",
       "      <td>233.885956</td>\n",
       "      <td>233.885956</td>\n",
       "      <td>4.059853e+09</td>\n",
       "      <td>3.614305e+10</td>\n",
       "    </tr>\n",
       "    <tr>\n",
       "      <th>4</th>\n",
       "      <td>4</td>\n",
       "      <td>Binance</td>\n",
       "      <td>24-02-2021</td>\n",
       "      <td>231.121604</td>\n",
       "      <td>280.088196</td>\n",
       "      <td>214.524714</td>\n",
       "      <td>254.359132</td>\n",
       "      <td>7.154122e+09</td>\n",
       "      <td>3.930683e+10</td>\n",
       "    </tr>\n",
       "    <tr>\n",
       "      <th>...</th>\n",
       "      <td>...</td>\n",
       "      <td>...</td>\n",
       "      <td>...</td>\n",
       "      <td>...</td>\n",
       "      <td>...</td>\n",
       "      <td>...</td>\n",
       "      <td>...</td>\n",
       "      <td>...</td>\n",
       "      <td>...</td>\n",
       "    </tr>\n",
       "    <tr>\n",
       "      <th>19126</th>\n",
       "      <td>2761</td>\n",
       "      <td>XRP</td>\n",
       "      <td>08-08-2013</td>\n",
       "      <td>0.004397</td>\n",
       "      <td>0.004424</td>\n",
       "      <td>0.004175</td>\n",
       "      <td>0.004254</td>\n",
       "      <td>0.000000e+00</td>\n",
       "      <td>3.325863e+07</td>\n",
       "    </tr>\n",
       "    <tr>\n",
       "      <th>19127</th>\n",
       "      <td>2762</td>\n",
       "      <td>XRP</td>\n",
       "      <td>07-08-2013</td>\n",
       "      <td>0.004669</td>\n",
       "      <td>0.004682</td>\n",
       "      <td>0.004333</td>\n",
       "      <td>0.004417</td>\n",
       "      <td>0.000000e+00</td>\n",
       "      <td>3.453412e+07</td>\n",
       "    </tr>\n",
       "    <tr>\n",
       "      <th>19128</th>\n",
       "      <td>2763</td>\n",
       "      <td>XRP</td>\n",
       "      <td>06-08-2013</td>\n",
       "      <td>0.005637</td>\n",
       "      <td>0.005661</td>\n",
       "      <td>0.004629</td>\n",
       "      <td>0.004680</td>\n",
       "      <td>0.000000e+00</td>\n",
       "      <td>3.659101e+07</td>\n",
       "    </tr>\n",
       "    <tr>\n",
       "      <th>19129</th>\n",
       "      <td>2764</td>\n",
       "      <td>XRP</td>\n",
       "      <td>05-08-2013</td>\n",
       "      <td>0.005875</td>\n",
       "      <td>0.005980</td>\n",
       "      <td>0.005613</td>\n",
       "      <td>0.005613</td>\n",
       "      <td>0.000000e+00</td>\n",
       "      <td>4.387916e+07</td>\n",
       "    </tr>\n",
       "    <tr>\n",
       "      <th>19130</th>\n",
       "      <td>2765</td>\n",
       "      <td>XRP</td>\n",
       "      <td>04-08-2013</td>\n",
       "      <td>0.005874</td>\n",
       "      <td>0.005927</td>\n",
       "      <td>0.005874</td>\n",
       "      <td>0.005882</td>\n",
       "      <td>0.000000e+00</td>\n",
       "      <td>4.598358e+07</td>\n",
       "    </tr>\n",
       "  </tbody>\n",
       "</table>\n",
       "<p>19131 rows × 9 columns</p>\n",
       "</div>"
      ],
      "text/plain": [
       "       Unnamed: 0   Crypto        Date        Open        High         Low  \\\n",
       "0               0  Binance  28-02-2021  225.445941  228.173046  195.852670   \n",
       "1               1  Binance  27-02-2021  221.980905  237.179435  220.099401   \n",
       "2               2  Binance  26-02-2021  235.270287  238.755012  210.310761   \n",
       "3               3  Binance  25-02-2021  254.467606  264.705134  233.885956   \n",
       "4               4  Binance  24-02-2021  231.121604  280.088196  214.524714   \n",
       "...           ...      ...         ...         ...         ...         ...   \n",
       "19126        2761      XRP  08-08-2013    0.004397    0.004424    0.004175   \n",
       "19127        2762      XRP  07-08-2013    0.004669    0.004682    0.004333   \n",
       "19128        2763      XRP  06-08-2013    0.005637    0.005661    0.004629   \n",
       "19129        2764      XRP  05-08-2013    0.005875    0.005980    0.005613   \n",
       "19130        2765      XRP  04-08-2013    0.005874    0.005927    0.005874   \n",
       "\n",
       "            Close        Volume    Market Cap  \n",
       "0      209.574404  3.129699e+09  3.238612e+10  \n",
       "1      225.249443  2.755271e+09  3.480842e+10  \n",
       "2      221.680429  4.167146e+09  3.425689e+10  \n",
       "3      233.885956  4.059853e+09  3.614305e+10  \n",
       "4      254.359132  7.154122e+09  3.930683e+10  \n",
       "...           ...           ...           ...  \n",
       "19126    0.004254  0.000000e+00  3.325863e+07  \n",
       "19127    0.004417  0.000000e+00  3.453412e+07  \n",
       "19128    0.004680  0.000000e+00  3.659101e+07  \n",
       "19129    0.005613  0.000000e+00  4.387916e+07  \n",
       "19130    0.005882  0.000000e+00  4.598358e+07  \n",
       "\n",
       "[19131 rows x 9 columns]"
      ]
     },
     "execution_count": 2,
     "metadata": {},
     "output_type": "execute_result"
    }
   ],
   "source": [
    "df = pd.read_csv('cryptos.csv')\n",
    "df"
   ]
  },
  {
   "cell_type": "code",
   "execution_count": 3,
   "metadata": {},
   "outputs": [],
   "source": [
    "#change the date format\n",
    "df['Date'] = pd.to_datetime(df['Date'], format='%d-%m-%Y')"
   ]
  },
  {
   "cell_type": "code",
   "execution_count": 4,
   "metadata": {},
   "outputs": [],
   "source": [
    "specific_date = '2017-09-30 00:00:00'  "
   ]
  },
  {
   "cell_type": "code",
   "execution_count": 5,
   "metadata": {},
   "outputs": [],
   "source": [
    "df = df[df['Date'] > specific_date]"
   ]
  },
  {
   "cell_type": "code",
   "execution_count": 6,
   "metadata": {},
   "outputs": [],
   "source": [
    "df = df[['Date','Crypto', 'Open', 'High', 'Low', 'Close', 'Volume','Market Cap']]"
   ]
  },
  {
   "cell_type": "code",
   "execution_count": 7,
   "metadata": {},
   "outputs": [
    {
     "data": {
      "text/html": [
       "<div>\n",
       "<style scoped>\n",
       "    .dataframe tbody tr th:only-of-type {\n",
       "        vertical-align: middle;\n",
       "    }\n",
       "\n",
       "    .dataframe tbody tr th {\n",
       "        vertical-align: top;\n",
       "    }\n",
       "\n",
       "    .dataframe thead th {\n",
       "        text-align: right;\n",
       "    }\n",
       "</style>\n",
       "<table border=\"1\" class=\"dataframe\">\n",
       "  <thead>\n",
       "    <tr style=\"text-align: right;\">\n",
       "      <th></th>\n",
       "      <th>Date</th>\n",
       "      <th>Crypto</th>\n",
       "      <th>Open</th>\n",
       "      <th>High</th>\n",
       "      <th>Low</th>\n",
       "      <th>Close</th>\n",
       "      <th>Volume</th>\n",
       "      <th>Market Cap</th>\n",
       "    </tr>\n",
       "  </thead>\n",
       "  <tbody>\n",
       "    <tr>\n",
       "      <th>0</th>\n",
       "      <td>2021-02-28</td>\n",
       "      <td>Binance</td>\n",
       "      <td>225.445941</td>\n",
       "      <td>228.173046</td>\n",
       "      <td>195.852670</td>\n",
       "      <td>209.574404</td>\n",
       "      <td>3.129699e+09</td>\n",
       "      <td>3.238612e+10</td>\n",
       "    </tr>\n",
       "    <tr>\n",
       "      <th>1</th>\n",
       "      <td>2021-02-27</td>\n",
       "      <td>Binance</td>\n",
       "      <td>221.980905</td>\n",
       "      <td>237.179435</td>\n",
       "      <td>220.099401</td>\n",
       "      <td>225.249443</td>\n",
       "      <td>2.755271e+09</td>\n",
       "      <td>3.480842e+10</td>\n",
       "    </tr>\n",
       "    <tr>\n",
       "      <th>2</th>\n",
       "      <td>2021-02-26</td>\n",
       "      <td>Binance</td>\n",
       "      <td>235.270287</td>\n",
       "      <td>238.755012</td>\n",
       "      <td>210.310761</td>\n",
       "      <td>221.680429</td>\n",
       "      <td>4.167146e+09</td>\n",
       "      <td>3.425689e+10</td>\n",
       "    </tr>\n",
       "    <tr>\n",
       "      <th>3</th>\n",
       "      <td>2021-02-25</td>\n",
       "      <td>Binance</td>\n",
       "      <td>254.467606</td>\n",
       "      <td>264.705134</td>\n",
       "      <td>233.885956</td>\n",
       "      <td>233.885956</td>\n",
       "      <td>4.059853e+09</td>\n",
       "      <td>3.614305e+10</td>\n",
       "    </tr>\n",
       "    <tr>\n",
       "      <th>4</th>\n",
       "      <td>2021-02-24</td>\n",
       "      <td>Binance</td>\n",
       "      <td>231.121604</td>\n",
       "      <td>280.088196</td>\n",
       "      <td>214.524714</td>\n",
       "      <td>254.359132</td>\n",
       "      <td>7.154122e+09</td>\n",
       "      <td>3.930683e+10</td>\n",
       "    </tr>\n",
       "    <tr>\n",
       "      <th>...</th>\n",
       "      <td>...</td>\n",
       "      <td>...</td>\n",
       "      <td>...</td>\n",
       "      <td>...</td>\n",
       "      <td>...</td>\n",
       "      <td>...</td>\n",
       "      <td>...</td>\n",
       "      <td>...</td>\n",
       "    </tr>\n",
       "    <tr>\n",
       "      <th>17607</th>\n",
       "      <td>2017-10-05</td>\n",
       "      <td>XRP</td>\n",
       "      <td>0.215583</td>\n",
       "      <td>0.241023</td>\n",
       "      <td>0.215583</td>\n",
       "      <td>0.237016</td>\n",
       "      <td>4.042990e+08</td>\n",
       "      <td>9.088104e+09</td>\n",
       "    </tr>\n",
       "    <tr>\n",
       "      <th>17608</th>\n",
       "      <td>2017-10-04</td>\n",
       "      <td>XRP</td>\n",
       "      <td>0.203218</td>\n",
       "      <td>0.217024</td>\n",
       "      <td>0.202647</td>\n",
       "      <td>0.214774</td>\n",
       "      <td>1.235730e+08</td>\n",
       "      <td>8.235260e+09</td>\n",
       "    </tr>\n",
       "    <tr>\n",
       "      <th>17609</th>\n",
       "      <td>2017-10-03</td>\n",
       "      <td>XRP</td>\n",
       "      <td>0.203209</td>\n",
       "      <td>0.204808</td>\n",
       "      <td>0.198730</td>\n",
       "      <td>0.203318</td>\n",
       "      <td>4.870310e+07</td>\n",
       "      <td>7.795993e+09</td>\n",
       "    </tr>\n",
       "    <tr>\n",
       "      <th>17610</th>\n",
       "      <td>2017-10-02</td>\n",
       "      <td>XRP</td>\n",
       "      <td>0.206077</td>\n",
       "      <td>0.206556</td>\n",
       "      <td>0.199444</td>\n",
       "      <td>0.202676</td>\n",
       "      <td>7.741230e+07</td>\n",
       "      <td>7.771376e+09</td>\n",
       "    </tr>\n",
       "    <tr>\n",
       "      <th>17611</th>\n",
       "      <td>2017-10-01</td>\n",
       "      <td>XRP</td>\n",
       "      <td>0.197622</td>\n",
       "      <td>0.207185</td>\n",
       "      <td>0.196170</td>\n",
       "      <td>0.206532</td>\n",
       "      <td>5.134550e+07</td>\n",
       "      <td>7.919230e+09</td>\n",
       "    </tr>\n",
       "  </tbody>\n",
       "</table>\n",
       "<p>11416 rows × 8 columns</p>\n",
       "</div>"
      ],
      "text/plain": [
       "            Date   Crypto        Open        High         Low       Close  \\\n",
       "0     2021-02-28  Binance  225.445941  228.173046  195.852670  209.574404   \n",
       "1     2021-02-27  Binance  221.980905  237.179435  220.099401  225.249443   \n",
       "2     2021-02-26  Binance  235.270287  238.755012  210.310761  221.680429   \n",
       "3     2021-02-25  Binance  254.467606  264.705134  233.885956  233.885956   \n",
       "4     2021-02-24  Binance  231.121604  280.088196  214.524714  254.359132   \n",
       "...          ...      ...         ...         ...         ...         ...   \n",
       "17607 2017-10-05      XRP    0.215583    0.241023    0.215583    0.237016   \n",
       "17608 2017-10-04      XRP    0.203218    0.217024    0.202647    0.214774   \n",
       "17609 2017-10-03      XRP    0.203209    0.204808    0.198730    0.203318   \n",
       "17610 2017-10-02      XRP    0.206077    0.206556    0.199444    0.202676   \n",
       "17611 2017-10-01      XRP    0.197622    0.207185    0.196170    0.206532   \n",
       "\n",
       "             Volume    Market Cap  \n",
       "0      3.129699e+09  3.238612e+10  \n",
       "1      2.755271e+09  3.480842e+10  \n",
       "2      4.167146e+09  3.425689e+10  \n",
       "3      4.059853e+09  3.614305e+10  \n",
       "4      7.154122e+09  3.930683e+10  \n",
       "...             ...           ...  \n",
       "17607  4.042990e+08  9.088104e+09  \n",
       "17608  1.235730e+08  8.235260e+09  \n",
       "17609  4.870310e+07  7.795993e+09  \n",
       "17610  7.741230e+07  7.771376e+09  \n",
       "17611  5.134550e+07  7.919230e+09  \n",
       "\n",
       "[11416 rows x 8 columns]"
      ]
     },
     "execution_count": 7,
     "metadata": {},
     "output_type": "execute_result"
    }
   ],
   "source": [
    "df"
   ]
  },
  {
   "cell_type": "code",
   "execution_count": 8,
   "metadata": {},
   "outputs": [],
   "source": [
    "le = preprocessing.LabelEncoder()\n",
    "df['Crypto'] = le.fit_transform(df['Crypto'])"
   ]
  },
  {
   "cell_type": "code",
   "execution_count": 9,
   "metadata": {},
   "outputs": [],
   "source": [
    "open_mean = df['Open']\n",
    "close_mean = df['Close']\n",
    "high_mean = df['High']\n",
    "low_mean = df['Low']"
   ]
  },
  {
   "cell_type": "code",
   "execution_count": 10,
   "metadata": {},
   "outputs": [],
   "source": [
    "open_close = (open_mean/close_mean * 100) - 100"
   ]
  },
  {
   "cell_type": "code",
   "execution_count": 11,
   "metadata": {},
   "outputs": [],
   "source": [
    "high_low = (high_mean/low_mean * 100) - 100"
   ]
  },
  {
   "cell_type": "code",
   "execution_count": 12,
   "metadata": {},
   "outputs": [],
   "source": [
    "new_df = df[['Date','Crypto', 'Volume','Market Cap']]\n",
    "new_df = new_df.rename(columns = {\"Market Cap\": \"MarketCap\"})"
   ]
  },
  {
   "cell_type": "code",
   "execution_count": 13,
   "metadata": {},
   "outputs": [],
   "source": [
    "new_df['OpenClose'] = open_close\n",
    "new_df['HighLow'] = high_low"
   ]
  },
  {
   "cell_type": "code",
   "execution_count": 14,
   "metadata": {},
   "outputs": [],
   "source": [
    "dates = new_df['Date'].unique()"
   ]
  },
  {
   "cell_type": "code",
   "execution_count": 15,
   "metadata": {},
   "outputs": [],
   "source": [
    "check = pd.DataFrame()"
   ]
  },
  {
   "cell_type": "code",
   "execution_count": 16,
   "metadata": {},
   "outputs": [],
   "source": [
    "for i in range(len(dates)):\n",
    "    data = new_df[new_df['Date'] == dates[i]]\n",
    "    \n",
    "    sum_mc = np.sum(data['MarketCap'])\n",
    "    sum_vol = np.sum(data['Volume'])\n",
    "    \n",
    "    #data['VM Ratio'] = data['Volume'] / data['Market Cap']\n",
    "    data['MarketCap'] = data['MarketCap'] / sum_mc * 100\n",
    "    data['Volume'] = data['Volume'] / sum_vol * 100\n",
    "    \n",
    "    check = pd.concat([check, data])"
   ]
  },
  {
   "cell_type": "code",
   "execution_count": 17,
   "metadata": {},
   "outputs": [
    {
     "data": {
      "text/html": [
       "<div>\n",
       "<style scoped>\n",
       "    .dataframe tbody tr th:only-of-type {\n",
       "        vertical-align: middle;\n",
       "    }\n",
       "\n",
       "    .dataframe tbody tr th {\n",
       "        vertical-align: top;\n",
       "    }\n",
       "\n",
       "    .dataframe thead th {\n",
       "        text-align: right;\n",
       "    }\n",
       "</style>\n",
       "<table border=\"1\" class=\"dataframe\">\n",
       "  <thead>\n",
       "    <tr style=\"text-align: right;\">\n",
       "      <th></th>\n",
       "      <th>Date</th>\n",
       "      <th>Crypto</th>\n",
       "      <th>Volume</th>\n",
       "      <th>MarketCap</th>\n",
       "      <th>OpenClose</th>\n",
       "      <th>HighLow</th>\n",
       "    </tr>\n",
       "  </thead>\n",
       "  <tbody>\n",
       "    <tr>\n",
       "      <th>0</th>\n",
       "      <td>2021-02-28</td>\n",
       "      <td>0</td>\n",
       "      <td>1.389866</td>\n",
       "      <td>2.716893</td>\n",
       "      <td>7.573223</td>\n",
       "      <td>16.502392</td>\n",
       "    </tr>\n",
       "    <tr>\n",
       "      <th>1315</th>\n",
       "      <td>2021-02-28</td>\n",
       "      <td>1</td>\n",
       "      <td>23.733861</td>\n",
       "      <td>70.588028</td>\n",
       "      <td>2.340049</td>\n",
       "      <td>8.035806</td>\n",
       "    </tr>\n",
       "    <tr>\n",
       "      <th>4179</th>\n",
       "      <td>2021-02-28</td>\n",
       "      <td>2</td>\n",
       "      <td>6.986660</td>\n",
       "      <td>3.414095</td>\n",
       "      <td>1.189515</td>\n",
       "      <td>16.724383</td>\n",
       "    </tr>\n",
       "    <tr>\n",
       "      <th>5426</th>\n",
       "      <td>2021-02-28</td>\n",
       "      <td>3</td>\n",
       "      <td>0.896995</td>\n",
       "      <td>0.848326</td>\n",
       "      <td>6.364030</td>\n",
       "      <td>15.942324</td>\n",
       "    </tr>\n",
       "    <tr>\n",
       "      <th>6684</th>\n",
       "      <td>2021-02-28</td>\n",
       "      <td>4</td>\n",
       "      <td>12.273309</td>\n",
       "      <td>13.644850</td>\n",
       "      <td>3.093928</td>\n",
       "      <td>12.912187</td>\n",
       "    </tr>\n",
       "    <tr>\n",
       "      <th>...</th>\n",
       "      <td>...</td>\n",
       "      <td>...</td>\n",
       "      <td>...</td>\n",
       "      <td>...</td>\n",
       "      <td>...</td>\n",
       "      <td>...</td>\n",
       "    </tr>\n",
       "    <tr>\n",
       "      <th>7930</th>\n",
       "      <td>2017-10-01</td>\n",
       "      <td>4</td>\n",
       "      <td>16.644267</td>\n",
       "      <td>25.264011</td>\n",
       "      <td>-0.261301</td>\n",
       "      <td>2.756036</td>\n",
       "    </tr>\n",
       "    <tr>\n",
       "      <th>9963</th>\n",
       "      <td>2017-10-01</td>\n",
       "      <td>5</td>\n",
       "      <td>5.445965</td>\n",
       "      <td>2.554226</td>\n",
       "      <td>1.087025</td>\n",
       "      <td>2.865071</td>\n",
       "    </tr>\n",
       "    <tr>\n",
       "      <th>13020</th>\n",
       "      <td>2017-10-01</td>\n",
       "      <td>7</td>\n",
       "      <td>0.083407</td>\n",
       "      <td>0.199908</td>\n",
       "      <td>0.913177</td>\n",
       "      <td>3.598702</td>\n",
       "    </tr>\n",
       "    <tr>\n",
       "      <th>15420</th>\n",
       "      <td>2017-10-01</td>\n",
       "      <td>8</td>\n",
       "      <td>5.599478</td>\n",
       "      <td>0.384778</td>\n",
       "      <td>-0.265821</td>\n",
       "      <td>0.721311</td>\n",
       "    </tr>\n",
       "    <tr>\n",
       "      <th>17611</th>\n",
       "      <td>2017-10-01</td>\n",
       "      <td>9</td>\n",
       "      <td>2.791150</td>\n",
       "      <td>6.972413</td>\n",
       "      <td>-4.314102</td>\n",
       "      <td>5.615027</td>\n",
       "    </tr>\n",
       "  </tbody>\n",
       "</table>\n",
       "<p>11416 rows × 6 columns</p>\n",
       "</div>"
      ],
      "text/plain": [
       "            Date  Crypto     Volume  MarketCap  OpenClose    HighLow\n",
       "0     2021-02-28       0   1.389866   2.716893   7.573223  16.502392\n",
       "1315  2021-02-28       1  23.733861  70.588028   2.340049   8.035806\n",
       "4179  2021-02-28       2   6.986660   3.414095   1.189515  16.724383\n",
       "5426  2021-02-28       3   0.896995   0.848326   6.364030  15.942324\n",
       "6684  2021-02-28       4  12.273309  13.644850   3.093928  12.912187\n",
       "...          ...     ...        ...        ...        ...        ...\n",
       "7930  2017-10-01       4  16.644267  25.264011  -0.261301   2.756036\n",
       "9963  2017-10-01       5   5.445965   2.554226   1.087025   2.865071\n",
       "13020 2017-10-01       7   0.083407   0.199908   0.913177   3.598702\n",
       "15420 2017-10-01       8   5.599478   0.384778  -0.265821   0.721311\n",
       "17611 2017-10-01       9   2.791150   6.972413  -4.314102   5.615027\n",
       "\n",
       "[11416 rows x 6 columns]"
      ]
     },
     "execution_count": 17,
     "metadata": {},
     "output_type": "execute_result"
    }
   ],
   "source": [
    "check"
   ]
  },
  {
   "cell_type": "code",
   "execution_count": 18,
   "metadata": {},
   "outputs": [],
   "source": [
    "group_crypto = check.groupby('Crypto')"
   ]
  },
  {
   "cell_type": "code",
   "execution_count": 19,
   "metadata": {},
   "outputs": [],
   "source": [
    "crypto_oc = group_crypto['OpenClose'].agg(np.mean)\n",
    "#crypto_close = group_crypto['Close'].agg(np.mean)\n",
    "crypto_hl = group_crypto['HighLow'].agg(np.mean)\n",
    "#crypto_low = group_crypto['Low'].agg(np.mean)\n",
    "crypto_mc = group_crypto['MarketCap'].agg(np.mean)\n",
    "crypto_vol = group_crypto['Volume'].agg(np.mean)\n",
    "#crypto_vm = group_crypto['VM Ratio'].agg(np.mean)"
   ]
  },
  {
   "cell_type": "code",
   "execution_count": 20,
   "metadata": {},
   "outputs": [],
   "source": [
    "group_df = pd.DataFrame()\n",
    "group_df['Cryptos'] = check['Crypto'].unique()\n",
    "group_df['OpenClose'] = crypto_oc\n",
    "group_df['HighLow'] = crypto_hl\n",
    "group_df['MarketCap'] = crypto_mc\n",
    "group_df['Volume'] = crypto_vol\n",
    "#group_df['VM Ratio'] = crypto_vm"
   ]
  },
  {
   "cell_type": "code",
   "execution_count": 21,
   "metadata": {},
   "outputs": [],
   "source": [
    "binance, bitcoin, cardano, chainLink, ethereum, liteCoin, polkadots, stellar, tether, xrp = [], [], [], [], [], [], [], [], [], []\n",
    "for i in range(len(group_df.columns)):\n",
    "    binance.append(group_df.iloc[0,i])\n",
    "    bitcoin.append(group_df.iloc[1,i])\n",
    "    cardano.append(group_df.iloc[2,i])\n",
    "    chainLink.append(group_df.iloc[3,i])\n",
    "    ethereum.append(group_df.iloc[4,i])\n",
    "    liteCoin.append(group_df.iloc[5,i])\n",
    "    polkadots.append(group_df.iloc[6,i])\n",
    "    stellar.append(group_df.iloc[7,i])\n",
    "    tether.append(group_df.iloc[8,i])\n",
    "    xrp.append(group_df.iloc[9,i])"
   ]
  },
  {
   "cell_type": "code",
   "execution_count": 22,
   "metadata": {},
   "outputs": [],
   "source": [
    "group_df_rev = pd.DataFrame({\n",
    "    \"Binance\": [binance[1], binance[2], binance[3], binance[4]],\n",
    "    \"Bitcoin\": [bitcoin[1], bitcoin[2], bitcoin[3], bitcoin[4]],\n",
    "    \"Cardano\": [cardano[1], cardano[2], cardano[3], cardano[4]],\n",
    "    \"ChainLink\": [chainLink[1], chainLink[2], chainLink[3], chainLink[4]],\n",
    "    \"Ethereum\": [ethereum[1], ethereum[2], ethereum[3], ethereum[4]],\n",
    "    \"Litecoin\": [liteCoin[1], liteCoin[2], liteCoin[3], liteCoin[4]],\n",
    "    \"Polkadot\": [polkadots[1], polkadots[2], polkadots[3], polkadots[4]],\n",
    "    \"Stellar\": [stellar[1], stellar[2], stellar[3], stellar[4]],\n",
    "    \"Tether\": [tether[1], tether[2], tether[3], tether[4]],\n",
    "    \"XRP\": [xrp[1], xrp[2], xrp[3], xrp[4]]\n",
    "})"
   ]
  },
  {
   "cell_type": "code",
   "execution_count": 23,
   "metadata": {},
   "outputs": [],
   "source": [
    "cryptos = ['Binance', 'Bitcoin', 'Cardano', 'ChainLink', 'Ethereum', 'Litecoin', 'Polkadot', 'Stellar', 'Tether', 'XRP']\n",
    "#df1 = final_df[final_df['Date'] > '2020-03-20 00:00:00']\n",
    "x = check['Date'].unique()"
   ]
  },
  {
   "cell_type": "code",
   "execution_count": 24,
   "metadata": {},
   "outputs": [
    {
     "data": {
      "image/png": "[encoded data removed]",
      "text/plain": [
       "<Figure size 432x288 with 1 Axes>"
      ]
     },
     "metadata": {
      "needs_background": "light"
     },
     "output_type": "display_data"
    }
   ],
   "source": [
    "#for i in range(2, len(cryptos)):\n",
    "for i in range(0, len(cryptos)):\n",
    "    plt_data = check[check['Crypto'] == i]\n",
    "    y = plt_data['MarketCap']\n",
    "    j = len(y)\n",
    "    \n",
    "    while j != len(x):\n",
    "        y[j] = np.min(plt_data['MarketCap'])\n",
    "        j += 1\n",
    "    \n",
    "    plt.plot(x, y, label = cryptos[i])\n",
    "\n",
    "plt.xlabel('Date')\n",
    "plt.ylabel('Marekt Cap')\n",
    "plt.title('Market Capital Percentages')\n",
    "plt.legend()\n",
    "plt.rcParams[\"figure.figsize\"] = (20, 25)\n",
    "plt.show()"
   ]
  },
  {
   "cell_type": "code",
   "execution_count": 25,
   "metadata": {},
   "outputs": [
    {
     "data": {
      "text/html": [
       "<div>\n",
       "<style scoped>\n",
       "    .dataframe tbody tr th:only-of-type {\n",
       "        vertical-align: middle;\n",
       "    }\n",
       "\n",
       "    .dataframe tbody tr th {\n",
       "        vertical-align: top;\n",
       "    }\n",
       "\n",
       "    .dataframe thead th {\n",
       "        text-align: right;\n",
       "    }\n",
       "</style>\n",
       "<table border=\"1\" class=\"dataframe\">\n",
       "  <thead>\n",
       "    <tr style=\"text-align: right;\">\n",
       "      <th></th>\n",
       "      <th>Cryptos</th>\n",
       "      <th>OpenClose</th>\n",
       "      <th>HighLow</th>\n",
       "      <th>MarketCap</th>\n",
       "      <th>Volume</th>\n",
       "    </tr>\n",
       "  </thead>\n",
       "  <tbody>\n",
       "    <tr>\n",
       "      <th>0</th>\n",
       "      <td>0</td>\n",
       "      <td>-0.155370</td>\n",
       "      <td>8.359344</td>\n",
       "      <td>1.071488</td>\n",
       "      <td>0.458698</td>\n",
       "    </tr>\n",
       "    <tr>\n",
       "      <th>1</th>\n",
       "      <td>1</td>\n",
       "      <td>-0.095923</td>\n",
       "      <td>5.240957</td>\n",
       "      <td>69.258139</td>\n",
       "      <td>40.248561</td>\n",
       "    </tr>\n",
       "    <tr>\n",
       "      <th>2</th>\n",
       "      <td>2</td>\n",
       "      <td>-0.068914</td>\n",
       "      <td>9.769008</td>\n",
       "      <td>1.255743</td>\n",
       "      <td>0.624465</td>\n",
       "    </tr>\n",
       "    <tr>\n",
       "      <th>3</th>\n",
       "      <td>3</td>\n",
       "      <td>-0.013277</td>\n",
       "      <td>11.815212</td>\n",
       "      <td>0.416654</td>\n",
       "      <td>0.407971</td>\n",
       "    </tr>\n",
       "    <tr>\n",
       "      <th>4</th>\n",
       "      <td>4</td>\n",
       "      <td>0.027188</td>\n",
       "      <td>6.739537</td>\n",
       "      <td>14.808482</td>\n",
       "      <td>15.635820</td>\n",
       "    </tr>\n",
       "    <tr>\n",
       "      <th>5</th>\n",
       "      <td>5</td>\n",
       "      <td>0.082176</td>\n",
       "      <td>7.558739</td>\n",
       "      <td>2.099740</td>\n",
       "      <td>4.438660</td>\n",
       "    </tr>\n",
       "    <tr>\n",
       "      <th>6</th>\n",
       "      <td>6</td>\n",
       "      <td>-0.945874</td>\n",
       "      <td>11.859125</td>\n",
       "      <td>1.220109</td>\n",
       "      <td>0.819865</td>\n",
       "    </tr>\n",
       "    <tr>\n",
       "      <th>7</th>\n",
       "      <td>7</td>\n",
       "      <td>-0.016895</td>\n",
       "      <td>9.442883</td>\n",
       "      <td>1.271531</td>\n",
       "      <td>0.604632</td>\n",
       "    </tr>\n",
       "    <tr>\n",
       "      <th>8</th>\n",
       "      <td>8</td>\n",
       "      <td>-0.001160</td>\n",
       "      <td>1.649235</td>\n",
       "      <td>2.132482</td>\n",
       "      <td>33.630384</td>\n",
       "    </tr>\n",
       "    <tr>\n",
       "      <th>9</th>\n",
       "      <td>9</td>\n",
       "      <td>0.151228</td>\n",
       "      <td>7.894376</td>\n",
       "      <td>7.496903</td>\n",
       "      <td>3.823917</td>\n",
       "    </tr>\n",
       "  </tbody>\n",
       "</table>\n",
       "</div>"
      ],
      "text/plain": [
       "   Cryptos  OpenClose    HighLow  MarketCap     Volume\n",
       "0        0  -0.155370   8.359344   1.071488   0.458698\n",
       "1        1  -0.095923   5.240957  69.258139  40.248561\n",
       "2        2  -0.068914   9.769008   1.255743   0.624465\n",
       "3        3  -0.013277  11.815212   0.416654   0.407971\n",
       "4        4   0.027188   6.739537  14.808482  15.635820\n",
       "5        5   0.082176   7.558739   2.099740   4.438660\n",
       "6        6  -0.945874  11.859125   1.220109   0.819865\n",
       "7        7  -0.016895   9.442883   1.271531   0.604632\n",
       "8        8  -0.001160   1.649235   2.132482  33.630384\n",
       "9        9   0.151228   7.894376   7.496903   3.823917"
      ]
     },
     "execution_count": 25,
     "metadata": {},
     "output_type": "execute_result"
    }
   ],
   "source": [
    "group_df"
   ]
  },
  {
   "cell_type": "code",
   "execution_count": 26,
   "metadata": {},
   "outputs": [
    {
     "data": {
      "text/html": [
       "<div>\n",
       "<style scoped>\n",
       "    .dataframe tbody tr th:only-of-type {\n",
       "        vertical-align: middle;\n",
       "    }\n",
       "\n",
       "    .dataframe tbody tr th {\n",
       "        vertical-align: top;\n",
       "    }\n",
       "\n",
       "    .dataframe thead th {\n",
       "        text-align: right;\n",
       "    }\n",
       "</style>\n",
       "<table border=\"1\" class=\"dataframe\">\n",
       "  <thead>\n",
       "    <tr style=\"text-align: right;\">\n",
       "      <th></th>\n",
       "      <th>Binance</th>\n",
       "      <th>Bitcoin</th>\n",
       "      <th>Cardano</th>\n",
       "      <th>ChainLink</th>\n",
       "      <th>Ethereum</th>\n",
       "      <th>Litecoin</th>\n",
       "      <th>Polkadot</th>\n",
       "      <th>Stellar</th>\n",
       "      <th>Tether</th>\n",
       "      <th>XRP</th>\n",
       "    </tr>\n",
       "  </thead>\n",
       "  <tbody>\n",
       "    <tr>\n",
       "      <th>0</th>\n",
       "      <td>-0.155370</td>\n",
       "      <td>-0.095923</td>\n",
       "      <td>-0.068914</td>\n",
       "      <td>-0.013277</td>\n",
       "      <td>0.027188</td>\n",
       "      <td>0.082176</td>\n",
       "      <td>-0.945874</td>\n",
       "      <td>-0.016895</td>\n",
       "      <td>-0.001160</td>\n",
       "      <td>0.151228</td>\n",
       "    </tr>\n",
       "    <tr>\n",
       "      <th>1</th>\n",
       "      <td>8.359344</td>\n",
       "      <td>5.240957</td>\n",
       "      <td>9.769008</td>\n",
       "      <td>11.815212</td>\n",
       "      <td>6.739537</td>\n",
       "      <td>7.558739</td>\n",
       "      <td>11.859125</td>\n",
       "      <td>9.442883</td>\n",
       "      <td>1.649235</td>\n",
       "      <td>7.894376</td>\n",
       "    </tr>\n",
       "    <tr>\n",
       "      <th>2</th>\n",
       "      <td>1.071488</td>\n",
       "      <td>69.258139</td>\n",
       "      <td>1.255743</td>\n",
       "      <td>0.416654</td>\n",
       "      <td>14.808482</td>\n",
       "      <td>2.099740</td>\n",
       "      <td>1.220109</td>\n",
       "      <td>1.271531</td>\n",
       "      <td>2.132482</td>\n",
       "      <td>7.496903</td>\n",
       "    </tr>\n",
       "    <tr>\n",
       "      <th>3</th>\n",
       "      <td>0.458698</td>\n",
       "      <td>40.248561</td>\n",
       "      <td>0.624465</td>\n",
       "      <td>0.407971</td>\n",
       "      <td>15.635820</td>\n",
       "      <td>4.438660</td>\n",
       "      <td>0.819865</td>\n",
       "      <td>0.604632</td>\n",
       "      <td>33.630384</td>\n",
       "      <td>3.823917</td>\n",
       "    </tr>\n",
       "  </tbody>\n",
       "</table>\n",
       "</div>"
      ],
      "text/plain": [
       "    Binance    Bitcoin   Cardano  ChainLink   Ethereum  Litecoin   Polkadot  \\\n",
       "0 -0.155370  -0.095923 -0.068914  -0.013277   0.027188  0.082176  -0.945874   \n",
       "1  8.359344   5.240957  9.769008  11.815212   6.739537  7.558739  11.859125   \n",
       "2  1.071488  69.258139  1.255743   0.416654  14.808482  2.099740   1.220109   \n",
       "3  0.458698  40.248561  0.624465   0.407971  15.635820  4.438660   0.819865   \n",
       "\n",
       "    Stellar     Tether       XRP  \n",
       "0 -0.016895  -0.001160  0.151228  \n",
       "1  9.442883   1.649235  7.894376  \n",
       "2  1.271531   2.132482  7.496903  \n",
       "3  0.604632  33.630384  3.823917  "
      ]
     },
     "execution_count": 26,
     "metadata": {},
     "output_type": "execute_result"
    }
   ],
   "source": [
    "group_df_rev"
   ]
  },
  {
   "cell_type": "code",
   "execution_count": 27,
   "metadata": {},
   "outputs": [
    {
     "data": {
      "image/png": "[encoded data removed]",
      "text/plain": [
       "<Figure size 1080x360 with 1 Axes>"
      ]
     },
     "metadata": {
      "needs_background": "light"
     },
     "output_type": "display_data"
    },
    {
     "data": {
      "image/png": "[encoded data removed]",
      "text/plain": [
       "<Figure size 1080x360 with 1 Axes>"
      ]
     },
     "metadata": {
      "needs_background": "light"
     },
     "output_type": "display_data"
    },
    {
     "data": {
      "image/png": "[encoded data removed]",
      "text/plain": [
       "<Figure size 1080x360 with 1 Axes>"
      ]
     },
     "metadata": {
      "needs_background": "light"
     },
     "output_type": "display_data"
    },
    {
     "data": {
      "image/png": "[encoded data removed]",
      "text/plain": [
       "<Figure size 1080x360 with 1 Axes>"
      ]
     },
     "metadata": {
      "needs_background": "light"
     },
     "output_type": "display_data"
    }
   ],
   "source": [
    "strings = ['MarketCap', 'Volume', 'OpenClose', 'HighLow']\n",
    "\n",
    "for i in range(len(group_df.columns) - 1):\n",
    "    string = strings[i] + ' of top 10 Crytocurrencies'\n",
    "    plt.rcParams[\"figure.figsize\"] = (15, 5)\n",
    "    plt.bar(cryptos, group_df[strings[i]])\n",
    "    plt.title(string)\n",
    "    plt.xlabel('Cryptocurrency')\n",
    "    plt.ylabel(strings[i])\n",
    "    plt.show()"
   ]
  },
  {
   "cell_type": "code",
   "execution_count": 28,
   "metadata": {},
   "outputs": [
    {
     "data": {
      "text/html": [
       "<div>\n",
       "<style scoped>\n",
       "    .dataframe tbody tr th:only-of-type {\n",
       "        vertical-align: middle;\n",
       "    }\n",
       "\n",
       "    .dataframe tbody tr th {\n",
       "        vertical-align: top;\n",
       "    }\n",
       "\n",
       "    .dataframe thead th {\n",
       "        text-align: right;\n",
       "    }\n",
       "</style>\n",
       "<table border=\"1\" class=\"dataframe\">\n",
       "  <thead>\n",
       "    <tr style=\"text-align: right;\">\n",
       "      <th></th>\n",
       "      <th>Binance</th>\n",
       "      <th>Bitcoin</th>\n",
       "      <th>Cardano</th>\n",
       "      <th>ChainLink</th>\n",
       "      <th>Ethereum</th>\n",
       "      <th>Litecoin</th>\n",
       "      <th>Polkadot</th>\n",
       "      <th>Stellar</th>\n",
       "      <th>Tether</th>\n",
       "      <th>XRP</th>\n",
       "    </tr>\n",
       "  </thead>\n",
       "  <tbody>\n",
       "    <tr>\n",
       "      <th>Binance</th>\n",
       "      <td>1.000000</td>\n",
       "      <td>-0.367686</td>\n",
       "      <td>0.999958</td>\n",
       "      <td>0.995283</td>\n",
       "      <td>-0.126966</td>\n",
       "      <td>0.858257</td>\n",
       "      <td>0.998124</td>\n",
       "      <td>0.999969</td>\n",
       "      <td>-0.307458</td>\n",
       "      <td>0.661161</td>\n",
       "    </tr>\n",
       "    <tr>\n",
       "      <th>Bitcoin</th>\n",
       "      <td>-0.367686</td>\n",
       "      <td>1.000000</td>\n",
       "      <td>-0.375424</td>\n",
       "      <td>-0.453082</td>\n",
       "      <td>0.869217</td>\n",
       "      <td>-0.136627</td>\n",
       "      <td>-0.337897</td>\n",
       "      <td>-0.374770</td>\n",
       "      <td>0.277343</td>\n",
       "      <td>0.451842</td>\n",
       "    </tr>\n",
       "    <tr>\n",
       "      <th>Cardano</th>\n",
       "      <td>0.999958</td>\n",
       "      <td>-0.375424</td>\n",
       "      <td>1.000000</td>\n",
       "      <td>0.996119</td>\n",
       "      <td>-0.132606</td>\n",
       "      <td>0.858449</td>\n",
       "      <td>0.998024</td>\n",
       "      <td>0.999984</td>\n",
       "      <td>-0.305318</td>\n",
       "      <td>0.654646</td>\n",
       "    </tr>\n",
       "    <tr>\n",
       "      <th>ChainLink</th>\n",
       "      <td>0.995283</td>\n",
       "      <td>-0.453082</td>\n",
       "      <td>0.996119</td>\n",
       "      <td>1.000000</td>\n",
       "      <td>-0.197943</td>\n",
       "      <td>0.848151</td>\n",
       "      <td>0.991808</td>\n",
       "      <td>0.995922</td>\n",
       "      <td>-0.299037</td>\n",
       "      <td>0.586352</td>\n",
       "    </tr>\n",
       "    <tr>\n",
       "      <th>Ethereum</th>\n",
       "      <td>-0.126966</td>\n",
       "      <td>0.869217</td>\n",
       "      <td>-0.132606</td>\n",
       "      <td>-0.197943</td>\n",
       "      <td>1.000000</td>\n",
       "      <td>0.274827</td>\n",
       "      <td>-0.075425</td>\n",
       "      <td>-0.134525</td>\n",
       "      <td>0.615074</td>\n",
       "      <td>0.547160</td>\n",
       "    </tr>\n",
       "    <tr>\n",
       "      <th>Litecoin</th>\n",
       "      <td>0.858257</td>\n",
       "      <td>-0.136627</td>\n",
       "      <td>0.858449</td>\n",
       "      <td>0.848151</td>\n",
       "      <td>0.274827</td>\n",
       "      <td>1.000000</td>\n",
       "      <td>0.887706</td>\n",
       "      <td>0.855900</td>\n",
       "      <td>0.214981</td>\n",
       "      <td>0.679589</td>\n",
       "    </tr>\n",
       "    <tr>\n",
       "      <th>Polkadot</th>\n",
       "      <td>0.998124</td>\n",
       "      <td>-0.337897</td>\n",
       "      <td>0.998024</td>\n",
       "      <td>0.991808</td>\n",
       "      <td>-0.075425</td>\n",
       "      <td>0.887706</td>\n",
       "      <td>1.000000</td>\n",
       "      <td>0.997759</td>\n",
       "      <td>-0.252148</td>\n",
       "      <td>0.679803</td>\n",
       "    </tr>\n",
       "    <tr>\n",
       "      <th>Stellar</th>\n",
       "      <td>0.999969</td>\n",
       "      <td>-0.374770</td>\n",
       "      <td>0.999984</td>\n",
       "      <td>0.995922</td>\n",
       "      <td>-0.134525</td>\n",
       "      <td>0.855900</td>\n",
       "      <td>0.997759</td>\n",
       "      <td>1.000000</td>\n",
       "      <td>-0.310493</td>\n",
       "      <td>0.655559</td>\n",
       "    </tr>\n",
       "    <tr>\n",
       "      <th>Tether</th>\n",
       "      <td>-0.307458</td>\n",
       "      <td>0.277343</td>\n",
       "      <td>-0.305318</td>\n",
       "      <td>-0.299037</td>\n",
       "      <td>0.615074</td>\n",
       "      <td>0.214981</td>\n",
       "      <td>-0.252148</td>\n",
       "      <td>-0.310493</td>\n",
       "      <td>1.000000</td>\n",
       "      <td>-0.133458</td>\n",
       "    </tr>\n",
       "    <tr>\n",
       "      <th>XRP</th>\n",
       "      <td>0.661161</td>\n",
       "      <td>0.451842</td>\n",
       "      <td>0.654646</td>\n",
       "      <td>0.586352</td>\n",
       "      <td>0.547160</td>\n",
       "      <td>0.679589</td>\n",
       "      <td>0.679803</td>\n",
       "      <td>0.655559</td>\n",
       "      <td>-0.133458</td>\n",
       "      <td>1.000000</td>\n",
       "    </tr>\n",
       "  </tbody>\n",
       "</table>\n",
       "</div>"
      ],
      "text/plain": [
       "            Binance   Bitcoin   Cardano  ChainLink  Ethereum  Litecoin  \\\n",
       "Binance    1.000000 -0.367686  0.999958   0.995283 -0.126966  0.858257   \n",
       "Bitcoin   -0.367686  1.000000 -0.375424  -0.453082  0.869217 -0.136627   \n",
       "Cardano    0.999958 -0.375424  1.000000   0.996119 -0.132606  0.858449   \n",
       "ChainLink  0.995283 -0.453082  0.996119   1.000000 -0.197943  0.848151   \n",
       "Ethereum  -0.126966  0.869217 -0.132606  -0.197943  1.000000  0.274827   \n",
       "Litecoin   0.858257 -0.136627  0.858449   0.848151  0.274827  1.000000   \n",
       "Polkadot   0.998124 -0.337897  0.998024   0.991808 -0.075425  0.887706   \n",
       "Stellar    0.999969 -0.374770  0.999984   0.995922 -0.134525  0.855900   \n",
       "Tether    -0.307458  0.277343 -0.305318  -0.299037  0.615074  0.214981   \n",
       "XRP        0.661161  0.451842  0.654646   0.586352  0.547160  0.679589   \n",
       "\n",
       "           Polkadot   Stellar    Tether       XRP  \n",
       "Binance    0.998124  0.999969 -0.307458  0.661161  \n",
       "Bitcoin   -0.337897 -0.374770  0.277343  0.451842  \n",
       "Cardano    0.998024  0.999984 -0.305318  0.654646  \n",
       "ChainLink  0.991808  0.995922 -0.299037  0.586352  \n",
       "Ethereum  -0.075425 -0.134525  0.615074  0.547160  \n",
       "Litecoin   0.887706  0.855900  0.214981  0.679589  \n",
       "Polkadot   1.000000  0.997759 -0.252148  0.679803  \n",
       "Stellar    0.997759  1.000000 -0.310493  0.655559  \n",
       "Tether    -0.252148 -0.310493  1.000000 -0.133458  \n",
       "XRP        0.679803  0.655559 -0.133458  1.000000  "
      ]
     },
     "execution_count": 28,
     "metadata": {},
     "output_type": "execute_result"
    }
   ],
   "source": [
    "cor_matrix = group_df_rev.corr()\n",
    "cor_matrix"
   ]
  },
  {
   "cell_type": "code",
   "execution_count": 29,
   "metadata": {},
   "outputs": [
    {
     "data": {
      "image/png": "[encoded data removed]",
      "text/plain": [
       "<Figure size 1080x360 with 2 Axes>"
      ]
     },
     "metadata": {
      "needs_background": "light"
     },
     "output_type": "display_data"
    }
   ],
   "source": [
    "heat_corr = sns.heatmap(\n",
    "                        cor_matrix,\n",
    "                        vmin = -1,\n",
    "                        vmax = 1,\n",
    "                        center = 0,\n",
    "                        cmap = sns.diverging_palette(20,220,n=200),\n",
    "                        square = True)\n",
    "\n",
    "heat_corr.set_xticklabels(heat_corr.get_xticklabels(),\n",
    "                         rotation = 45,\n",
    "                         horizontalalignment = 'right'\n",
    "                         );"
   ]
  },
  {
   "cell_type": "code",
   "execution_count": 30,
   "metadata": {},
   "outputs": [
    {
     "name": "stdout",
     "output_type": "stream",
     "text": [
      "R-Squared values\n",
      "--------------------\n",
      "Date :  0.0\n",
      "Crypto :  12.0\n",
      "Volume :  46.0\n",
      "OpenClose :  0.0\n",
      "HighLow :  1.0\n"
     ]
    }
   ],
   "source": [
    "features = check.columns\n",
    "\n",
    "print(\"R-Squared values\")\n",
    "print(\"--------------------\")\n",
    "\n",
    "for i in range(len(features)):\n",
    "    if features[i] != 'MarketCap':\n",
    "        x = \"MarketCap ~ \" + features[i]\n",
    "        market_cap = sm.ols(formula = x, data = check).fit()\n",
    "        print(features[i], \": \", np.round(market_cap.rsquared * 100))"
   ]
  },
  {
   "cell_type": "code",
   "execution_count": 31,
   "metadata": {},
   "outputs": [
    {
     "name": "stdout",
     "output_type": "stream",
     "text": [
      "R-Squared values\n",
      "--------------------\n",
      "Binance :  14.0\n",
      "Cardano :  14.0\n",
      "ChainLink :  21.0\n",
      "Ethereum :  76.0\n",
      "Litecoin :  2.0\n",
      "Polkadot :  11.0\n",
      "Stellar :  14.0\n",
      "Tether :  8.0\n",
      "XRP :  20.0\n"
     ]
    }
   ],
   "source": [
    "features = group_df_rev.columns\n",
    "\n",
    "print(\"R-Squared values\")\n",
    "print(\"--------------------\")\n",
    "\n",
    "for i in range(len(features)):\n",
    "    if features[i] != 'Bitcoin':\n",
    "        x = \"Bitcoin ~ \" + features[i]\n",
    "        btc = sm.ols(formula = x, data = group_df_rev).fit()\n",
    "        print(features[i], \": \", np.round(btc.rsquared * 100))"
   ]
  },
  {
   "cell_type": "code",
   "execution_count": 32,
   "metadata": {},
   "outputs": [
    {
     "data": {
      "text/html": [
       "<table class=\"simpletable\">\n",
       "<caption>OLS Regression Results</caption>\n",
       "<tr>\n",
       "  <th>Dep. Variable:</th>         <td>Bitcoin</td>     <th>  R-squared:         </th> <td>   0.756</td>\n",
       "</tr>\n",
       "<tr>\n",
       "  <th>Model:</th>                   <td>OLS</td>       <th>  Adj. R-squared:    </th> <td>   0.633</td>\n",
       "</tr>\n",
       "<tr>\n",
       "  <th>Method:</th>             <td>Least Squares</td>  <th>  F-statistic:       </th> <td>   6.181</td>\n",
       "</tr>\n",
       "<tr>\n",
       "  <th>Date:</th>             <td>Tue, 23 Mar 2021</td> <th>  Prob (F-statistic):</th>  <td> 0.131</td> \n",
       "</tr>\n",
       "<tr>\n",
       "  <th>Time:</th>                 <td>07:59:33</td>     <th>  Log-Likelihood:    </th> <td> -16.201</td>\n",
       "</tr>\n",
       "<tr>\n",
       "  <th>No. Observations:</th>      <td>     4</td>      <th>  AIC:               </th> <td>   36.40</td>\n",
       "</tr>\n",
       "<tr>\n",
       "  <th>Df Residuals:</th>          <td>     2</td>      <th>  BIC:               </th> <td>   35.17</td>\n",
       "</tr>\n",
       "<tr>\n",
       "  <th>Df Model:</th>              <td>     1</td>      <th>                     </th>     <td> </td>   \n",
       "</tr>\n",
       "<tr>\n",
       "  <th>Covariance Type:</th>      <td>nonrobust</td>    <th>                     </th>     <td> </td>   \n",
       "</tr>\n",
       "</table>\n",
       "<table class=\"simpletable\">\n",
       "<tr>\n",
       "      <td></td>         <th>coef</th>     <th>std err</th>      <th>t</th>      <th>P>|t|</th>  <th>[0.025</th>    <th>0.975]</th>  \n",
       "</tr>\n",
       "<tr>\n",
       "  <th>Intercept</th> <td>   -6.9253</td> <td>   17.361</td> <td>   -0.399</td> <td> 0.729</td> <td>  -81.623</td> <td>   67.772</td>\n",
       "</tr>\n",
       "<tr>\n",
       "  <th>Ethereum</th>  <td>    3.8256</td> <td>    1.539</td> <td>    2.486</td> <td> 0.131</td> <td>   -2.795</td> <td>   10.446</td>\n",
       "</tr>\n",
       "</table>\n",
       "<table class=\"simpletable\">\n",
       "<tr>\n",
       "  <th>Omnibus:</th>       <td>   nan</td> <th>  Durbin-Watson:     </th> <td>   3.300</td>\n",
       "</tr>\n",
       "<tr>\n",
       "  <th>Prob(Omnibus):</th> <td>   nan</td> <th>  Jarque-Bera (JB):  </th> <td>   0.490</td>\n",
       "</tr>\n",
       "<tr>\n",
       "  <th>Skew:</th>          <td> 0.299</td> <th>  Prob(JB):          </th> <td>   0.783</td>\n",
       "</tr>\n",
       "<tr>\n",
       "  <th>Kurtosis:</th>      <td> 1.393</td> <th>  Cond. No.          </th> <td>    20.0</td>\n",
       "</tr>\n",
       "</table><br/><br/>Warnings:<br/>[1] Standard Errors assume that the covariance matrix of the errors is correctly specified."
      ],
      "text/plain": [
       "<class 'statsmodels.iolib.summary.Summary'>\n",
       "\"\"\"\n",
       "                            OLS Regression Results                            \n",
       "==============================================================================\n",
       "Dep. Variable:                Bitcoin   R-squared:                       0.756\n",
       "Model:                            OLS   Adj. R-squared:                  0.633\n",
       "Method:                 Least Squares   F-statistic:                     6.181\n",
       "Date:                Tue, 23 Mar 2021   Prob (F-statistic):              0.131\n",
       "Time:                        07:59:33   Log-Likelihood:                -16.201\n",
       "No. Observations:                   4   AIC:                             36.40\n",
       "Df Residuals:                       2   BIC:                             35.17\n",
       "Df Model:                           1                                         \n",
       "Covariance Type:            nonrobust                                         \n",
       "==============================================================================\n",
       "                 coef    std err          t      P>|t|      [0.025      0.975]\n",
       "------------------------------------------------------------------------------\n",
       "Intercept     -6.9253     17.361     -0.399      0.729     -81.623      67.772\n",
       "Ethereum       3.8256      1.539      2.486      0.131      -2.795      10.446\n",
       "==============================================================================\n",
       "Omnibus:                          nan   Durbin-Watson:                   3.300\n",
       "Prob(Omnibus):                    nan   Jarque-Bera (JB):                0.490\n",
       "Skew:                           0.299   Prob(JB):                        0.783\n",
       "Kurtosis:                       1.393   Cond. No.                         20.0\n",
       "==============================================================================\n",
       "\n",
       "Warnings:\n",
       "[1] Standard Errors assume that the covariance matrix of the errors is correctly specified.\n",
       "\"\"\""
      ]
     },
     "execution_count": 32,
     "metadata": {},
     "output_type": "execute_result"
    }
   ],
   "source": [
    "\n",
    "single_model = sm.ols(formula = \"Bitcoin ~ Ethereum\", data = group_df_rev).fit()\n",
    "single_model.summary()"
   ]
  },
  {
   "cell_type": "code",
   "execution_count": 33,
   "metadata": {},
   "outputs": [
    {
     "data": {
      "text/html": [
       "<table class=\"simpletable\">\n",
       "<caption>OLS Regression Results</caption>\n",
       "<tr>\n",
       "  <th>Dep. Variable:</th>         <td>Bitcoin</td>     <th>  R-squared:         </th> <td>   0.838</td>\n",
       "</tr>\n",
       "<tr>\n",
       "  <th>Model:</th>                   <td>OLS</td>       <th>  Adj. R-squared:    </th> <td>   0.513</td>\n",
       "</tr>\n",
       "<tr>\n",
       "  <th>Method:</th>             <td>Least Squares</td>  <th>  F-statistic:       </th> <td>   2.581</td>\n",
       "</tr>\n",
       "<tr>\n",
       "  <th>Date:</th>             <td>Tue, 23 Mar 2021</td> <th>  Prob (F-statistic):</th>  <td> 0.403</td> \n",
       "</tr>\n",
       "<tr>\n",
       "  <th>Time:</th>                 <td>07:59:33</td>     <th>  Log-Likelihood:    </th> <td> -15.381</td>\n",
       "</tr>\n",
       "<tr>\n",
       "  <th>No. Observations:</th>      <td>     4</td>      <th>  AIC:               </th> <td>   36.76</td>\n",
       "</tr>\n",
       "<tr>\n",
       "  <th>Df Residuals:</th>          <td>     1</td>      <th>  BIC:               </th> <td>   34.92</td>\n",
       "</tr>\n",
       "<tr>\n",
       "  <th>Df Model:</th>              <td>     2</td>      <th>                     </th>     <td> </td>   \n",
       "</tr>\n",
       "<tr>\n",
       "  <th>Covariance Type:</th>      <td>nonrobust</td>    <th>                     </th>     <td> </td>   \n",
       "</tr>\n",
       "</table>\n",
       "<table class=\"simpletable\">\n",
       "<tr>\n",
       "      <td></td>         <th>coef</th>     <th>std err</th>      <th>t</th>      <th>P>|t|</th>  <th>[0.025</th>    <th>0.975]</th>  \n",
       "</tr>\n",
       "<tr>\n",
       "  <th>Intercept</th> <td>    0.6313</td> <td>   22.646</td> <td>    0.028</td> <td> 0.982</td> <td> -287.113</td> <td>  288.375</td>\n",
       "</tr>\n",
       "<tr>\n",
       "  <th>Ethereum</th>  <td>    3.5707</td> <td>    1.809</td> <td>    1.974</td> <td> 0.298</td> <td>  -19.411</td> <td>   26.552</td>\n",
       "</tr>\n",
       "<tr>\n",
       "  <th>ChainLink</th> <td>   -1.6430</td> <td>    2.308</td> <td>   -0.712</td> <td> 0.606</td> <td>  -30.974</td> <td>   27.688</td>\n",
       "</tr>\n",
       "</table>\n",
       "<table class=\"simpletable\">\n",
       "<tr>\n",
       "  <th>Omnibus:</th>       <td>   nan</td> <th>  Durbin-Watson:     </th> <td>   2.527</td>\n",
       "</tr>\n",
       "<tr>\n",
       "  <th>Prob(Omnibus):</th> <td>   nan</td> <th>  Jarque-Bera (JB):  </th> <td>   0.176</td>\n",
       "</tr>\n",
       "<tr>\n",
       "  <th>Skew:</th>          <td> 0.118</td> <th>  Prob(JB):          </th> <td>   0.916</td>\n",
       "</tr>\n",
       "<tr>\n",
       "  <th>Kurtosis:</th>      <td> 2.001</td> <th>  Cond. No.          </th> <td>    23.2</td>\n",
       "</tr>\n",
       "</table><br/><br/>Warnings:<br/>[1] Standard Errors assume that the covariance matrix of the errors is correctly specified."
      ],
      "text/plain": [
       "<class 'statsmodels.iolib.summary.Summary'>\n",
       "\"\"\"\n",
       "                            OLS Regression Results                            \n",
       "==============================================================================\n",
       "Dep. Variable:                Bitcoin   R-squared:                       0.838\n",
       "Model:                            OLS   Adj. R-squared:                  0.513\n",
       "Method:                 Least Squares   F-statistic:                     2.581\n",
       "Date:                Tue, 23 Mar 2021   Prob (F-statistic):              0.403\n",
       "Time:                        07:59:33   Log-Likelihood:                -15.381\n",
       "No. Observations:                   4   AIC:                             36.76\n",
       "Df Residuals:                       1   BIC:                             34.92\n",
       "Df Model:                           2                                         \n",
       "Covariance Type:            nonrobust                                         \n",
       "==============================================================================\n",
       "                 coef    std err          t      P>|t|      [0.025      0.975]\n",
       "------------------------------------------------------------------------------\n",
       "Intercept      0.6313     22.646      0.028      0.982    -287.113     288.375\n",
       "Ethereum       3.5707      1.809      1.974      0.298     -19.411      26.552\n",
       "ChainLink     -1.6430      2.308     -0.712      0.606     -30.974      27.688\n",
       "==============================================================================\n",
       "Omnibus:                          nan   Durbin-Watson:                   2.527\n",
       "Prob(Omnibus):                    nan   Jarque-Bera (JB):                0.176\n",
       "Skew:                           0.118   Prob(JB):                        0.916\n",
       "Kurtosis:                       2.001   Cond. No.                         23.2\n",
       "==============================================================================\n",
       "\n",
       "Warnings:\n",
       "[1] Standard Errors assume that the covariance matrix of the errors is correctly specified.\n",
       "\"\"\""
      ]
     },
     "execution_count": 33,
     "metadata": {},
     "output_type": "execute_result"
    }
   ],
   "source": [
    "model_data = group_df_rev[['Binance', 'Bitcoin', 'Cardano', 'ChainLink', 'Ethereum', 'Litecoin', 'Polkadot', 'Stellar', 'Tether', 'XRP']]\n",
    "multi_model = sm.ols(formula = \"Bitcoin ~ Ethereum + ChainLink\", data = model_data).fit()\n",
    "multi_model.summary()"
   ]
  },
  {
   "cell_type": "code",
   "execution_count": 34,
   "metadata": {},
   "outputs": [],
   "source": [
    "#check['Date'] = check['Date'].map(dt.datetime.toordinal)\n",
    "check['Date'] = le.fit_transform(check['Date'])"
   ]
  },
  {
   "cell_type": "code",
   "execution_count": 35,
   "metadata": {},
   "outputs": [],
   "source": [
    "x = check[['Date', 'Crypto', 'Volume', 'OpenClose', 'HighLow']]\n",
    "y = check['MarketCap']"
   ]
  },
  {
   "cell_type": "code",
   "execution_count": 84,
   "metadata": {},
   "outputs": [],
   "source": [
    "x_train, x_test, y_train, y_test = train_test_split(x, y, test_size = 0.33, random_state = 0)"
   ]
  },
  {
   "cell_type": "code",
   "execution_count": 85,
   "metadata": {},
   "outputs": [],
   "source": [
    "model_LR = LinearRegression().fit(x_train, y_train)\n",
    "y_pred_LR = model_LR.predict(x_test)\n",
    "intercept_LR = model_LR.intercept_\n",
    "coef_LR = model_LR.coef_\n",
    "score_train_LR = model_LR.score(x_train, y_train)\n",
    "score_test_LR = model_LR.score(x_test, y_test)"
   ]
  },
  {
   "cell_type": "code",
   "execution_count": 107,
   "metadata": {},
   "outputs": [
    {
     "name": "stdout",
     "output_type": "stream",
     "text": [
      "Linear Regression Results: \n",
      "---------------------------------------\n",
      "Train score:  0.5791075067254641\n",
      "---------------------------------------\n",
      "Test score:  0.5665887292217284\n"
     ]
    }
   ],
   "source": [
    "print('Linear Regression Results: ')\n",
    "print('---------------------------------------')\n",
    "#print('Intercept: ', intercept_LR)\n",
    "#print('---------------------------------------')\n",
    "#print('Coefficients: ')\n",
    "#for i in range(len(x.columns)):\n",
    "#    print('   ', x.columns[i], ': ', coef_LR[i])\n",
    "#print('---------------------------------------')\n",
    "print('Train score: ', score_train_LR)\n",
    "print('---------------------------------------')\n",
    "print('Test score: ', score_test_LR)"
   ]
  },
  {
   "cell_type": "code",
   "execution_count": 94,
   "metadata": {},
   "outputs": [],
   "source": [
    "model_GBR = GradientBoostingRegressor().fit(x_train, y_train)\n",
    "y_pred_GBR = model_GBR.predict(x_test)\n",
    "score_train_GBR = model_GBR.score(x_train, y_train)\n",
    "score_test_GBR = model_GBR.score(x_test, y_test)"
   ]
  },
  {
   "cell_type": "code",
   "execution_count": 95,
   "metadata": {},
   "outputs": [
    {
     "name": "stdout",
     "output_type": "stream",
     "text": [
      "Gradient Boosting Regression Results: \n",
      "---------------------------------------\n",
      "Train score:  0.9956140852984579\n",
      "---------------------------------------\n",
      "Test score:  0.994261333369209\n"
     ]
    }
   ],
   "source": [
    "print('Gradient Boosting Regression Results: ')\n",
    "print('---------------------------------------')\n",
    "print('Train score: ', score_train_GBR)\n",
    "print('---------------------------------------')\n",
    "print('Test score: ', score_test_GBR)"
   ]
  },
  {
   "cell_type": "code",
   "execution_count": 96,
   "metadata": {},
   "outputs": [],
   "source": [
    "model_RFR = RandomForestRegressor().fit(x_train, y_train)\n",
    "y_pred_RFR = model_RFR.predict(x_test)\n",
    "score_train_RFR = model_RFR.score(x_train, y_train)\n",
    "score_test_RFR = model_RFR.score(x_test, y_test)"
   ]
  },
  {
   "cell_type": "code",
   "execution_count": 97,
   "metadata": {},
   "outputs": [
    {
     "name": "stdout",
     "output_type": "stream",
     "text": [
      "Random Forest Regression Results: \n",
      "---------------------------------------\n",
      "Train score:  0.9998404243877222\n",
      "---------------------------------------\n",
      "Test score:  0.9992683262719659\n"
     ]
    }
   ],
   "source": [
    "print('Random Forest Regression Results: ')\n",
    "print('---------------------------------------')\n",
    "print('Train score: ', score_train_RFR)\n",
    "print('---------------------------------------')\n",
    "print('Test score: ', score_test_RFR)"
   ]
  },
  {
   "cell_type": "code",
   "execution_count": 101,
   "metadata": {},
   "outputs": [],
   "source": [
    "model_R1 = Ridge(alpha = 10, fit_intercept = True)\n",
    "model_R = model_R1.fit(x_train, y_train)\n",
    "score_train_R = model_R.score(x_train, y_train)\n",
    "score_test_R = model_R.score(x_test, y_test)"
   ]
  },
  {
   "cell_type": "code",
   "execution_count": 102,
   "metadata": {},
   "outputs": [
    {
     "name": "stdout",
     "output_type": "stream",
     "text": [
      "Ridge Regression Results: \n",
      "---------------------------------------\n",
      "Train score:  57.910750402670466\n",
      "---------------------------------------\n",
      "Test score:  56.659016044947165\n"
     ]
    }
   ],
   "source": [
    "print('Ridge Regression Results: ')\n",
    "print('---------------------------------------')\n",
    "print('Train score: ', score_train_R * 100)\n",
    "print('---------------------------------------')\n",
    "print('Test score: ', score_test_R * 100)"
   ]
  },
  {
   "cell_type": "code",
   "execution_count": 105,
   "metadata": {},
   "outputs": [],
   "source": [
    "model_L1 = Lasso(alpha = 10, max_iter = 100000, fit_intercept = True)\n",
    "model_L = model_L1.fit(x_train, y_train)\n",
    "score_train_L = model_L.score(x_train, y_train)\n",
    "score_test_L = model_L.score(x_test, y_test)"
   ]
  },
  {
   "cell_type": "code",
   "execution_count": 106,
   "metadata": {},
   "outputs": [
    {
     "name": "stdout",
     "output_type": "stream",
     "text": [
      "Lasso Regression Results: \n",
      "---------------------------------------\n",
      "Train score:  55.27428328604924\n",
      "---------------------------------------\n",
      "Test score:  54.4301391981779\n"
     ]
    }
   ],
   "source": [
    "print('Lasso Regression Results: ')\n",
    "print('---------------------------------------')\n",
    "print('Train score: ', score_train_L * 100)\n",
    "print('---------------------------------------')\n",
    "print('Test score: ', score_test_L * 100)"
   ]
  },
  {
   "cell_type": "code",
   "execution_count": 109,
   "metadata": {},
   "outputs": [],
   "source": [
    "indices = ['LR', 'GBR', 'RFR', 'R', 'L']\n",
    "test_scores = [score_test_LR, score_test_GBR, score_test_RFR, score_test_R, score_test_L]\n",
    "train_scores = [score_train_LR, score_train_GBR, score_train_RFR, score_train_R, score_train_L]"
   ]
  },
  {
   "cell_type": "code",
   "execution_count": 111,
   "metadata": {},
   "outputs": [
    {
     "data": {
      "image/png": "[encoded data removed]",
      "text/plain": [
       "<Figure size 1080x360 with 1 Axes>"
      ]
     },
     "metadata": {
      "needs_background": "light"
     },
     "output_type": "display_data"
    }
   ],
   "source": [
    "plt.bar(indices, train_scores)\n",
    "plt.xlabel('Models')\n",
    "plt.ylabel('Scores')\n",
    "plt.title('Train scores of 5 models')\n",
    "plt.show()"
   ]
  },
  {
   "cell_type": "code",
   "execution_count": 112,
   "metadata": {},
   "outputs": [
    {
     "data": {
      "image/png": "[encoded data removed]",
      "text/plain": [
       "<Figure size 1080x360 with 1 Axes>"
      ]
     },
     "metadata": {
      "needs_background": "light"
     },
     "output_type": "display_data"
    }
   ],
   "source": [
    "plt.bar(indices, test_scores)\n",
    "plt.xlabel('Models')\n",
    "plt.ylabel('Scores')\n",
    "plt.title('Test scores of 5 models')\n",
    "plt.show()"
   ]
  },
  {
   "cell_type": "code",
   "execution_count": null,
   "metadata": {},
   "outputs": [],
   "source": []
  }
 ],
 "metadata": {
  "kernelspec": {
   "display_name": "Python 3",
   "language": "python",
   "name": "python3"
  },
  "language_info": {
   "codemirror_mode": {
    "name": "ipython",
    "version": 3
   },
   "file_extension": ".py",
   "mimetype": "text/x-python",
   "name": "python",
   "nbconvert_exporter": "python",
   "pygments_lexer": "ipython3",
   "version": "3.8.3"
  }
 },
 "nbformat": 4,
 "nbformat_minor": 4
}
