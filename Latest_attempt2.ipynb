{
 "cells": [
  {
   "cell_type": "code",
   "execution_count": 1,
   "metadata": {},
   "outputs": [],
   "source": [
    "#Imported all require libraries\n",
    "import pandas as pd\n",
    "import numpy as np\n",
    "import matplotlib.pyplot as plt\n",
    "import seaborn as sns\n",
    "import datetime as dt\n",
    "import warnings\n",
    "warnings.filterwarnings('ignore')\n",
    "\n",
    "from sklearn import preprocessing\n",
    "import statsmodels.formula.api as sm\n",
    "from sklearn.model_selection import train_test_split\n",
    "from sklearn.ensemble import GradientBoostingRegressor, RandomForestRegressor\n",
    "from sklearn.preprocessing import scale \n",
    "from sklearn.metrics import mean_squared_error\n",
    "from sklearn.linear_model import LinearRegression, Ridge, RidgeCV, Lasso, LassoCV"
   ]
  },
  {
   "cell_type": "code",
   "execution_count": 2,
   "metadata": {},
   "outputs": [
    {
     "data": {
      "text/html": [
       "<div>\n",
       "<style scoped>\n",
       "    .dataframe tbody tr th:only-of-type {\n",
       "        vertical-align: middle;\n",
       "    }\n",
       "\n",
       "    .dataframe tbody tr th {\n",
       "        vertical-align: top;\n",
       "    }\n",
       "\n",
       "    .dataframe thead th {\n",
       "        text-align: right;\n",
       "    }\n",
       "</style>\n",
       "<table border=\"1\" class=\"dataframe\">\n",
       "  <thead>\n",
       "    <tr style=\"text-align: right;\">\n",
       "      <th></th>\n",
       "      <th>Unnamed: 0</th>\n",
       "      <th>Crypto</th>\n",
       "      <th>Date</th>\n",
       "      <th>Open</th>\n",
       "      <th>High</th>\n",
       "      <th>Low</th>\n",
       "      <th>Close</th>\n",
       "      <th>Volume</th>\n",
       "      <th>Market Cap</th>\n",
       "    </tr>\n",
       "  </thead>\n",
       "  <tbody>\n",
       "    <tr>\n",
       "      <th>0</th>\n",
       "      <td>0</td>\n",
       "      <td>Binance</td>\n",
       "      <td>28-02-2021</td>\n",
       "      <td>225.445941</td>\n",
       "      <td>228.173046</td>\n",
       "      <td>195.852670</td>\n",
       "      <td>209.574404</td>\n",
       "      <td>3.129699e+09</td>\n",
       "      <td>3.238612e+10</td>\n",
       "    </tr>\n",
       "    <tr>\n",
       "      <th>1</th>\n",
       "      <td>1</td>\n",
       "      <td>Binance</td>\n",
       "      <td>27-02-2021</td>\n",
       "      <td>221.980905</td>\n",
       "      <td>237.179435</td>\n",
       "      <td>220.099401</td>\n",
       "      <td>225.249443</td>\n",
       "      <td>2.755271e+09</td>\n",
       "      <td>3.480842e+10</td>\n",
       "    </tr>\n",
       "    <tr>\n",
       "      <th>2</th>\n",
       "      <td>2</td>\n",
       "      <td>Binance</td>\n",
       "      <td>26-02-2021</td>\n",
       "      <td>235.270287</td>\n",
       "      <td>238.755012</td>\n",
       "      <td>210.310761</td>\n",
       "      <td>221.680429</td>\n",
       "      <td>4.167146e+09</td>\n",
       "      <td>3.425689e+10</td>\n",
       "    </tr>\n",
       "    <tr>\n",
       "      <th>3</th>\n",
       "      <td>3</td>\n",
       "      <td>Binance</td>\n",
       "      <td>25-02-2021</td>\n",
       "      <td>254.467606</td>\n",
       "      <td>264.705134</td>\n",
       "      <td>233.885956</td>\n",
       "      <td>233.885956</td>\n",
       "      <td>4.059853e+09</td>\n",
       "      <td>3.614305e+10</td>\n",
       "    </tr>\n",
       "    <tr>\n",
       "      <th>4</th>\n",
       "      <td>4</td>\n",
       "      <td>Binance</td>\n",
       "      <td>24-02-2021</td>\n",
       "      <td>231.121604</td>\n",
       "      <td>280.088196</td>\n",
       "      <td>214.524714</td>\n",
       "      <td>254.359132</td>\n",
       "      <td>7.154122e+09</td>\n",
       "      <td>3.930683e+10</td>\n",
       "    </tr>\n",
       "    <tr>\n",
       "      <th>...</th>\n",
       "      <td>...</td>\n",
       "      <td>...</td>\n",
       "      <td>...</td>\n",
       "      <td>...</td>\n",
       "      <td>...</td>\n",
       "      <td>...</td>\n",
       "      <td>...</td>\n",
       "      <td>...</td>\n",
       "      <td>...</td>\n",
       "    </tr>\n",
       "    <tr>\n",
       "      <th>19126</th>\n",
       "      <td>2761</td>\n",
       "      <td>XRP</td>\n",
       "      <td>08-08-2013</td>\n",
       "      <td>0.004397</td>\n",
       "      <td>0.004424</td>\n",
       "      <td>0.004175</td>\n",
       "      <td>0.004254</td>\n",
       "      <td>0.000000e+00</td>\n",
       "      <td>3.325863e+07</td>\n",
       "    </tr>\n",
       "    <tr>\n",
       "      <th>19127</th>\n",
       "      <td>2762</td>\n",
       "      <td>XRP</td>\n",
       "      <td>07-08-2013</td>\n",
       "      <td>0.004669</td>\n",
       "      <td>0.004682</td>\n",
       "      <td>0.004333</td>\n",
       "      <td>0.004417</td>\n",
       "      <td>0.000000e+00</td>\n",
       "      <td>3.453412e+07</td>\n",
       "    </tr>\n",
       "    <tr>\n",
       "      <th>19128</th>\n",
       "      <td>2763</td>\n",
       "      <td>XRP</td>\n",
       "      <td>06-08-2013</td>\n",
       "      <td>0.005637</td>\n",
       "      <td>0.005661</td>\n",
       "      <td>0.004629</td>\n",
       "      <td>0.004680</td>\n",
       "      <td>0.000000e+00</td>\n",
       "      <td>3.659101e+07</td>\n",
       "    </tr>\n",
       "    <tr>\n",
       "      <th>19129</th>\n",
       "      <td>2764</td>\n",
       "      <td>XRP</td>\n",
       "      <td>05-08-2013</td>\n",
       "      <td>0.005875</td>\n",
       "      <td>0.005980</td>\n",
       "      <td>0.005613</td>\n",
       "      <td>0.005613</td>\n",
       "      <td>0.000000e+00</td>\n",
       "      <td>4.387916e+07</td>\n",
       "    </tr>\n",
       "    <tr>\n",
       "      <th>19130</th>\n",
       "      <td>2765</td>\n",
       "      <td>XRP</td>\n",
       "      <td>04-08-2013</td>\n",
       "      <td>0.005874</td>\n",
       "      <td>0.005927</td>\n",
       "      <td>0.005874</td>\n",
       "      <td>0.005882</td>\n",
       "      <td>0.000000e+00</td>\n",
       "      <td>4.598358e+07</td>\n",
       "    </tr>\n",
       "  </tbody>\n",
       "</table>\n",
       "<p>19131 rows × 9 columns</p>\n",
       "</div>"
      ],
      "text/plain": [
       "       Unnamed: 0   Crypto        Date        Open        High         Low  \\\n",
       "0               0  Binance  28-02-2021  225.445941  228.173046  195.852670   \n",
       "1               1  Binance  27-02-2021  221.980905  237.179435  220.099401   \n",
       "2               2  Binance  26-02-2021  235.270287  238.755012  210.310761   \n",
       "3               3  Binance  25-02-2021  254.467606  264.705134  233.885956   \n",
       "4               4  Binance  24-02-2021  231.121604  280.088196  214.524714   \n",
       "...           ...      ...         ...         ...         ...         ...   \n",
       "19126        2761      XRP  08-08-2013    0.004397    0.004424    0.004175   \n",
       "19127        2762      XRP  07-08-2013    0.004669    0.004682    0.004333   \n",
       "19128        2763      XRP  06-08-2013    0.005637    0.005661    0.004629   \n",
       "19129        2764      XRP  05-08-2013    0.005875    0.005980    0.005613   \n",
       "19130        2765      XRP  04-08-2013    0.005874    0.005927    0.005874   \n",
       "\n",
       "            Close        Volume    Market Cap  \n",
       "0      209.574404  3.129699e+09  3.238612e+10  \n",
       "1      225.249443  2.755271e+09  3.480842e+10  \n",
       "2      221.680429  4.167146e+09  3.425689e+10  \n",
       "3      233.885956  4.059853e+09  3.614305e+10  \n",
       "4      254.359132  7.154122e+09  3.930683e+10  \n",
       "...           ...           ...           ...  \n",
       "19126    0.004254  0.000000e+00  3.325863e+07  \n",
       "19127    0.004417  0.000000e+00  3.453412e+07  \n",
       "19128    0.004680  0.000000e+00  3.659101e+07  \n",
       "19129    0.005613  0.000000e+00  4.387916e+07  \n",
       "19130    0.005882  0.000000e+00  4.598358e+07  \n",
       "\n",
       "[19131 rows x 9 columns]"
      ]
     },
     "execution_count": 2,
     "metadata": {},
     "output_type": "execute_result"
    }
   ],
   "source": [
    "# read csv dataset as dataframe\n",
    "df = pd.read_csv('cryptos.csv')\n",
    "df"
   ]
  },
  {
   "cell_type": "code",
   "execution_count": 3,
   "metadata": {},
   "outputs": [],
   "source": [
    "# change the date format\n",
    "df['Date'] = pd.to_datetime(df['Date'], format='%d-%m-%Y')"
   ]
  },
  {
   "cell_type": "code",
   "execution_count": 4,
   "metadata": {},
   "outputs": [],
   "source": [
    "# date after which all the cryptos have equal amount of data available\n",
    "specific_date = '2017-09-30 00:00:00'  "
   ]
  },
  {
   "cell_type": "code",
   "execution_count": 5,
   "metadata": {},
   "outputs": [],
   "source": [
    "# filter the dataset with the specific date \n",
    "df = df[df['Date'] > specific_date]"
   ]
  },
  {
   "cell_type": "code",
   "execution_count": 6,
   "metadata": {},
   "outputs": [],
   "source": [
    "# columns of the dataset\n",
    "df = df[['Date','Crypto', 'Open', 'High', 'Low', 'Close', 'Volume','Market Cap']]"
   ]
  },
  {
   "cell_type": "code",
   "execution_count": 7,
   "metadata": {},
   "outputs": [
    {
     "data": {
      "text/html": [
       "<div>\n",
       "<style scoped>\n",
       "    .dataframe tbody tr th:only-of-type {\n",
       "        vertical-align: middle;\n",
       "    }\n",
       "\n",
       "    .dataframe tbody tr th {\n",
       "        vertical-align: top;\n",
       "    }\n",
       "\n",
       "    .dataframe thead th {\n",
       "        text-align: right;\n",
       "    }\n",
       "</style>\n",
       "<table border=\"1\" class=\"dataframe\">\n",
       "  <thead>\n",
       "    <tr style=\"text-align: right;\">\n",
       "      <th></th>\n",
       "      <th>Date</th>\n",
       "      <th>Crypto</th>\n",
       "      <th>Open</th>\n",
       "      <th>High</th>\n",
       "      <th>Low</th>\n",
       "      <th>Close</th>\n",
       "      <th>Volume</th>\n",
       "      <th>Market Cap</th>\n",
       "    </tr>\n",
       "  </thead>\n",
       "  <tbody>\n",
       "    <tr>\n",
       "      <th>0</th>\n",
       "      <td>2021-02-28</td>\n",
       "      <td>Binance</td>\n",
       "      <td>225.445941</td>\n",
       "      <td>228.173046</td>\n",
       "      <td>195.852670</td>\n",
       "      <td>209.574404</td>\n",
       "      <td>3.129699e+09</td>\n",
       "      <td>3.238612e+10</td>\n",
       "    </tr>\n",
       "    <tr>\n",
       "      <th>1</th>\n",
       "      <td>2021-02-27</td>\n",
       "      <td>Binance</td>\n",
       "      <td>221.980905</td>\n",
       "      <td>237.179435</td>\n",
       "      <td>220.099401</td>\n",
       "      <td>225.249443</td>\n",
       "      <td>2.755271e+09</td>\n",
       "      <td>3.480842e+10</td>\n",
       "    </tr>\n",
       "    <tr>\n",
       "      <th>2</th>\n",
       "      <td>2021-02-26</td>\n",
       "      <td>Binance</td>\n",
       "      <td>235.270287</td>\n",
       "      <td>238.755012</td>\n",
       "      <td>210.310761</td>\n",
       "      <td>221.680429</td>\n",
       "      <td>4.167146e+09</td>\n",
       "      <td>3.425689e+10</td>\n",
       "    </tr>\n",
       "    <tr>\n",
       "      <th>3</th>\n",
       "      <td>2021-02-25</td>\n",
       "      <td>Binance</td>\n",
       "      <td>254.467606</td>\n",
       "      <td>264.705134</td>\n",
       "      <td>233.885956</td>\n",
       "      <td>233.885956</td>\n",
       "      <td>4.059853e+09</td>\n",
       "      <td>3.614305e+10</td>\n",
       "    </tr>\n",
       "    <tr>\n",
       "      <th>4</th>\n",
       "      <td>2021-02-24</td>\n",
       "      <td>Binance</td>\n",
       "      <td>231.121604</td>\n",
       "      <td>280.088196</td>\n",
       "      <td>214.524714</td>\n",
       "      <td>254.359132</td>\n",
       "      <td>7.154122e+09</td>\n",
       "      <td>3.930683e+10</td>\n",
       "    </tr>\n",
       "    <tr>\n",
       "      <th>...</th>\n",
       "      <td>...</td>\n",
       "      <td>...</td>\n",
       "      <td>...</td>\n",
       "      <td>...</td>\n",
       "      <td>...</td>\n",
       "      <td>...</td>\n",
       "      <td>...</td>\n",
       "      <td>...</td>\n",
       "    </tr>\n",
       "    <tr>\n",
       "      <th>17607</th>\n",
       "      <td>2017-10-05</td>\n",
       "      <td>XRP</td>\n",
       "      <td>0.215583</td>\n",
       "      <td>0.241023</td>\n",
       "      <td>0.215583</td>\n",
       "      <td>0.237016</td>\n",
       "      <td>4.042990e+08</td>\n",
       "      <td>9.088104e+09</td>\n",
       "    </tr>\n",
       "    <tr>\n",
       "      <th>17608</th>\n",
       "      <td>2017-10-04</td>\n",
       "      <td>XRP</td>\n",
       "      <td>0.203218</td>\n",
       "      <td>0.217024</td>\n",
       "      <td>0.202647</td>\n",
       "      <td>0.214774</td>\n",
       "      <td>1.235730e+08</td>\n",
       "      <td>8.235260e+09</td>\n",
       "    </tr>\n",
       "    <tr>\n",
       "      <th>17609</th>\n",
       "      <td>2017-10-03</td>\n",
       "      <td>XRP</td>\n",
       "      <td>0.203209</td>\n",
       "      <td>0.204808</td>\n",
       "      <td>0.198730</td>\n",
       "      <td>0.203318</td>\n",
       "      <td>4.870310e+07</td>\n",
       "      <td>7.795993e+09</td>\n",
       "    </tr>\n",
       "    <tr>\n",
       "      <th>17610</th>\n",
       "      <td>2017-10-02</td>\n",
       "      <td>XRP</td>\n",
       "      <td>0.206077</td>\n",
       "      <td>0.206556</td>\n",
       "      <td>0.199444</td>\n",
       "      <td>0.202676</td>\n",
       "      <td>7.741230e+07</td>\n",
       "      <td>7.771376e+09</td>\n",
       "    </tr>\n",
       "    <tr>\n",
       "      <th>17611</th>\n",
       "      <td>2017-10-01</td>\n",
       "      <td>XRP</td>\n",
       "      <td>0.197622</td>\n",
       "      <td>0.207185</td>\n",
       "      <td>0.196170</td>\n",
       "      <td>0.206532</td>\n",
       "      <td>5.134550e+07</td>\n",
       "      <td>7.919230e+09</td>\n",
       "    </tr>\n",
       "  </tbody>\n",
       "</table>\n",
       "<p>11416 rows × 8 columns</p>\n",
       "</div>"
      ],
      "text/plain": [
       "            Date   Crypto        Open        High         Low       Close  \\\n",
       "0     2021-02-28  Binance  225.445941  228.173046  195.852670  209.574404   \n",
       "1     2021-02-27  Binance  221.980905  237.179435  220.099401  225.249443   \n",
       "2     2021-02-26  Binance  235.270287  238.755012  210.310761  221.680429   \n",
       "3     2021-02-25  Binance  254.467606  264.705134  233.885956  233.885956   \n",
       "4     2021-02-24  Binance  231.121604  280.088196  214.524714  254.359132   \n",
       "...          ...      ...         ...         ...         ...         ...   \n",
       "17607 2017-10-05      XRP    0.215583    0.241023    0.215583    0.237016   \n",
       "17608 2017-10-04      XRP    0.203218    0.217024    0.202647    0.214774   \n",
       "17609 2017-10-03      XRP    0.203209    0.204808    0.198730    0.203318   \n",
       "17610 2017-10-02      XRP    0.206077    0.206556    0.199444    0.202676   \n",
       "17611 2017-10-01      XRP    0.197622    0.207185    0.196170    0.206532   \n",
       "\n",
       "             Volume    Market Cap  \n",
       "0      3.129699e+09  3.238612e+10  \n",
       "1      2.755271e+09  3.480842e+10  \n",
       "2      4.167146e+09  3.425689e+10  \n",
       "3      4.059853e+09  3.614305e+10  \n",
       "4      7.154122e+09  3.930683e+10  \n",
       "...             ...           ...  \n",
       "17607  4.042990e+08  9.088104e+09  \n",
       "17608  1.235730e+08  8.235260e+09  \n",
       "17609  4.870310e+07  7.795993e+09  \n",
       "17610  7.741230e+07  7.771376e+09  \n",
       "17611  5.134550e+07  7.919230e+09  \n",
       "\n",
       "[11416 rows x 8 columns]"
      ]
     },
     "execution_count": 7,
     "metadata": {},
     "output_type": "execute_result"
    }
   ],
   "source": [
    "df"
   ]
  },
  {
   "cell_type": "code",
   "execution_count": 8,
   "metadata": {},
   "outputs": [],
   "source": [
    "# Convert string crypto into numeric data\n",
    "le = preprocessing.LabelEncoder()\n",
    "df['Crypto'] = le.fit_transform(df['Crypto'])"
   ]
  },
  {
   "cell_type": "code",
   "execution_count": 9,
   "metadata": {},
   "outputs": [],
   "source": [
    "open_mean = df['Open']\n",
    "close_mean = df['Close']\n",
    "high_mean = df['High']\n",
    "low_mean = df['Low']\n",
    "# Compute the average of the open, close and high, low\n",
    "open_close_avg = (df['Open'] + df['Close']) / 2\n",
    "high_low_avg = (df['High'] + df['Low']) / 2"
   ]
  },
  {
   "cell_type": "code",
   "execution_count": 10,
   "metadata": {},
   "outputs": [],
   "source": [
    "#The percentage of open-close mean \n",
    "open_close = (open_mean/close_mean * 100) - 100"
   ]
  },
  {
   "cell_type": "code",
   "execution_count": 11,
   "metadata": {},
   "outputs": [],
   "source": [
    "# The percentage of high and low mean\n",
    "high_low = (high_mean/low_mean * 100) - 100"
   ]
  },
  {
   "cell_type": "code",
   "execution_count": 12,
   "metadata": {},
   "outputs": [],
   "source": [
    "# Create a new dataframe\n",
    "new_df = df[['Date','Crypto', 'Volume','Market Cap']]\n",
    "# rename the Market Cap column as MarketCap\n",
    "new_df = new_df.rename(columns = {\"Market Cap\": \"MarketCap\"})"
   ]
  },
  {
   "cell_type": "code",
   "execution_count": 13,
   "metadata": {},
   "outputs": [],
   "source": [
    "# Add Open-close and high-low percentage columns to the new_df dataframe\n",
    "new_df['OpenClose'] = open_close\n",
    "new_df['HighLow'] = high_low\n",
    "new_df['AvgPrice'] = open_close_avg\n",
    "new_df['AvgValue'] = high_low_avg"
   ]
  },
  {
   "cell_type": "code",
   "execution_count": 14,
   "metadata": {},
   "outputs": [],
   "source": [
    "#Contains all unique dates \n",
    "dates = new_df['Date'].unique()"
   ]
  },
  {
   "cell_type": "code",
   "execution_count": 15,
   "metadata": {},
   "outputs": [],
   "source": [
    "# create a new dataframe check\n",
    "check = pd.DataFrame()"
   ]
  },
  {
   "cell_type": "code",
   "execution_count": 16,
   "metadata": {},
   "outputs": [],
   "source": [
    "# Compute the percentage of Marketcap and Volume and add that data to the check dataframe\n",
    "for i in range(len(dates)):\n",
    "    data = new_df[new_df['Date'] == dates[i]]\n",
    "    # sum of the marketcap and volume\n",
    "    sum_mc = np.sum(data['MarketCap'])\n",
    "    sum_vol = np.sum(data['Volume'])\n",
    "    \n",
    "    #data['VM Ratio'] = data['Volume'] / data['Market Cap']\n",
    "    # percentage of marketcap and volume\n",
    "    data['MarketCap'] = data['MarketCap'] / sum_mc * 100\n",
    "    data['Volume'] = data['Volume'] / sum_vol * 100\n",
    "    \n",
    "    check = pd.concat([check, data])"
   ]
  },
  {
   "cell_type": "code",
   "execution_count": 17,
   "metadata": {},
   "outputs": [
    {
     "data": {
      "text/html": [
       "<div>\n",
       "<style scoped>\n",
       "    .dataframe tbody tr th:only-of-type {\n",
       "        vertical-align: middle;\n",
       "    }\n",
       "\n",
       "    .dataframe tbody tr th {\n",
       "        vertical-align: top;\n",
       "    }\n",
       "\n",
       "    .dataframe thead th {\n",
       "        text-align: right;\n",
       "    }\n",
       "</style>\n",
       "<table border=\"1\" class=\"dataframe\">\n",
       "  <thead>\n",
       "    <tr style=\"text-align: right;\">\n",
       "      <th></th>\n",
       "      <th>Date</th>\n",
       "      <th>Crypto</th>\n",
       "      <th>Volume</th>\n",
       "      <th>MarketCap</th>\n",
       "      <th>OpenClose</th>\n",
       "      <th>HighLow</th>\n",
       "      <th>AvgPrice</th>\n",
       "      <th>AvgValue</th>\n",
       "    </tr>\n",
       "  </thead>\n",
       "  <tbody>\n",
       "    <tr>\n",
       "      <th>0</th>\n",
       "      <td>2021-02-28</td>\n",
       "      <td>0</td>\n",
       "      <td>1.389866</td>\n",
       "      <td>2.716893</td>\n",
       "      <td>7.573223</td>\n",
       "      <td>16.502392</td>\n",
       "      <td>217.510173</td>\n",
       "      <td>212.012858</td>\n",
       "    </tr>\n",
       "    <tr>\n",
       "      <th>1315</th>\n",
       "      <td>2021-02-28</td>\n",
       "      <td>1</td>\n",
       "      <td>23.733861</td>\n",
       "      <td>70.588028</td>\n",
       "      <td>2.340049</td>\n",
       "      <td>8.035806</td>\n",
       "      <td>45665.893410</td>\n",
       "      <td>44979.024610</td>\n",
       "    </tr>\n",
       "    <tr>\n",
       "      <th>4179</th>\n",
       "      <td>2021-02-28</td>\n",
       "      <td>2</td>\n",
       "      <td>6.986660</td>\n",
       "      <td>3.414095</td>\n",
       "      <td>1.189515</td>\n",
       "      <td>16.724383</td>\n",
       "      <td>1.315839</td>\n",
       "      <td>1.263603</td>\n",
       "    </tr>\n",
       "    <tr>\n",
       "      <th>5426</th>\n",
       "      <td>2021-02-28</td>\n",
       "      <td>3</td>\n",
       "      <td>0.896995</td>\n",
       "      <td>0.848326</td>\n",
       "      <td>6.364030</td>\n",
       "      <td>15.942324</td>\n",
       "      <td>25.448330</td>\n",
       "      <td>24.914530</td>\n",
       "    </tr>\n",
       "    <tr>\n",
       "      <th>6684</th>\n",
       "      <td>2021-02-28</td>\n",
       "      <td>4</td>\n",
       "      <td>12.273309</td>\n",
       "      <td>13.644850</td>\n",
       "      <td>3.093928</td>\n",
       "      <td>12.912187</td>\n",
       "      <td>1437.954670</td>\n",
       "      <td>1384.431813</td>\n",
       "    </tr>\n",
       "    <tr>\n",
       "      <th>...</th>\n",
       "      <td>...</td>\n",
       "      <td>...</td>\n",
       "      <td>...</td>\n",
       "      <td>...</td>\n",
       "      <td>...</td>\n",
       "      <td>...</td>\n",
       "      <td>...</td>\n",
       "      <td>...</td>\n",
       "    </tr>\n",
       "    <tr>\n",
       "      <th>7930</th>\n",
       "      <td>2017-10-01</td>\n",
       "      <td>4</td>\n",
       "      <td>16.644267</td>\n",
       "      <td>25.264011</td>\n",
       "      <td>-0.261301</td>\n",
       "      <td>2.756036</td>\n",
       "      <td>301.942001</td>\n",
       "      <td>299.126999</td>\n",
       "    </tr>\n",
       "    <tr>\n",
       "      <th>9963</th>\n",
       "      <td>2017-10-01</td>\n",
       "      <td>5</td>\n",
       "      <td>5.445965</td>\n",
       "      <td>2.554226</td>\n",
       "      <td>1.087025</td>\n",
       "      <td>2.865071</td>\n",
       "      <td>54.839750</td>\n",
       "      <td>54.393398</td>\n",
       "    </tr>\n",
       "    <tr>\n",
       "      <th>13020</th>\n",
       "      <td>2017-10-01</td>\n",
       "      <td>7</td>\n",
       "      <td>0.083407</td>\n",
       "      <td>0.199908</td>\n",
       "      <td>0.913177</td>\n",
       "      <td>3.598702</td>\n",
       "      <td>0.013751</td>\n",
       "      <td>0.013623</td>\n",
       "    </tr>\n",
       "    <tr>\n",
       "      <th>15420</th>\n",
       "      <td>2017-10-01</td>\n",
       "      <td>8</td>\n",
       "      <td>5.599478</td>\n",
       "      <td>0.384778</td>\n",
       "      <td>-0.265821</td>\n",
       "      <td>0.721311</td>\n",
       "      <td>0.998595</td>\n",
       "      <td>0.998581</td>\n",
       "    </tr>\n",
       "    <tr>\n",
       "      <th>17611</th>\n",
       "      <td>2017-10-01</td>\n",
       "      <td>9</td>\n",
       "      <td>2.791150</td>\n",
       "      <td>6.972413</td>\n",
       "      <td>-4.314102</td>\n",
       "      <td>5.615027</td>\n",
       "      <td>0.202077</td>\n",
       "      <td>0.201678</td>\n",
       "    </tr>\n",
       "  </tbody>\n",
       "</table>\n",
       "<p>11416 rows × 8 columns</p>\n",
       "</div>"
      ],
      "text/plain": [
       "            Date  Crypto     Volume  MarketCap  OpenClose    HighLow  \\\n",
       "0     2021-02-28       0   1.389866   2.716893   7.573223  16.502392   \n",
       "1315  2021-02-28       1  23.733861  70.588028   2.340049   8.035806   \n",
       "4179  2021-02-28       2   6.986660   3.414095   1.189515  16.724383   \n",
       "5426  2021-02-28       3   0.896995   0.848326   6.364030  15.942324   \n",
       "6684  2021-02-28       4  12.273309  13.644850   3.093928  12.912187   \n",
       "...          ...     ...        ...        ...        ...        ...   \n",
       "7930  2017-10-01       4  16.644267  25.264011  -0.261301   2.756036   \n",
       "9963  2017-10-01       5   5.445965   2.554226   1.087025   2.865071   \n",
       "13020 2017-10-01       7   0.083407   0.199908   0.913177   3.598702   \n",
       "15420 2017-10-01       8   5.599478   0.384778  -0.265821   0.721311   \n",
       "17611 2017-10-01       9   2.791150   6.972413  -4.314102   5.615027   \n",
       "\n",
       "           AvgPrice      AvgValue  \n",
       "0        217.510173    212.012858  \n",
       "1315   45665.893410  44979.024610  \n",
       "4179       1.315839      1.263603  \n",
       "5426      25.448330     24.914530  \n",
       "6684    1437.954670   1384.431813  \n",
       "...             ...           ...  \n",
       "7930     301.942001    299.126999  \n",
       "9963      54.839750     54.393398  \n",
       "13020      0.013751      0.013623  \n",
       "15420      0.998595      0.998581  \n",
       "17611      0.202077      0.201678  \n",
       "\n",
       "[11416 rows x 8 columns]"
      ]
     },
     "execution_count": 17,
     "metadata": {},
     "output_type": "execute_result"
    }
   ],
   "source": [
    "check"
   ]
  },
  {
   "cell_type": "code",
   "execution_count": 18,
   "metadata": {},
   "outputs": [],
   "source": [
    "# group check dataframe by crypto\n",
    "group_crypto = check.groupby('Crypto')"
   ]
  },
  {
   "cell_type": "code",
   "execution_count": 19,
   "metadata": {},
   "outputs": [],
   "source": [
    "# Compute the mean of OpenClose, HighLow, MarketCap, Volume columns of the group_crypto dataframe \n",
    "crypto_oc = group_crypto['OpenClose'].agg(np.mean)\n",
    "#crypto_close = group_crypto['Close'].agg(np.mean)\n",
    "crypto_hl = group_crypto['HighLow'].agg(np.mean)\n",
    "#crypto_low = group_crypto['Low'].agg(np.mean)\n",
    "crypto_mc = group_crypto['MarketCap'].agg(np.mean)\n",
    "crypto_vol = group_crypto['Volume'].agg(np.mean)\n",
    "crypto_price = group_crypto['AvgPrice'].agg(np.mean)\n",
    "crypto_val = group_crypto['AvgValue'].agg(np.mean)\n",
    "#crypto_vm = group_crypto['VM Ratio'].agg(np.mean)"
   ]
  },
  {
   "cell_type": "code",
   "execution_count": 20,
   "metadata": {},
   "outputs": [],
   "source": [
    "# create a new dataframe for all the mean values\n",
    "group_df = pd.DataFrame()\n",
    "group_df['Cryptos'] = check['Crypto'].unique()\n",
    "group_df['OpenClose'] = crypto_oc\n",
    "group_df['HighLow'] = crypto_hl\n",
    "group_df['MarketCap'] = crypto_mc\n",
    "group_df['Volume'] = crypto_vol\n",
    "group_df['AvgPrice'] = crypto_price\n",
    "group_df['AvgValue'] = crypto_val\n",
    "#group_df['VM Ratio'] = crypto_vm"
   ]
  },
  {
   "cell_type": "code",
   "execution_count": 21,
   "metadata": {},
   "outputs": [
    {
     "data": {
      "text/html": [
       "<div>\n",
       "<style scoped>\n",
       "    .dataframe tbody tr th:only-of-type {\n",
       "        vertical-align: middle;\n",
       "    }\n",
       "\n",
       "    .dataframe tbody tr th {\n",
       "        vertical-align: top;\n",
       "    }\n",
       "\n",
       "    .dataframe thead th {\n",
       "        text-align: right;\n",
       "    }\n",
       "</style>\n",
       "<table border=\"1\" class=\"dataframe\">\n",
       "  <thead>\n",
       "    <tr style=\"text-align: right;\">\n",
       "      <th></th>\n",
       "      <th>Cryptos</th>\n",
       "      <th>OpenClose</th>\n",
       "      <th>HighLow</th>\n",
       "      <th>MarketCap</th>\n",
       "      <th>Volume</th>\n",
       "      <th>AvgPrice</th>\n",
       "      <th>AvgValue</th>\n",
       "    </tr>\n",
       "  </thead>\n",
       "  <tbody>\n",
       "    <tr>\n",
       "      <th>0</th>\n",
       "      <td>0</td>\n",
       "      <td>-0.155370</td>\n",
       "      <td>8.359344</td>\n",
       "      <td>1.071488</td>\n",
       "      <td>0.458698</td>\n",
       "      <td>20.108256</td>\n",
       "      <td>20.046732</td>\n",
       "    </tr>\n",
       "    <tr>\n",
       "      <th>1</th>\n",
       "      <td>1</td>\n",
       "      <td>-0.095923</td>\n",
       "      <td>5.240957</td>\n",
       "      <td>69.258139</td>\n",
       "      <td>40.248561</td>\n",
       "      <td>10233.025952</td>\n",
       "      <td>10211.626710</td>\n",
       "    </tr>\n",
       "    <tr>\n",
       "      <th>2</th>\n",
       "      <td>2</td>\n",
       "      <td>-0.068914</td>\n",
       "      <td>9.769008</td>\n",
       "      <td>1.255743</td>\n",
       "      <td>0.624465</td>\n",
       "      <td>0.139109</td>\n",
       "      <td>0.138511</td>\n",
       "    </tr>\n",
       "    <tr>\n",
       "      <th>3</th>\n",
       "      <td>3</td>\n",
       "      <td>-0.013277</td>\n",
       "      <td>11.815212</td>\n",
       "      <td>0.416654</td>\n",
       "      <td>0.407971</td>\n",
       "      <td>3.872744</td>\n",
       "      <td>3.863103</td>\n",
       "    </tr>\n",
       "    <tr>\n",
       "      <th>4</th>\n",
       "      <td>4</td>\n",
       "      <td>0.027188</td>\n",
       "      <td>6.739537</td>\n",
       "      <td>14.808482</td>\n",
       "      <td>15.635820</td>\n",
       "      <td>384.796917</td>\n",
       "      <td>383.593620</td>\n",
       "    </tr>\n",
       "    <tr>\n",
       "      <th>5</th>\n",
       "      <td>5</td>\n",
       "      <td>0.082176</td>\n",
       "      <td>7.558739</td>\n",
       "      <td>2.099740</td>\n",
       "      <td>4.438660</td>\n",
       "      <td>84.402682</td>\n",
       "      <td>84.228363</td>\n",
       "    </tr>\n",
       "    <tr>\n",
       "      <th>6</th>\n",
       "      <td>6</td>\n",
       "      <td>-0.945874</td>\n",
       "      <td>11.859125</td>\n",
       "      <td>1.220109</td>\n",
       "      <td>0.819865</td>\n",
       "      <td>9.507749</td>\n",
       "      <td>9.464062</td>\n",
       "    </tr>\n",
       "    <tr>\n",
       "      <th>7</th>\n",
       "      <td>7</td>\n",
       "      <td>-0.016895</td>\n",
       "      <td>9.442883</td>\n",
       "      <td>1.271531</td>\n",
       "      <td>0.604632</td>\n",
       "      <td>0.155657</td>\n",
       "      <td>0.155433</td>\n",
       "    </tr>\n",
       "    <tr>\n",
       "      <th>8</th>\n",
       "      <td>8</td>\n",
       "      <td>-0.001160</td>\n",
       "      <td>1.649235</td>\n",
       "      <td>2.132482</td>\n",
       "      <td>33.630384</td>\n",
       "      <td>1.002293</td>\n",
       "      <td>1.002913</td>\n",
       "    </tr>\n",
       "    <tr>\n",
       "      <th>9</th>\n",
       "      <td>9</td>\n",
       "      <td>0.151228</td>\n",
       "      <td>7.894376</td>\n",
       "      <td>7.496903</td>\n",
       "      <td>3.823917</td>\n",
       "      <td>0.410927</td>\n",
       "      <td>0.410520</td>\n",
       "    </tr>\n",
       "  </tbody>\n",
       "</table>\n",
       "</div>"
      ],
      "text/plain": [
       "   Cryptos  OpenClose    HighLow  MarketCap     Volume      AvgPrice  \\\n",
       "0        0  -0.155370   8.359344   1.071488   0.458698     20.108256   \n",
       "1        1  -0.095923   5.240957  69.258139  40.248561  10233.025952   \n",
       "2        2  -0.068914   9.769008   1.255743   0.624465      0.139109   \n",
       "3        3  -0.013277  11.815212   0.416654   0.407971      3.872744   \n",
       "4        4   0.027188   6.739537  14.808482  15.635820    384.796917   \n",
       "5        5   0.082176   7.558739   2.099740   4.438660     84.402682   \n",
       "6        6  -0.945874  11.859125   1.220109   0.819865      9.507749   \n",
       "7        7  -0.016895   9.442883   1.271531   0.604632      0.155657   \n",
       "8        8  -0.001160   1.649235   2.132482  33.630384      1.002293   \n",
       "9        9   0.151228   7.894376   7.496903   3.823917      0.410927   \n",
       "\n",
       "       AvgValue  \n",
       "0     20.046732  \n",
       "1  10211.626710  \n",
       "2      0.138511  \n",
       "3      3.863103  \n",
       "4    383.593620  \n",
       "5     84.228363  \n",
       "6      9.464062  \n",
       "7      0.155433  \n",
       "8      1.002913  \n",
       "9      0.410520  "
      ]
     },
     "execution_count": 21,
     "metadata": {},
     "output_type": "execute_result"
    }
   ],
   "source": [
    "group_df"
   ]
  },
  {
   "cell_type": "code",
   "execution_count": 22,
   "metadata": {},
   "outputs": [
    {
     "data": {
      "text/html": [
       "<div>\n",
       "<style scoped>\n",
       "    .dataframe tbody tr th:only-of-type {\n",
       "        vertical-align: middle;\n",
       "    }\n",
       "\n",
       "    .dataframe tbody tr th {\n",
       "        vertical-align: top;\n",
       "    }\n",
       "\n",
       "    .dataframe thead th {\n",
       "        text-align: right;\n",
       "    }\n",
       "</style>\n",
       "<table border=\"1\" class=\"dataframe\">\n",
       "  <thead>\n",
       "    <tr style=\"text-align: right;\">\n",
       "      <th></th>\n",
       "      <th>Cryptos</th>\n",
       "      <th>OpenClose</th>\n",
       "      <th>HighLow</th>\n",
       "      <th>MarketCap</th>\n",
       "      <th>Volume</th>\n",
       "      <th>AvgPrice</th>\n",
       "      <th>AvgValue</th>\n",
       "    </tr>\n",
       "  </thead>\n",
       "  <tbody>\n",
       "    <tr>\n",
       "      <th>0</th>\n",
       "      <td>0</td>\n",
       "      <td>-0.155370</td>\n",
       "      <td>8.359344</td>\n",
       "      <td>1.071488</td>\n",
       "      <td>0.458698</td>\n",
       "      <td>20.108256</td>\n",
       "      <td>20.046732</td>\n",
       "    </tr>\n",
       "    <tr>\n",
       "      <th>1</th>\n",
       "      <td>1</td>\n",
       "      <td>-0.095923</td>\n",
       "      <td>5.240957</td>\n",
       "      <td>69.258139</td>\n",
       "      <td>40.248561</td>\n",
       "      <td>10233.025952</td>\n",
       "      <td>10211.626710</td>\n",
       "    </tr>\n",
       "    <tr>\n",
       "      <th>2</th>\n",
       "      <td>2</td>\n",
       "      <td>-0.068914</td>\n",
       "      <td>9.769008</td>\n",
       "      <td>1.255743</td>\n",
       "      <td>0.624465</td>\n",
       "      <td>0.139109</td>\n",
       "      <td>0.138511</td>\n",
       "    </tr>\n",
       "    <tr>\n",
       "      <th>3</th>\n",
       "      <td>3</td>\n",
       "      <td>-0.013277</td>\n",
       "      <td>11.815212</td>\n",
       "      <td>0.416654</td>\n",
       "      <td>0.407971</td>\n",
       "      <td>3.872744</td>\n",
       "      <td>3.863103</td>\n",
       "    </tr>\n",
       "    <tr>\n",
       "      <th>4</th>\n",
       "      <td>4</td>\n",
       "      <td>0.027188</td>\n",
       "      <td>6.739537</td>\n",
       "      <td>14.808482</td>\n",
       "      <td>15.635820</td>\n",
       "      <td>384.796917</td>\n",
       "      <td>383.593620</td>\n",
       "    </tr>\n",
       "    <tr>\n",
       "      <th>5</th>\n",
       "      <td>5</td>\n",
       "      <td>0.082176</td>\n",
       "      <td>7.558739</td>\n",
       "      <td>2.099740</td>\n",
       "      <td>4.438660</td>\n",
       "      <td>84.402682</td>\n",
       "      <td>84.228363</td>\n",
       "    </tr>\n",
       "    <tr>\n",
       "      <th>6</th>\n",
       "      <td>6</td>\n",
       "      <td>-0.945874</td>\n",
       "      <td>11.859125</td>\n",
       "      <td>1.220109</td>\n",
       "      <td>0.819865</td>\n",
       "      <td>9.507749</td>\n",
       "      <td>9.464062</td>\n",
       "    </tr>\n",
       "    <tr>\n",
       "      <th>7</th>\n",
       "      <td>7</td>\n",
       "      <td>-0.016895</td>\n",
       "      <td>9.442883</td>\n",
       "      <td>1.271531</td>\n",
       "      <td>0.604632</td>\n",
       "      <td>0.155657</td>\n",
       "      <td>0.155433</td>\n",
       "    </tr>\n",
       "    <tr>\n",
       "      <th>8</th>\n",
       "      <td>8</td>\n",
       "      <td>-0.001160</td>\n",
       "      <td>1.649235</td>\n",
       "      <td>2.132482</td>\n",
       "      <td>33.630384</td>\n",
       "      <td>1.002293</td>\n",
       "      <td>1.002913</td>\n",
       "    </tr>\n",
       "    <tr>\n",
       "      <th>9</th>\n",
       "      <td>9</td>\n",
       "      <td>0.151228</td>\n",
       "      <td>7.894376</td>\n",
       "      <td>7.496903</td>\n",
       "      <td>3.823917</td>\n",
       "      <td>0.410927</td>\n",
       "      <td>0.410520</td>\n",
       "    </tr>\n",
       "  </tbody>\n",
       "</table>\n",
       "</div>"
      ],
      "text/plain": [
       "   Cryptos  OpenClose    HighLow  MarketCap     Volume      AvgPrice  \\\n",
       "0        0  -0.155370   8.359344   1.071488   0.458698     20.108256   \n",
       "1        1  -0.095923   5.240957  69.258139  40.248561  10233.025952   \n",
       "2        2  -0.068914   9.769008   1.255743   0.624465      0.139109   \n",
       "3        3  -0.013277  11.815212   0.416654   0.407971      3.872744   \n",
       "4        4   0.027188   6.739537  14.808482  15.635820    384.796917   \n",
       "5        5   0.082176   7.558739   2.099740   4.438660     84.402682   \n",
       "6        6  -0.945874  11.859125   1.220109   0.819865      9.507749   \n",
       "7        7  -0.016895   9.442883   1.271531   0.604632      0.155657   \n",
       "8        8  -0.001160   1.649235   2.132482  33.630384      1.002293   \n",
       "9        9   0.151228   7.894376   7.496903   3.823917      0.410927   \n",
       "\n",
       "       AvgValue  \n",
       "0     20.046732  \n",
       "1  10211.626710  \n",
       "2      0.138511  \n",
       "3      3.863103  \n",
       "4    383.593620  \n",
       "5     84.228363  \n",
       "6      9.464062  \n",
       "7      0.155433  \n",
       "8      1.002913  \n",
       "9      0.410520  "
      ]
     },
     "execution_count": 22,
     "metadata": {},
     "output_type": "execute_result"
    }
   ],
   "source": [
    "#The group_df dataframe contains 10 rows, each row refers to each crypto currency data.\n",
    "binance, bitcoin, cardano, chainLink, ethereum, liteCoin, polkadots, stellar, tether, xrp = [], [], [], [], [], [], [], [], [], []\n",
    "for i in range(len(group_df.columns)):\n",
    "    binance.append(group_df.iloc[0,i])\n",
    "    bitcoin.append(group_df.iloc[1,i])\n",
    "    cardano.append(group_df.iloc[2,i])\n",
    "    chainLink.append(group_df.iloc[3,i])\n",
    "    ethereum.append(group_df.iloc[4,i])\n",
    "    liteCoin.append(group_df.iloc[5,i])\n",
    "    polkadots.append(group_df.iloc[6,i])\n",
    "    stellar.append(group_df.iloc[7,i])\n",
    "    tether.append(group_df.iloc[8,i])\n",
    "    xrp.append(group_df.iloc[9,i])\n",
    "group_df"
   ]
  },
  {
   "cell_type": "code",
   "execution_count": 23,
   "metadata": {},
   "outputs": [],
   "source": [
    "# transfrom cryptos as columns and attributes as rows\n",
    "group_df_rev = pd.DataFrame({\n",
    "    \"Binance\": [binance[1], binance[2], binance[3], binance[4], binance[5], binance[6]],\n",
    "    \"Bitcoin\": [bitcoin[1], bitcoin[2], bitcoin[3], bitcoin[4], bitcoin[5], bitcoin[6]],\n",
    "    \"Cardano\": [cardano[1], cardano[2], cardano[3], cardano[4], cardano[5], cardano[6]],\n",
    "    \"ChainLink\": [chainLink[1], chainLink[2], chainLink[3], chainLink[4], chainLink[5], chainLink[6]],\n",
    "    \"Ethereum\": [ethereum[1], ethereum[2], ethereum[3], ethereum[4], ethereum[5], ethereum[6]],\n",
    "    \"Litecoin\": [liteCoin[1], liteCoin[2], liteCoin[3], liteCoin[4], liteCoin[5], liteCoin[6]],\n",
    "    \"Polkadot\": [polkadots[1], polkadots[2], polkadots[3], polkadots[4], polkadots[5], polkadots[6]],\n",
    "    \"Stellar\": [stellar[1], stellar[2], stellar[3], stellar[4], stellar[5], stellar[6]],\n",
    "    \"Tether\": [tether[1], tether[2], tether[3], tether[4], tether[5], tether[6]],\n",
    "    \"XRP\": [xrp[1], xrp[2], xrp[3], xrp[4], xrp[5], xrp[6]]\n",
    "})\n",
    "\n",
    "group_df_rev = group_df_rev.rename(index={0: 'OpenClose', 1: 'HighLow', 2:'MarketCap', 3:'Volume', 4:'AvgPrice', 5:'AvgValue'})"
   ]
  },
  {
   "cell_type": "code",
   "execution_count": 24,
   "metadata": {},
   "outputs": [],
   "source": [
    "# List of cyptos\n",
    "cryptos = ['Binance', 'Bitcoin', 'Cardano', 'ChainLink', 'Ethereum', 'Litecoin', 'Polkadot', 'Stellar', 'Tether', 'XRP']\n",
    "#df1 = final_df[final_df['Date'] > '2020-03-20 00:00:00']\n",
    "x = check['Date'].unique()"
   ]
  },
  {
   "cell_type": "code",
   "execution_count": 25,
   "metadata": {},
   "outputs": [
    {
     "data": {
      "image/png": "[encoded data removed]",
      "text/plain": [
       "<Figure size 432x288 with 1 Axes>"
      ]
     },
     "metadata": {
      "needs_background": "light"
     },
     "output_type": "display_data"
    }
   ],
   "source": [
    "# The graph between market capital percentage and the date with respect to all crypto currencies.\n",
    "#for i in range(2, len(cryptos)):\n",
    "for i in range(0, len(cryptos)):\n",
    "    plt_data = check[check['Crypto'] == i]\n",
    "    y = plt_data['MarketCap']\n",
    "    j = len(y)\n",
    "    \n",
    "    while j != len(x):\n",
    "        y[j] = np.min(plt_data['MarketCap'])\n",
    "        j += 1\n",
    "    \n",
    "    plt.plot(x, y, label = cryptos[i])\n",
    "\n",
    "plt.xlabel('Date')\n",
    "plt.ylabel('Marekt Cap')\n",
    "plt.title('Market Capital Percentages')\n",
    "plt.legend()\n",
    "plt.rcParams[\"figure.figsize\"] = (20, 25)\n",
    "plt.show()"
   ]
  },
  {
   "cell_type": "markdown",
   "metadata": {},
   "source": [
    "**Interpretation :** As shown in the line graph above, the Bitcoin has the highest market capital value and then followed by ethereum and XRP. Initially, the bitcoin value was low, it kept increasing gradually with some fluctuations. The Etherium and XRP graph is high initially, and later those coins values also started decreasing.After Jan-2020, etherium market capital value gradually increases and XRP value decreases. At certain period of time, the XRP market capital value was higher than the Etherium. By this we can say that the market capital of Bitcoin and XRP,Etherium has influence on each other negitively at certain point. Usually, the higher market capital is consider as the safe investment. Therefore, a suggestion that the plot is giving is that our main choices could come from either bitcoin, etherium, litecoin or XRP, since they have relatively high market capital.\n",
    "\n",
    "The market capital value of the remaining coins is almost equivalent to 0 and might be negligible."
   ]
  },
  {
   "cell_type": "code",
   "execution_count": 26,
   "metadata": {},
   "outputs": [
    {
     "data": {
      "text/html": [
       "<div>\n",
       "<style scoped>\n",
       "    .dataframe tbody tr th:only-of-type {\n",
       "        vertical-align: middle;\n",
       "    }\n",
       "\n",
       "    .dataframe tbody tr th {\n",
       "        vertical-align: top;\n",
       "    }\n",
       "\n",
       "    .dataframe thead th {\n",
       "        text-align: right;\n",
       "    }\n",
       "</style>\n",
       "<table border=\"1\" class=\"dataframe\">\n",
       "  <thead>\n",
       "    <tr style=\"text-align: right;\">\n",
       "      <th></th>\n",
       "      <th>Cryptos</th>\n",
       "      <th>OpenClose</th>\n",
       "      <th>HighLow</th>\n",
       "      <th>MarketCap</th>\n",
       "      <th>Volume</th>\n",
       "      <th>AvgPrice</th>\n",
       "      <th>AvgValue</th>\n",
       "    </tr>\n",
       "  </thead>\n",
       "  <tbody>\n",
       "    <tr>\n",
       "      <th>0</th>\n",
       "      <td>0</td>\n",
       "      <td>-0.155370</td>\n",
       "      <td>8.359344</td>\n",
       "      <td>1.071488</td>\n",
       "      <td>0.458698</td>\n",
       "      <td>20.108256</td>\n",
       "      <td>20.046732</td>\n",
       "    </tr>\n",
       "    <tr>\n",
       "      <th>1</th>\n",
       "      <td>1</td>\n",
       "      <td>-0.095923</td>\n",
       "      <td>5.240957</td>\n",
       "      <td>69.258139</td>\n",
       "      <td>40.248561</td>\n",
       "      <td>10233.025952</td>\n",
       "      <td>10211.626710</td>\n",
       "    </tr>\n",
       "    <tr>\n",
       "      <th>2</th>\n",
       "      <td>2</td>\n",
       "      <td>-0.068914</td>\n",
       "      <td>9.769008</td>\n",
       "      <td>1.255743</td>\n",
       "      <td>0.624465</td>\n",
       "      <td>0.139109</td>\n",
       "      <td>0.138511</td>\n",
       "    </tr>\n",
       "    <tr>\n",
       "      <th>3</th>\n",
       "      <td>3</td>\n",
       "      <td>-0.013277</td>\n",
       "      <td>11.815212</td>\n",
       "      <td>0.416654</td>\n",
       "      <td>0.407971</td>\n",
       "      <td>3.872744</td>\n",
       "      <td>3.863103</td>\n",
       "    </tr>\n",
       "    <tr>\n",
       "      <th>4</th>\n",
       "      <td>4</td>\n",
       "      <td>0.027188</td>\n",
       "      <td>6.739537</td>\n",
       "      <td>14.808482</td>\n",
       "      <td>15.635820</td>\n",
       "      <td>384.796917</td>\n",
       "      <td>383.593620</td>\n",
       "    </tr>\n",
       "    <tr>\n",
       "      <th>5</th>\n",
       "      <td>5</td>\n",
       "      <td>0.082176</td>\n",
       "      <td>7.558739</td>\n",
       "      <td>2.099740</td>\n",
       "      <td>4.438660</td>\n",
       "      <td>84.402682</td>\n",
       "      <td>84.228363</td>\n",
       "    </tr>\n",
       "    <tr>\n",
       "      <th>6</th>\n",
       "      <td>6</td>\n",
       "      <td>-0.945874</td>\n",
       "      <td>11.859125</td>\n",
       "      <td>1.220109</td>\n",
       "      <td>0.819865</td>\n",
       "      <td>9.507749</td>\n",
       "      <td>9.464062</td>\n",
       "    </tr>\n",
       "    <tr>\n",
       "      <th>7</th>\n",
       "      <td>7</td>\n",
       "      <td>-0.016895</td>\n",
       "      <td>9.442883</td>\n",
       "      <td>1.271531</td>\n",
       "      <td>0.604632</td>\n",
       "      <td>0.155657</td>\n",
       "      <td>0.155433</td>\n",
       "    </tr>\n",
       "    <tr>\n",
       "      <th>8</th>\n",
       "      <td>8</td>\n",
       "      <td>-0.001160</td>\n",
       "      <td>1.649235</td>\n",
       "      <td>2.132482</td>\n",
       "      <td>33.630384</td>\n",
       "      <td>1.002293</td>\n",
       "      <td>1.002913</td>\n",
       "    </tr>\n",
       "    <tr>\n",
       "      <th>9</th>\n",
       "      <td>9</td>\n",
       "      <td>0.151228</td>\n",
       "      <td>7.894376</td>\n",
       "      <td>7.496903</td>\n",
       "      <td>3.823917</td>\n",
       "      <td>0.410927</td>\n",
       "      <td>0.410520</td>\n",
       "    </tr>\n",
       "  </tbody>\n",
       "</table>\n",
       "</div>"
      ],
      "text/plain": [
       "   Cryptos  OpenClose    HighLow  MarketCap     Volume      AvgPrice  \\\n",
       "0        0  -0.155370   8.359344   1.071488   0.458698     20.108256   \n",
       "1        1  -0.095923   5.240957  69.258139  40.248561  10233.025952   \n",
       "2        2  -0.068914   9.769008   1.255743   0.624465      0.139109   \n",
       "3        3  -0.013277  11.815212   0.416654   0.407971      3.872744   \n",
       "4        4   0.027188   6.739537  14.808482  15.635820    384.796917   \n",
       "5        5   0.082176   7.558739   2.099740   4.438660     84.402682   \n",
       "6        6  -0.945874  11.859125   1.220109   0.819865      9.507749   \n",
       "7        7  -0.016895   9.442883   1.271531   0.604632      0.155657   \n",
       "8        8  -0.001160   1.649235   2.132482  33.630384      1.002293   \n",
       "9        9   0.151228   7.894376   7.496903   3.823917      0.410927   \n",
       "\n",
       "       AvgValue  \n",
       "0     20.046732  \n",
       "1  10211.626710  \n",
       "2      0.138511  \n",
       "3      3.863103  \n",
       "4    383.593620  \n",
       "5     84.228363  \n",
       "6      9.464062  \n",
       "7      0.155433  \n",
       "8      1.002913  \n",
       "9      0.410520  "
      ]
     },
     "execution_count": 26,
     "metadata": {},
     "output_type": "execute_result"
    }
   ],
   "source": [
    "group_df"
   ]
  },
  {
   "cell_type": "code",
   "execution_count": 27,
   "metadata": {},
   "outputs": [
    {
     "data": {
      "text/html": [
       "<div>\n",
       "<style scoped>\n",
       "    .dataframe tbody tr th:only-of-type {\n",
       "        vertical-align: middle;\n",
       "    }\n",
       "\n",
       "    .dataframe tbody tr th {\n",
       "        vertical-align: top;\n",
       "    }\n",
       "\n",
       "    .dataframe thead th {\n",
       "        text-align: right;\n",
       "    }\n",
       "</style>\n",
       "<table border=\"1\" class=\"dataframe\">\n",
       "  <thead>\n",
       "    <tr style=\"text-align: right;\">\n",
       "      <th></th>\n",
       "      <th>Binance</th>\n",
       "      <th>Bitcoin</th>\n",
       "      <th>Cardano</th>\n",
       "      <th>ChainLink</th>\n",
       "      <th>Ethereum</th>\n",
       "      <th>Litecoin</th>\n",
       "      <th>Polkadot</th>\n",
       "      <th>Stellar</th>\n",
       "      <th>Tether</th>\n",
       "      <th>XRP</th>\n",
       "    </tr>\n",
       "  </thead>\n",
       "  <tbody>\n",
       "    <tr>\n",
       "      <th>OpenClose</th>\n",
       "      <td>-0.155370</td>\n",
       "      <td>-0.095923</td>\n",
       "      <td>-0.068914</td>\n",
       "      <td>-0.013277</td>\n",
       "      <td>0.027188</td>\n",
       "      <td>0.082176</td>\n",
       "      <td>-0.945874</td>\n",
       "      <td>-0.016895</td>\n",
       "      <td>-0.001160</td>\n",
       "      <td>0.151228</td>\n",
       "    </tr>\n",
       "    <tr>\n",
       "      <th>HighLow</th>\n",
       "      <td>8.359344</td>\n",
       "      <td>5.240957</td>\n",
       "      <td>9.769008</td>\n",
       "      <td>11.815212</td>\n",
       "      <td>6.739537</td>\n",
       "      <td>7.558739</td>\n",
       "      <td>11.859125</td>\n",
       "      <td>9.442883</td>\n",
       "      <td>1.649235</td>\n",
       "      <td>7.894376</td>\n",
       "    </tr>\n",
       "    <tr>\n",
       "      <th>MarketCap</th>\n",
       "      <td>1.071488</td>\n",
       "      <td>69.258139</td>\n",
       "      <td>1.255743</td>\n",
       "      <td>0.416654</td>\n",
       "      <td>14.808482</td>\n",
       "      <td>2.099740</td>\n",
       "      <td>1.220109</td>\n",
       "      <td>1.271531</td>\n",
       "      <td>2.132482</td>\n",
       "      <td>7.496903</td>\n",
       "    </tr>\n",
       "    <tr>\n",
       "      <th>Volume</th>\n",
       "      <td>0.458698</td>\n",
       "      <td>40.248561</td>\n",
       "      <td>0.624465</td>\n",
       "      <td>0.407971</td>\n",
       "      <td>15.635820</td>\n",
       "      <td>4.438660</td>\n",
       "      <td>0.819865</td>\n",
       "      <td>0.604632</td>\n",
       "      <td>33.630384</td>\n",
       "      <td>3.823917</td>\n",
       "    </tr>\n",
       "    <tr>\n",
       "      <th>AvgPrice</th>\n",
       "      <td>20.108256</td>\n",
       "      <td>10233.025952</td>\n",
       "      <td>0.139109</td>\n",
       "      <td>3.872744</td>\n",
       "      <td>384.796917</td>\n",
       "      <td>84.402682</td>\n",
       "      <td>9.507749</td>\n",
       "      <td>0.155657</td>\n",
       "      <td>1.002293</td>\n",
       "      <td>0.410927</td>\n",
       "    </tr>\n",
       "    <tr>\n",
       "      <th>AvgValue</th>\n",
       "      <td>20.046732</td>\n",
       "      <td>10211.626710</td>\n",
       "      <td>0.138511</td>\n",
       "      <td>3.863103</td>\n",
       "      <td>383.593620</td>\n",
       "      <td>84.228363</td>\n",
       "      <td>9.464062</td>\n",
       "      <td>0.155433</td>\n",
       "      <td>1.002913</td>\n",
       "      <td>0.410520</td>\n",
       "    </tr>\n",
       "  </tbody>\n",
       "</table>\n",
       "</div>"
      ],
      "text/plain": [
       "             Binance       Bitcoin   Cardano  ChainLink    Ethereum  \\\n",
       "OpenClose  -0.155370     -0.095923 -0.068914  -0.013277    0.027188   \n",
       "HighLow     8.359344      5.240957  9.769008  11.815212    6.739537   \n",
       "MarketCap   1.071488     69.258139  1.255743   0.416654   14.808482   \n",
       "Volume      0.458698     40.248561  0.624465   0.407971   15.635820   \n",
       "AvgPrice   20.108256  10233.025952  0.139109   3.872744  384.796917   \n",
       "AvgValue   20.046732  10211.626710  0.138511   3.863103  383.593620   \n",
       "\n",
       "            Litecoin   Polkadot   Stellar     Tether       XRP  \n",
       "OpenClose   0.082176  -0.945874 -0.016895  -0.001160  0.151228  \n",
       "HighLow     7.558739  11.859125  9.442883   1.649235  7.894376  \n",
       "MarketCap   2.099740   1.220109  1.271531   2.132482  7.496903  \n",
       "Volume      4.438660   0.819865  0.604632  33.630384  3.823917  \n",
       "AvgPrice   84.402682   9.507749  0.155657   1.002293  0.410927  \n",
       "AvgValue   84.228363   9.464062  0.155433   1.002913  0.410520  "
      ]
     },
     "execution_count": 27,
     "metadata": {},
     "output_type": "execute_result"
    }
   ],
   "source": [
    "group_df_rev"
   ]
  },
  {
   "cell_type": "code",
   "execution_count": 28,
   "metadata": {
    "scrolled": true
   },
   "outputs": [
    {
     "data": {
      "image/png": "[encoded data removed]",
      "text/plain": [
       "<Figure size 1080x360 with 1 Axes>"
      ]
     },
     "metadata": {
      "needs_background": "light"
     },
     "output_type": "display_data"
    },
    {
     "data": {
      "image/png": "[encoded data removed]",
      "text/plain": [
       "<Figure size 1080x360 with 1 Axes>"
      ]
     },
     "metadata": {
      "needs_background": "light"
     },
     "output_type": "display_data"
    },
    {
     "data": {
      "image/png": "[encoded data removed]",
      "text/plain": [
       "<Figure size 1080x360 with 1 Axes>"
      ]
     },
     "metadata": {
      "needs_background": "light"
     },
     "output_type": "display_data"
    },
    {
     "data": {
      "image/png": "[encoded data removed]",
      "text/plain": [
       "<Figure size 1080x360 with 1 Axes>"
      ]
     },
     "metadata": {
      "needs_background": "light"
     },
     "output_type": "display_data"
    },
    {
     "data": {
      "image/png": "[encoded data removed]",
      "text/plain": [
       "<Figure size 1080x360 with 1 Axes>"
      ]
     },
     "metadata": {
      "needs_background": "light"
     },
     "output_type": "display_data"
    },
    {
     "data": {
      "image/png": "[encoded data removed]",
      "text/plain": [
       "<Figure size 1080x360 with 1 Axes>"
      ]
     },
     "metadata": {
      "needs_background": "light"
     },
     "output_type": "display_data"
    }
   ],
   "source": [
    "strings = ['MarketCap', 'Volume', 'OpenClose', 'HighLow', 'AvgPrice', 'AvgValue']\n",
    "# The plot between 'Market cap', 'Volume', 'OpenClose', 'Highlow', 'AvgPrice' and 'AvgValue' of top 10 cryptocurrencies\n",
    "for i in range(len(group_df.columns) - 1):\n",
    "    string = strings[i] + ' of top 10 Crytocurrencies'\n",
    "    plt.rcParams[\"figure.figsize\"] = (15, 5)\n",
    "    plt.bar(cryptos, group_df[strings[i]])\n",
    "    plt.title(string)\n",
    "    plt.xlabel('Cryptocurrency')\n",
    "    plt.ylabel(strings[i])\n",
    "    plt.show()"
   ]
  },
  {
   "cell_type": "markdown",
   "metadata": {},
   "source": [
    "**Interpretation:** As discussed in the above, Bitcoin, Ethereum and XRP has the highest market capital values. The volume of the bitcoin is higher since it has higher market capital which means it is very safe to invest, most of the trader choose to buy bitcoin. And then followed by Tether because the price of tether is just 1$ and it is easily convertable to any other coins.and next followed by Etherium, Litecoin and the XRP. The volume of the cryptocurrencies explains the amount of the currency traded the crypto coin in 24 hours.\n",
    "\n",
    "The percentages of open and close graph shows that all cryptocurriences have the negative values except the XRP, Ethereum, litecoin and Tether. Tether is positive because the value of tether is always 1$.This is because on average the other coins' closeing prices are lower than the opening prices.\n",
    "\n",
    "The graph about the percentages of the high and low differences shows how much the prices fluctuate. We can observe that tether has the lowest flctuation and thus relatively more constant in price than the other coins.Bitcoin, Ethereum and litecoin follows after tether. Polkadot and Chainlink have the highest fluctuation and thus have relatively low constant price. \n",
    " \n",
    "The average of open and close prices and the average of high and low prices correspond to the average price and thus are similar. Bitcoin is leading price-wise followed by etherium and litecoin.\n"
   ]
  },
  {
   "cell_type": "code",
   "execution_count": 29,
   "metadata": {},
   "outputs": [
    {
     "data": {
      "text/html": [
       "<div>\n",
       "<style scoped>\n",
       "    .dataframe tbody tr th:only-of-type {\n",
       "        vertical-align: middle;\n",
       "    }\n",
       "\n",
       "    .dataframe tbody tr th {\n",
       "        vertical-align: top;\n",
       "    }\n",
       "\n",
       "    .dataframe thead th {\n",
       "        text-align: right;\n",
       "    }\n",
       "</style>\n",
       "<table border=\"1\" class=\"dataframe\">\n",
       "  <thead>\n",
       "    <tr style=\"text-align: right;\">\n",
       "      <th></th>\n",
       "      <th>Binance</th>\n",
       "      <th>Bitcoin</th>\n",
       "      <th>Cardano</th>\n",
       "      <th>ChainLink</th>\n",
       "      <th>Ethereum</th>\n",
       "      <th>Litecoin</th>\n",
       "      <th>Polkadot</th>\n",
       "      <th>Stellar</th>\n",
       "      <th>Tether</th>\n",
       "      <th>XRP</th>\n",
       "    </tr>\n",
       "  </thead>\n",
       "  <tbody>\n",
       "    <tr>\n",
       "      <th>Binance</th>\n",
       "      <td>1.000000</td>\n",
       "      <td>0.946619</td>\n",
       "      <td>-0.052517</td>\n",
       "      <td>0.395586</td>\n",
       "      <td>0.945581</td>\n",
       "      <td>0.961907</td>\n",
       "      <td>0.811341</td>\n",
       "      <td>-0.054612</td>\n",
       "      <td>-0.400876</td>\n",
       "      <td>-0.434077</td>\n",
       "    </tr>\n",
       "    <tr>\n",
       "      <th>Bitcoin</th>\n",
       "      <td>0.946619</td>\n",
       "      <td>1.000000</td>\n",
       "      <td>-0.371616</td>\n",
       "      <td>0.079667</td>\n",
       "      <td>0.999676</td>\n",
       "      <td>0.998173</td>\n",
       "      <td>0.580406</td>\n",
       "      <td>-0.373563</td>\n",
       "      <td>-0.323525</td>\n",
       "      <td>-0.630101</td>\n",
       "    </tr>\n",
       "    <tr>\n",
       "      <th>Cardano</th>\n",
       "      <td>-0.052517</td>\n",
       "      <td>-0.371616</td>\n",
       "      <td>1.000000</td>\n",
       "      <td>0.892070</td>\n",
       "      <td>-0.373426</td>\n",
       "      <td>-0.321780</td>\n",
       "      <td>0.538969</td>\n",
       "      <td>0.999984</td>\n",
       "      <td>-0.148124</td>\n",
       "      <td>0.705174</td>\n",
       "    </tr>\n",
       "    <tr>\n",
       "      <th>ChainLink</th>\n",
       "      <td>0.395586</td>\n",
       "      <td>0.079667</td>\n",
       "      <td>0.892070</td>\n",
       "      <td>1.000000</td>\n",
       "      <td>0.075972</td>\n",
       "      <td>0.132042</td>\n",
       "      <td>0.851615</td>\n",
       "      <td>0.890954</td>\n",
       "      <td>-0.308452</td>\n",
       "      <td>0.401291</td>\n",
       "    </tr>\n",
       "    <tr>\n",
       "      <th>Ethereum</th>\n",
       "      <td>0.945581</td>\n",
       "      <td>0.999676</td>\n",
       "      <td>-0.373426</td>\n",
       "      <td>0.075972</td>\n",
       "      <td>1.000000</td>\n",
       "      <td>0.998272</td>\n",
       "      <td>0.579664</td>\n",
       "      <td>-0.375426</td>\n",
       "      <td>-0.307488</td>\n",
       "      <td>-0.619000</td>\n",
       "    </tr>\n",
       "    <tr>\n",
       "      <th>Litecoin</th>\n",
       "      <td>0.961907</td>\n",
       "      <td>0.998173</td>\n",
       "      <td>-0.321780</td>\n",
       "      <td>0.132042</td>\n",
       "      <td>0.998272</td>\n",
       "      <td>1.000000</td>\n",
       "      <td>0.623711</td>\n",
       "      <td>-0.323909</td>\n",
       "      <td>-0.312089</td>\n",
       "      <td>-0.599272</td>\n",
       "    </tr>\n",
       "    <tr>\n",
       "      <th>Polkadot</th>\n",
       "      <td>0.811341</td>\n",
       "      <td>0.580406</td>\n",
       "      <td>0.538969</td>\n",
       "      <td>0.851615</td>\n",
       "      <td>0.579664</td>\n",
       "      <td>0.623711</td>\n",
       "      <td>1.000000</td>\n",
       "      <td>0.537002</td>\n",
       "      <td>-0.382907</td>\n",
       "      <td>0.061090</td>\n",
       "    </tr>\n",
       "    <tr>\n",
       "      <th>Stellar</th>\n",
       "      <td>-0.054612</td>\n",
       "      <td>-0.373563</td>\n",
       "      <td>0.999984</td>\n",
       "      <td>0.890954</td>\n",
       "      <td>-0.375426</td>\n",
       "      <td>-0.323909</td>\n",
       "      <td>0.537002</td>\n",
       "      <td>1.000000</td>\n",
       "      <td>-0.151808</td>\n",
       "      <td>0.706668</td>\n",
       "    </tr>\n",
       "    <tr>\n",
       "      <th>Tether</th>\n",
       "      <td>-0.400876</td>\n",
       "      <td>-0.323525</td>\n",
       "      <td>-0.148124</td>\n",
       "      <td>-0.308452</td>\n",
       "      <td>-0.307488</td>\n",
       "      <td>-0.312089</td>\n",
       "      <td>-0.382907</td>\n",
       "      <td>-0.151808</td>\n",
       "      <td>1.000000</td>\n",
       "      <td>0.107349</td>\n",
       "    </tr>\n",
       "    <tr>\n",
       "      <th>XRP</th>\n",
       "      <td>-0.434077</td>\n",
       "      <td>-0.630101</td>\n",
       "      <td>0.705174</td>\n",
       "      <td>0.401291</td>\n",
       "      <td>-0.619000</td>\n",
       "      <td>-0.599272</td>\n",
       "      <td>0.061090</td>\n",
       "      <td>0.706668</td>\n",
       "      <td>0.107349</td>\n",
       "      <td>1.000000</td>\n",
       "    </tr>\n",
       "  </tbody>\n",
       "</table>\n",
       "</div>"
      ],
      "text/plain": [
       "            Binance   Bitcoin   Cardano  ChainLink  Ethereum  Litecoin  \\\n",
       "Binance    1.000000  0.946619 -0.052517   0.395586  0.945581  0.961907   \n",
       "Bitcoin    0.946619  1.000000 -0.371616   0.079667  0.999676  0.998173   \n",
       "Cardano   -0.052517 -0.371616  1.000000   0.892070 -0.373426 -0.321780   \n",
       "ChainLink  0.395586  0.079667  0.892070   1.000000  0.075972  0.132042   \n",
       "Ethereum   0.945581  0.999676 -0.373426   0.075972  1.000000  0.998272   \n",
       "Litecoin   0.961907  0.998173 -0.321780   0.132042  0.998272  1.000000   \n",
       "Polkadot   0.811341  0.580406  0.538969   0.851615  0.579664  0.623711   \n",
       "Stellar   -0.054612 -0.373563  0.999984   0.890954 -0.375426 -0.323909   \n",
       "Tether    -0.400876 -0.323525 -0.148124  -0.308452 -0.307488 -0.312089   \n",
       "XRP       -0.434077 -0.630101  0.705174   0.401291 -0.619000 -0.599272   \n",
       "\n",
       "           Polkadot   Stellar    Tether       XRP  \n",
       "Binance    0.811341 -0.054612 -0.400876 -0.434077  \n",
       "Bitcoin    0.580406 -0.373563 -0.323525 -0.630101  \n",
       "Cardano    0.538969  0.999984 -0.148124  0.705174  \n",
       "ChainLink  0.851615  0.890954 -0.308452  0.401291  \n",
       "Ethereum   0.579664 -0.375426 -0.307488 -0.619000  \n",
       "Litecoin   0.623711 -0.323909 -0.312089 -0.599272  \n",
       "Polkadot   1.000000  0.537002 -0.382907  0.061090  \n",
       "Stellar    0.537002  1.000000 -0.151808  0.706668  \n",
       "Tether    -0.382907 -0.151808  1.000000  0.107349  \n",
       "XRP        0.061090  0.706668  0.107349  1.000000  "
      ]
     },
     "execution_count": 29,
     "metadata": {},
     "output_type": "execute_result"
    }
   ],
   "source": [
    "# The correlation matrix of different crypto currencies\n",
    "cor_matrix = group_df_rev.corr()\n",
    "cor_matrix"
   ]
  },
  {
   "cell_type": "code",
   "execution_count": 30,
   "metadata": {
    "scrolled": true
   },
   "outputs": [
    {
     "data": {
      "image/png": "[encoded data removed]",
      "text/plain": [
       "<Figure size 1080x360 with 2 Axes>"
      ]
     },
     "metadata": {
      "needs_background": "light"
     },
     "output_type": "display_data"
    }
   ],
   "source": [
    "# The visualization of cryptocurrencies correlation matrix\n",
    "heat_corr = sns.heatmap(\n",
    "                        cor_matrix,\n",
    "                        vmin = -1,\n",
    "                        vmax = 1,\n",
    "                        center = 0,\n",
    "                        cmap = sns.diverging_palette(20,220,n=200),\n",
    "                        square = True)\n",
    "\n",
    "heat_corr.set_xticklabels(heat_corr.get_xticklabels(),\n",
    "                         rotation = 45,\n",
    "                         horizontalalignment = 'right'\n",
    "                         );\n",
    "#NOTE: The dark color represents the high correlation between two cryptos and light color represents the less/no correlation between cryptos."
   ]
  },
  {
   "cell_type": "markdown",
   "metadata": {},
   "source": [
    "The more the score of correlation is towards the green color the higher the positive correlation of two coins, and the more it is towards the red color the more negatively correlated the two coins are. As shown in the matrix above, XRP,Tether, Stellar and Cardano are negatively correlated to bitcoin and that means for example, as XRP value increases, bitcoin value decreases and vice versa. Bitcoin has a strong correlation with Binance, Ethereum and the Litecoin. The stronger correlation indicates that as bitcoin increases, XRP also increases.\n",
    "In comparision between bitcoin and etherium, for most of the coins if bitcoin has the negative correlation, then etherium also has the negative correlation or less correlation with the same coin. "
   ]
  },
  {
   "cell_type": "code",
   "execution_count": 31,
   "metadata": {},
   "outputs": [
    {
     "name": "stdout",
     "output_type": "stream",
     "text": [
      "R-Squared values\n",
      "--------------------\n",
      "Date :  0.03868042569861174 %\n",
      "Crypto :  11.976091302898284 %\n",
      "Volume :  45.53674406741146 %\n",
      "OpenClose :  0.001986433551492972 %\n",
      "HighLow :  1.239854606530788 %\n",
      "AvgPrice :  58.920624210878515 %\n",
      "AvgValue :  59.08163652824962 %\n"
     ]
    }
   ],
   "source": [
    "features = check.columns\n",
    "\n",
    "print(\"R-Squared values\")\n",
    "print(\"--------------------\")\n",
    "\n",
    "for i in range(len(features)):\n",
    "    if features[i] != 'MarketCap':\n",
    "        x = \"MarketCap ~ \" + features[i]\n",
    "        market_cap = sm.ols(formula = x, data = check).fit()\n",
    "        print(features[i], \": \", market_cap.rsquared * 100, '%')"
   ]
  },
  {
   "cell_type": "markdown",
   "metadata": {},
   "source": [
    "The linear model is fit to predict the Market capital values given the attributes i.e date, Crypto, Volume, the average price, the average value, the percentage of the difference between open and close prices, and the percentage of the difference between high and low prices.  \n",
    "\n",
    "The R-squared value of the average price and value is around 59%, which means the avg price and value correspond 59% of the model's prediction of market capital. The R-squared value of volume is 45.5%. It is less than the Average price and value. Thus,the volume doesn't correspond to the prediction as much as the average price and average value. The remaining attributes' R-squared values are low. Therefore they don't have major influence on the market capital prediction.\n"
   ]
  },
  {
   "cell_type": "code",
   "execution_count": 32,
   "metadata": {
    "scrolled": true
   },
   "outputs": [
    {
     "name": "stdout",
     "output_type": "stream",
     "text": [
      "R-Squared values\n",
      "--------------------\n",
      "Binance :  89.60869375292889 %\n",
      "Cardano :  13.809838272741503 %\n",
      "ChainLink :  0.6346846941667983 %\n",
      "Ethereum :  99.93521436285647 %\n",
      "Litecoin :  99.63498431042287 %\n",
      "Polkadot :  33.68710623891806 %\n",
      "Stellar :  13.954938331960765 %\n",
      "Tether :  10.466822412459853 %\n",
      "XRP :  39.702687891101775 %\n"
     ]
    }
   ],
   "source": [
    "features = group_df_rev.columns\n",
    "\n",
    "print(\"R-Squared values\")\n",
    "print(\"--------------------\")\n",
    "\n",
    "for i in range(len(features)):\n",
    "    if features[i] != 'Bitcoin':\n",
    "        x = \"Bitcoin ~ \" + features[i]\n",
    "        btc = sm.ols(formula = x, data = group_df_rev).fit()\n",
    "        print(features[i], \": \", btc.rsquared * 100, '%')"
   ]
  },
  {
   "cell_type": "markdown",
   "metadata": {},
   "source": [
    "The linear model is fit to predict the bitcoin given the other crypto currencies. The R-squared values are computed for each crypto currency.\n",
    "\n",
    "The R-squared values of Ethereum, Litecoin and Binance are high, which means that ethereum, litcoin and binance correspond more to the prediction of bitcoin's rank. But on the otherhand, Cardano, ChainLink,Polkadot, Stellar, Tether and XRP have lower R-squared values. Therefore, these coins influence the prediction of bitcoin's rank less. "
   ]
  },
  {
   "cell_type": "code",
   "execution_count": 33,
   "metadata": {
    "scrolled": true
   },
   "outputs": [
    {
     "data": {
      "text/html": [
       "<table class=\"simpletable\">\n",
       "<caption>OLS Regression Results</caption>\n",
       "<tr>\n",
       "  <th>Dep. Variable:</th>         <td>Bitcoin</td>     <th>  R-squared:         </th> <td>   0.999</td>\n",
       "</tr>\n",
       "<tr>\n",
       "  <th>Model:</th>                   <td>OLS</td>       <th>  Adj. R-squared:    </th> <td>   0.999</td>\n",
       "</tr>\n",
       "<tr>\n",
       "  <th>Method:</th>             <td>Least Squares</td>  <th>  F-statistic:       </th> <td>   6170.</td>\n",
       "</tr>\n",
       "<tr>\n",
       "  <th>Date:</th>             <td>Wed, 24 Mar 2021</td> <th>  Prob (F-statistic):</th> <td>1.57e-07</td>\n",
       "</tr>\n",
       "<tr>\n",
       "  <th>Time:</th>                 <td>03:06:19</td>     <th>  Log-Likelihood:    </th> <td> -37.353</td>\n",
       "</tr>\n",
       "<tr>\n",
       "  <th>No. Observations:</th>      <td>     6</td>      <th>  AIC:               </th> <td>   78.71</td>\n",
       "</tr>\n",
       "<tr>\n",
       "  <th>Df Residuals:</th>          <td>     4</td>      <th>  BIC:               </th> <td>   78.29</td>\n",
       "</tr>\n",
       "<tr>\n",
       "  <th>Df Model:</th>              <td>     1</td>      <th>                     </th>     <td> </td>   \n",
       "</tr>\n",
       "<tr>\n",
       "  <th>Covariance Type:</th>      <td>nonrobust</td>    <th>                     </th>     <td> </td>   \n",
       "</tr>\n",
       "</table>\n",
       "<table class=\"simpletable\">\n",
       "<tr>\n",
       "      <td></td>         <th>coef</th>     <th>std err</th>      <th>t</th>      <th>P>|t|</th>  <th>[0.025</th>    <th>0.975]</th>  \n",
       "</tr>\n",
       "<tr>\n",
       "  <th>Intercept</th> <td> -221.5556</td> <td>   76.792</td> <td>   -2.885</td> <td> 0.045</td> <td> -434.764</td> <td>   -8.347</td>\n",
       "</tr>\n",
       "<tr>\n",
       "  <th>Ethereum</th>  <td>   27.1706</td> <td>    0.346</td> <td>   78.551</td> <td> 0.000</td> <td>   26.210</td> <td>   28.131</td>\n",
       "</tr>\n",
       "</table>\n",
       "<table class=\"simpletable\">\n",
       "<tr>\n",
       "  <th>Omnibus:</th>       <td>   nan</td> <th>  Durbin-Watson:     </th> <td>   0.943</td>\n",
       "</tr>\n",
       "<tr>\n",
       "  <th>Prob(Omnibus):</th> <td>   nan</td> <th>  Jarque-Bera (JB):  </th> <td>   0.304</td>\n",
       "</tr>\n",
       "<tr>\n",
       "  <th>Skew:</th>          <td> 0.466</td> <th>  Prob(JB):          </th> <td>   0.859</td>\n",
       "</tr>\n",
       "<tr>\n",
       "  <th>Kurtosis:</th>      <td> 2.412</td> <th>  Cond. No.          </th> <td>    279.</td>\n",
       "</tr>\n",
       "</table><br/><br/>Warnings:<br/>[1] Standard Errors assume that the covariance matrix of the errors is correctly specified."
      ],
      "text/plain": [
       "<class 'statsmodels.iolib.summary.Summary'>\n",
       "\"\"\"\n",
       "                            OLS Regression Results                            \n",
       "==============================================================================\n",
       "Dep. Variable:                Bitcoin   R-squared:                       0.999\n",
       "Model:                            OLS   Adj. R-squared:                  0.999\n",
       "Method:                 Least Squares   F-statistic:                     6170.\n",
       "Date:                Wed, 24 Mar 2021   Prob (F-statistic):           1.57e-07\n",
       "Time:                        03:06:19   Log-Likelihood:                -37.353\n",
       "No. Observations:                   6   AIC:                             78.71\n",
       "Df Residuals:                       4   BIC:                             78.29\n",
       "Df Model:                           1                                         \n",
       "Covariance Type:            nonrobust                                         \n",
       "==============================================================================\n",
       "                 coef    std err          t      P>|t|      [0.025      0.975]\n",
       "------------------------------------------------------------------------------\n",
       "Intercept   -221.5556     76.792     -2.885      0.045    -434.764      -8.347\n",
       "Ethereum      27.1706      0.346     78.551      0.000      26.210      28.131\n",
       "==============================================================================\n",
       "Omnibus:                          nan   Durbin-Watson:                   0.943\n",
       "Prob(Omnibus):                    nan   Jarque-Bera (JB):                0.304\n",
       "Skew:                           0.466   Prob(JB):                        0.859\n",
       "Kurtosis:                       2.412   Cond. No.                         279.\n",
       "==============================================================================\n",
       "\n",
       "Warnings:\n",
       "[1] Standard Errors assume that the covariance matrix of the errors is correctly specified.\n",
       "\"\"\""
      ]
     },
     "execution_count": 33,
     "metadata": {},
     "output_type": "execute_result"
    }
   ],
   "source": [
    "# fit the linear regression model to observe how ethereum values effects bitcoin values\n",
    "# The linear regression model is Bitcoin = beta_0 + beta_1*Ethereum\n",
    "single_model = sm.ols(formula = \"Bitcoin ~ Ethereum\", data = group_df_rev).fit()\n",
    "single_model.summary()"
   ]
  },
  {
   "cell_type": "markdown",
   "metadata": {},
   "source": [
    "As discussed above, the R-squared value of the Etherium model is 0.99, which means that the model explains 99% of the variablity in bitcoin's rank.\n",
    "\n",
    "The fit linear regression model is \n",
    "\n",
    "Bitcoin = beta_0 + beta_1*Ethereum. \n",
    "\n",
    "Bitcoin = -221.5556 + 27.1706*Ethereum.\n",
    "\n",
    "where beta_0 is the intercept and beta_1 is the coeffient of the etherium. \n",
    "\n",
    "beta_1 = 27.1706, the coeffienct of the etherium is positive, which means that if ethereum increases by 1 unit then bitcoin increases by 27.1706 units.\n",
    "\n",
    "beta_0 = -221.5556, The intercept is negative, which says that etherium decreases by 221.5556 for every one unit change in the bitcoin. [NOT SURE?]\n"
   ]
  },
  {
   "cell_type": "code",
   "execution_count": 34,
   "metadata": {
    "scrolled": false
   },
   "outputs": [
    {
     "data": {
      "text/html": [
       "<table class=\"simpletable\">\n",
       "<caption>OLS Regression Results</caption>\n",
       "<tr>\n",
       "  <th>Dep. Variable:</th>         <td>Bitcoin</td>     <th>  R-squared:         </th> <td>   0.464</td>\n",
       "</tr>\n",
       "<tr>\n",
       "  <th>Model:</th>                   <td>OLS</td>       <th>  Adj. R-squared:    </th> <td>  -0.341</td>\n",
       "</tr>\n",
       "<tr>\n",
       "  <th>Method:</th>             <td>Least Squares</td>  <th>  F-statistic:       </th> <td>  0.5765</td>\n",
       "</tr>\n",
       "<tr>\n",
       "  <th>Date:</th>             <td>Wed, 24 Mar 2021</td> <th>  Prob (F-statistic):</th>  <td> 0.684</td> \n",
       "</tr>\n",
       "<tr>\n",
       "  <th>Time:</th>                 <td>03:06:19</td>     <th>  Log-Likelihood:    </th> <td> -57.509</td>\n",
       "</tr>\n",
       "<tr>\n",
       "  <th>No. Observations:</th>      <td>     6</td>      <th>  AIC:               </th> <td>   123.0</td>\n",
       "</tr>\n",
       "<tr>\n",
       "  <th>Df Residuals:</th>          <td>     2</td>      <th>  BIC:               </th> <td>   122.2</td>\n",
       "</tr>\n",
       "<tr>\n",
       "  <th>Df Model:</th>              <td>     3</td>      <th>                     </th>     <td> </td>   \n",
       "</tr>\n",
       "<tr>\n",
       "  <th>Covariance Type:</th>      <td>nonrobust</td>    <th>                     </th>     <td> </td>   \n",
       "</tr>\n",
       "</table>\n",
       "<table class=\"simpletable\">\n",
       "<tr>\n",
       "      <td></td>         <th>coef</th>     <th>std err</th>      <th>t</th>      <th>P>|t|</th>  <th>[0.025</th>    <th>0.975]</th>  \n",
       "</tr>\n",
       "<tr>\n",
       "  <th>Intercept</th> <td> 7055.3506</td> <td> 3717.767</td> <td>    1.898</td> <td> 0.198</td> <td>-8940.912</td> <td> 2.31e+04</td>\n",
       "</tr>\n",
       "<tr>\n",
       "  <th>XRP</th>       <td> -910.1065</td> <td> 1113.493</td> <td>   -0.817</td> <td> 0.500</td> <td>-5701.082</td> <td> 3880.869</td>\n",
       "</tr>\n",
       "<tr>\n",
       "  <th>Tether</th>    <td>  -99.7041</td> <td>  217.768</td> <td>   -0.458</td> <td> 0.692</td> <td>-1036.682</td> <td>  837.274</td>\n",
       "</tr>\n",
       "<tr>\n",
       "  <th>Cardano</th>   <td>   44.7183</td> <td> 1053.757</td> <td>    0.042</td> <td> 0.970</td> <td>-4489.232</td> <td> 4578.669</td>\n",
       "</tr>\n",
       "</table>\n",
       "<table class=\"simpletable\">\n",
       "<tr>\n",
       "  <th>Omnibus:</th>       <td>   nan</td> <th>  Durbin-Watson:     </th> <td>   0.819</td>\n",
       "</tr>\n",
       "<tr>\n",
       "  <th>Prob(Omnibus):</th> <td>   nan</td> <th>  Jarque-Bera (JB):  </th> <td>   0.810</td>\n",
       "</tr>\n",
       "<tr>\n",
       "  <th>Skew:</th>          <td>-0.897</td> <th>  Prob(JB):          </th> <td>   0.667</td>\n",
       "</tr>\n",
       "<tr>\n",
       "  <th>Kurtosis:</th>      <td> 2.864</td> <th>  Cond. No.          </th> <td>    21.1</td>\n",
       "</tr>\n",
       "</table><br/><br/>Warnings:<br/>[1] Standard Errors assume that the covariance matrix of the errors is correctly specified."
      ],
      "text/plain": [
       "<class 'statsmodels.iolib.summary.Summary'>\n",
       "\"\"\"\n",
       "                            OLS Regression Results                            \n",
       "==============================================================================\n",
       "Dep. Variable:                Bitcoin   R-squared:                       0.464\n",
       "Model:                            OLS   Adj. R-squared:                 -0.341\n",
       "Method:                 Least Squares   F-statistic:                    0.5765\n",
       "Date:                Wed, 24 Mar 2021   Prob (F-statistic):              0.684\n",
       "Time:                        03:06:19   Log-Likelihood:                -57.509\n",
       "No. Observations:                   6   AIC:                             123.0\n",
       "Df Residuals:                       2   BIC:                             122.2\n",
       "Df Model:                           3                                         \n",
       "Covariance Type:            nonrobust                                         \n",
       "==============================================================================\n",
       "                 coef    std err          t      P>|t|      [0.025      0.975]\n",
       "------------------------------------------------------------------------------\n",
       "Intercept   7055.3506   3717.767      1.898      0.198   -8940.912    2.31e+04\n",
       "XRP         -910.1065   1113.493     -0.817      0.500   -5701.082    3880.869\n",
       "Tether       -99.7041    217.768     -0.458      0.692   -1036.682     837.274\n",
       "Cardano       44.7183   1053.757      0.042      0.970   -4489.232    4578.669\n",
       "==============================================================================\n",
       "Omnibus:                          nan   Durbin-Watson:                   0.819\n",
       "Prob(Omnibus):                    nan   Jarque-Bera (JB):                0.810\n",
       "Skew:                          -0.897   Prob(JB):                        0.667\n",
       "Kurtosis:                       2.864   Cond. No.                         21.1\n",
       "==============================================================================\n",
       "\n",
       "Warnings:\n",
       "[1] Standard Errors assume that the covariance matrix of the errors is correctly specified.\n",
       "\"\"\""
      ]
     },
     "execution_count": 34,
     "metadata": {},
     "output_type": "execute_result"
    }
   ],
   "source": [
    "model_data = group_df_rev[['Binance', 'Bitcoin', 'Cardano', 'ChainLink', 'Ethereum', 'Litecoin', 'Polkadot', 'Stellar', 'Tether', 'XRP']]\n",
    "# fit the linear regression model to observe how ethereum and chainlink values effects bitcoin values\n",
    "#The linear regression model is Bitcoin = beta_0 + beta_1* Ethereum + beta_2*ChainLink\n",
    "multi_model = sm.ols(formula = \"Bitcoin ~ XRP + Tether + Cardano\", data = model_data).fit()\n",
    "multi_model.summary()"
   ]
  },
  {
   "cell_type": "markdown",
   "metadata": {},
   "source": [
    "The R-squared value of the XRP, Tether and Cardano is 0.464, which means that these features explain 46% of the variablity in bitcoin. This model is used to examine how bitcoin varies with a change in XRP and tether. \n",
    "\n",
    "The fit linear regression model is \n",
    "\n",
    "Bitcoin = beta_0 + beta_1*XRP + beta_2*Tether + beta_3*Cardano. \n",
    "Bitcoin = 7055.3506 -910.1065*XRP - 99.7041*Tether + 44.7183 * Cardano.\n",
    "where beta_0 is the intercept, beta_1,beta_2, beta_3 are the coeffient of the XRP, Tether and Cardano respectively. \n",
    "\n",
    "beta_1, beta_2 are negative, that means the XRP and Tether decreases 910 and 99.7 units if bitcoin increases one unit. and beta_3 is positive so the relation between Cardano and bitcoin is directly propotional to some extent.\n",
    "\n",
    "beta_0 = 7055.3506, The intercept is positive, which says that XRP,Tether and Cardano increases by  7055.3506 for every one unit change in the bitcoin. [NOT SURE? ]"
   ]
  },
  {
   "cell_type": "code",
   "execution_count": 77,
   "metadata": {},
   "outputs": [],
   "source": [
    "#check['Date'] = check['Date'].map(dt.datetime.toordinal)\n",
    "# Convert date values into numeric\n",
    "check['Date'] = le.fit_transform(check['Date'])"
   ]
  },
  {
   "cell_type": "code",
   "execution_count": 36,
   "metadata": {},
   "outputs": [],
   "source": [
    "x = check[['Date', 'Crypto', 'Volume', 'OpenClose', 'HighLow', 'AvgPrice', 'AvgValue']]\n",
    "y = check['MarketCap']"
   ]
  },
  {
   "cell_type": "code",
   "execution_count": 37,
   "metadata": {},
   "outputs": [],
   "source": [
    "x1 = check[['Date', 'Crypto', 'MarketCap', 'Volume', 'OpenClose', 'HighLow', 'AvgValue']]\n",
    "y1 = check['AvgPrice']"
   ]
  },
  {
   "cell_type": "code",
   "execution_count": 38,
   "metadata": {},
   "outputs": [],
   "source": [
    "# Split the dataset into the train and test set\n",
    "x_train, x_test, y_train, y_test = train_test_split(x, y, test_size = 0.33, random_state = 0)"
   ]
  },
  {
   "cell_type": "code",
   "execution_count": 39,
   "metadata": {},
   "outputs": [],
   "source": [
    "x_train1, x_test1, y_train1, y_test1 = train_test_split(x1, y1, test_size = 0.33, random_state = 0)"
   ]
  },
  {
   "cell_type": "code",
   "execution_count": 40,
   "metadata": {},
   "outputs": [],
   "source": [
    "# Fit the regression model on training set and test the data on testing set\n",
    "model_LR = LinearRegression().fit(x_train, y_train)\n",
    "y_pred_LR = model_LR.predict(x_test)\n",
    "\n",
    "intercept_LR = model_LR.intercept_\n",
    "coef_LR = model_LR.coef_\n",
    "# accuracy of train and test set\n",
    "score_train_LR = model_LR.score(x_train, y_train)\n",
    "score_test_LR = model_LR.score(x_test, y_test)"
   ]
  },
  {
   "cell_type": "code",
   "execution_count": 41,
   "metadata": {
    "scrolled": true
   },
   "outputs": [
    {
     "name": "stdout",
     "output_type": "stream",
     "text": [
      "Linear Regression Results: \n",
      "---------------------------------------\n",
      "Train score:  0.7503916505447871\n",
      "---------------------------------------\n",
      "Test score:  0.7491102010553992\n"
     ]
    }
   ],
   "source": [
    "print('Linear Regression Results: ')\n",
    "print('---------------------------------------')\n",
    "#print('Intercept: ', intercept_LR)\n",
    "#print('---------------------------------------')\n",
    "#print('Coefficients: ')\n",
    "#for i in range(len(x.columns)):\n",
    "#    print('   ', x.columns[i], ': ', coef_LR[i])\n",
    "#print('---------------------------------------')\n",
    "print('Train score: ', score_train_LR)\n",
    "print('---------------------------------------')\n",
    "print('Test score: ', score_test_LR)"
   ]
  },
  {
   "cell_type": "code",
   "execution_count": 42,
   "metadata": {},
   "outputs": [],
   "source": [
    "# fit the gradient boosting regression model on train set \n",
    "model_GBR = GradientBoostingRegressor().fit(x_train, y_train)\n",
    "# predict values on test set\n",
    "y_pred_GBR = model_GBR.predict(x_test)\n",
    "# compute the accuracy of train and test set\n",
    "score_train_GBR = model_GBR.score(x_train, y_train)\n",
    "score_test_GBR = model_GBR.score(x_test, y_test)"
   ]
  },
  {
   "cell_type": "code",
   "execution_count": 43,
   "metadata": {
    "scrolled": true
   },
   "outputs": [
    {
     "name": "stdout",
     "output_type": "stream",
     "text": [
      "Gradient Boosting Regression Results: \n",
      "---------------------------------------\n",
      "Train score:  0.9979854325966744\n",
      "---------------------------------------\n",
      "Test score:  0.9976663854841097\n"
     ]
    }
   ],
   "source": [
    "print('Gradient Boosting Regression Results: ')\n",
    "print('---------------------------------------')\n",
    "print('Train score: ', score_train_GBR)\n",
    "print('---------------------------------------')\n",
    "print('Test score: ', score_test_GBR)"
   ]
  },
  {
   "cell_type": "code",
   "execution_count": 44,
   "metadata": {},
   "outputs": [],
   "source": [
    "# fit random forest regression model on train set\n",
    "model_RFR = RandomForestRegressor().fit(x_train, y_train)\n",
    "# predict the value on test set\n",
    "y_pred_RFR = model_RFR.predict(x_test)\n",
    "# compute the accuracy of train and test set\n",
    "score_train_RFR = model_RFR.score(x_train, y_train)\n",
    "score_test_RFR = model_RFR.score(x_test, y_test)"
   ]
  },
  {
   "cell_type": "code",
   "execution_count": 45,
   "metadata": {},
   "outputs": [
    {
     "name": "stdout",
     "output_type": "stream",
     "text": [
      "Random Forest Regression Results: \n",
      "---------------------------------------\n",
      "Train score:  0.9999344909672925\n",
      "---------------------------------------\n",
      "Test score:  0.9996853465503983\n"
     ]
    }
   ],
   "source": [
    "print('Random Forest Regression Results: ')\n",
    "print('---------------------------------------')\n",
    "print('Train score: ', score_train_RFR)\n",
    "print('---------------------------------------')\n",
    "print('Test score: ', score_test_RFR)"
   ]
  },
  {
   "cell_type": "code",
   "execution_count": 46,
   "metadata": {},
   "outputs": [],
   "source": [
    "# fit ridge regression model on train set\n",
    "model_R1 = Ridge(alpha = 10, fit_intercept = True)\n",
    "model_R = model_R1.fit(x_train, y_train)\n",
    "y_pred_R = model_R1.predict(x_test)\n",
    "# compute the accuarcy of train and test set\n",
    "score_train_R = model_R.score(x_train, y_train)\n",
    "score_test_R = model_R.score(x_test, y_test)"
   ]
  },
  {
   "cell_type": "code",
   "execution_count": 47,
   "metadata": {
    "scrolled": true
   },
   "outputs": [
    {
     "name": "stdout",
     "output_type": "stream",
     "text": [
      "Ridge Regression Results: \n",
      "---------------------------------------\n",
      "Train score:  75.03916495805522\n",
      "---------------------------------------\n",
      "Test score:  74.9111465585291\n"
     ]
    }
   ],
   "source": [
    "print('Ridge Regression Results: ')\n",
    "print('---------------------------------------')\n",
    "# print the percentage of accuracy\n",
    "print('Train score: ', score_train_R * 100)\n",
    "print('---------------------------------------')\n",
    "print('Test score: ', score_test_R * 100)"
   ]
  },
  {
   "cell_type": "code",
   "execution_count": 48,
   "metadata": {},
   "outputs": [],
   "source": [
    "# fit the Lasso regression model on training set\n",
    "model_L1 = Lasso(alpha = 10, max_iter = 100000, fit_intercept = True)\n",
    "model_L = model_L1.fit(x_train, y_train)\n",
    "y_pred_L = model_L1.predict(x_test)\n",
    "# compute the accuracy of the train and test set\n",
    "score_train_L = model_L.score(x_train, y_train)\n",
    "score_test_L = model_L.score(x_test, y_test)"
   ]
  },
  {
   "cell_type": "code",
   "execution_count": 49,
   "metadata": {},
   "outputs": [
    {
     "name": "stdout",
     "output_type": "stream",
     "text": [
      "Lasso Regression Results: \n",
      "---------------------------------------\n",
      "Train score:  71.83232510346485\n",
      "---------------------------------------\n",
      "Test score:  72.60912866412787\n"
     ]
    }
   ],
   "source": [
    "print('Lasso Regression Results: ')\n",
    "print('---------------------------------------')\n",
    "print('Train score: ', score_train_L * 100)\n",
    "print('---------------------------------------')\n",
    "print('Test score: ', score_test_L * 100)"
   ]
  },
  {
   "cell_type": "code",
   "execution_count": 50,
   "metadata": {},
   "outputs": [],
   "source": [
    "# Compare all acurracies of train and test sets of different regression models\n",
    "indices = ['LR', 'GBR', 'RFR', 'R', 'L']\n",
    "test_scores = [score_test_LR, score_test_GBR, score_test_RFR, score_test_R, score_test_L]\n",
    "train_scores = [score_train_LR, score_train_GBR, score_train_RFR, score_train_R, score_train_L]"
   ]
  },
  {
   "cell_type": "code",
   "execution_count": 51,
   "metadata": {},
   "outputs": [
    {
     "data": {
      "image/png": "[encoded data removed]",
      "text/plain": [
       "<Figure size 1080x360 with 1 Axes>"
      ]
     },
     "metadata": {
      "needs_background": "light"
     },
     "output_type": "display_data"
    }
   ],
   "source": [
    "# Plot the train score of different regression models\n",
    "plt.bar(indices, train_scores)\n",
    "plt.xlabel('Models')\n",
    "plt.ylabel('Scores')\n",
    "plt.title('Train scores of Market capital 5 models')\n",
    "plt.show()"
   ]
  },
  {
   "cell_type": "code",
   "execution_count": 52,
   "metadata": {
    "scrolled": true
   },
   "outputs": [
    {
     "data": {
      "image/png": "[encoded data removed]",
      "text/plain": [
       "<Figure size 1080x360 with 1 Axes>"
      ]
     },
     "metadata": {
      "needs_background": "light"
     },
     "output_type": "display_data"
    }
   ],
   "source": [
    "# Plot the test scores of different regression models\n",
    "plt.bar(indices, test_scores)\n",
    "plt.xlabel('Models')\n",
    "plt.ylabel('Scores')\n",
    "plt.title('Test scores of Market capital 5 models')\n",
    "plt.show()"
   ]
  },
  {
   "cell_type": "code",
   "execution_count": 53,
   "metadata": {},
   "outputs": [],
   "source": [
    "# Fit the regression model on training set and test the data on testing set\n",
    "model_LR1 = LinearRegression().fit(x_train1, y_train1)\n",
    "y_pred_LR1 = model_LR1.predict(x_test1)\n",
    "\n",
    "intercept_LR1 = model_LR.intercept_\n",
    "coef_LR1 = model_LR1.coef_\n",
    "# accuracy of train and test set\n",
    "score_train_LR1 = model_LR1.score(x_train1, y_train1)\n",
    "score_test_LR1 = model_LR1.score(x_test1, y_test1)"
   ]
  },
  {
   "cell_type": "code",
   "execution_count": 54,
   "metadata": {},
   "outputs": [
    {
     "name": "stdout",
     "output_type": "stream",
     "text": [
      "Linear Regression Results: \n",
      "---------------------------------------\n",
      "Train score:  0.9997942384200982\n",
      "---------------------------------------\n",
      "Test score:  0.999769140102484\n"
     ]
    }
   ],
   "source": [
    "print('Linear Regression Results: ')\n",
    "print('---------------------------------------')\n",
    "#print('Intercept: ', intercept_LR)\n",
    "#print('---------------------------------------')\n",
    "#print('Coefficients: ')\n",
    "#for i in range(len(x.columns)):\n",
    "#    print('   ', x.columns[i], ': ', coef_LR[i])\n",
    "#print('---------------------------------------')\n",
    "print('Train score: ', score_train_LR1)\n",
    "print('---------------------------------------')\n",
    "print('Test score: ', score_test_LR1)"
   ]
  },
  {
   "cell_type": "code",
   "execution_count": 55,
   "metadata": {},
   "outputs": [],
   "source": [
    "# fit the gradient boosting regression model on train set \n",
    "model_GBR1 = GradientBoostingRegressor().fit(x_train1, y_train1)\n",
    "# predict values on test set\n",
    "y_pred_GBR1 = model_GBR1.predict(x_test1)\n",
    "# compute the accuracy of train and test set\n",
    "score_train_GBR1 = model_GBR1.score(x_train1, y_train1)\n",
    "score_test_GBR1 = model_GBR1.score(x_test1, y_test1)"
   ]
  },
  {
   "cell_type": "code",
   "execution_count": 56,
   "metadata": {},
   "outputs": [
    {
     "name": "stdout",
     "output_type": "stream",
     "text": [
      "Gradient Boosting Regression Results: \n",
      "---------------------------------------\n",
      "Train score:  0.9999615847818033\n",
      "---------------------------------------\n",
      "Test score:  0.9994043178932667\n"
     ]
    }
   ],
   "source": [
    "print('Gradient Boosting Regression Results: ')\n",
    "print('---------------------------------------')\n",
    "print('Train score: ', score_train_GBR1)\n",
    "print('---------------------------------------')\n",
    "print('Test score: ', score_test_GBR1)"
   ]
  },
  {
   "cell_type": "code",
   "execution_count": 57,
   "metadata": {},
   "outputs": [],
   "source": [
    "# fit random forest regression model on train set\n",
    "model_RFR1 = RandomForestRegressor().fit(x_train1, y_train1)\n",
    "# predict the value on test set\n",
    "y_pred_RFR1 = model_RFR1.predict(x_test1)\n",
    "# compute the accuracy of train and test set\n",
    "score_train_RFR1 = model_RFR1.score(x_train1, y_train1)\n",
    "score_test_RFR1 = model_RFR1.score(x_test1, y_test1)"
   ]
  },
  {
   "cell_type": "code",
   "execution_count": 58,
   "metadata": {
    "scrolled": true
   },
   "outputs": [
    {
     "name": "stdout",
     "output_type": "stream",
     "text": [
      "Random Forest Regression Results: \n",
      "---------------------------------------\n",
      "Train score:  0.999918887522266\n",
      "---------------------------------------\n",
      "Test score:  0.9995443072869358\n"
     ]
    }
   ],
   "source": [
    "print('Random Forest Regression Results: ')\n",
    "print('---------------------------------------')\n",
    "print('Train score: ', score_train_RFR1)\n",
    "print('---------------------------------------')\n",
    "print('Test score: ', score_test_RFR1)"
   ]
  },
  {
   "cell_type": "code",
   "execution_count": 59,
   "metadata": {},
   "outputs": [],
   "source": [
    "# fit ridge regression model on train set\n",
    "model_R11 = Ridge(alpha = 10, fit_intercept = True)\n",
    "model_R1 = model_R11.fit(x_train1, y_train1)\n",
    "y_pred_R1 = model_R1.predict(x_test1)\n",
    "# compute the accuarcy of train and test set\n",
    "score_train_R1 = model_R1.score(x_train1, y_train1)\n",
    "score_test_R1 = model_R1.score(x_test1, y_test1)"
   ]
  },
  {
   "cell_type": "code",
   "execution_count": 60,
   "metadata": {},
   "outputs": [
    {
     "name": "stdout",
     "output_type": "stream",
     "text": [
      "Ridge Regression Results: \n",
      "---------------------------------------\n",
      "Train score:  0.9997942384200953\n",
      "---------------------------------------\n",
      "Test score:  0.9997691402267204\n"
     ]
    }
   ],
   "source": [
    "print('Ridge Regression Results: ')\n",
    "print('---------------------------------------')\n",
    "print('Train score: ', score_train_R1)\n",
    "print('---------------------------------------')\n",
    "print('Test score: ', score_test_R1)"
   ]
  },
  {
   "cell_type": "code",
   "execution_count": 61,
   "metadata": {},
   "outputs": [],
   "source": [
    "# fit the Lasso regression model on training set\n",
    "model_L11 = Lasso(alpha = 10, max_iter = 100000, fit_intercept = True)\n",
    "model_L1 = model_L11.fit(x_train1, y_train1)\n",
    "y_pred_L1 = model_L1.predict(x_test1)\n",
    "# compute the accuracy of the train and test set\n",
    "score_train_L1 = model_L1.score(x_train1, y_train1)\n",
    "score_test_L1 = model_L1.score(x_test1, y_test1)"
   ]
  },
  {
   "cell_type": "code",
   "execution_count": 62,
   "metadata": {},
   "outputs": [
    {
     "name": "stdout",
     "output_type": "stream",
     "text": [
      "Lasso Regression Results: \n",
      "---------------------------------------\n",
      "Train score:  0.9997938586388211\n",
      "---------------------------------------\n",
      "Test score:  0.9997698611652569\n"
     ]
    }
   ],
   "source": [
    "print('Lasso Regression Results: ')\n",
    "print('---------------------------------------')\n",
    "print('Train score: ', score_train_L1)\n",
    "print('---------------------------------------')\n",
    "print('Test score: ', score_test_L1)"
   ]
  },
  {
   "cell_type": "code",
   "execution_count": 63,
   "metadata": {},
   "outputs": [],
   "source": [
    "# Market cap\n",
    "result_mc = pd.DataFrame()\n",
    "result_mc = x_test\n",
    "result_mc['LR'] = y_pred_LR\n",
    "result_mc['GBR'] = y_pred_GBR\n",
    "result_mc['RFR'] = y_pred_RFR\n",
    "result_mc['R'] = y_pred_R\n",
    "result_mc['L'] = y_pred_L\n",
    "result_mc['Average_MC_Pred'] = (y_pred_LR + y_pred_GBR + y_pred_RFR + y_pred_R + y_pred_L) / 5\n",
    "result_mc['Date'] = le.inverse_transform(result_mc['Date'])\n",
    "#result_mc['Crypto'] = le.inverse_transform(result_mc['Crypto'])\n",
    "result_mc.sort_values(by=['Date'], inplace = True, ascending=False)"
   ]
  },
  {
   "cell_type": "code",
   "execution_count": 64,
   "metadata": {},
   "outputs": [],
   "source": [
    "# Average price\n",
    "result_price = pd.DataFrame()\n",
    "result_price = x_test1\n",
    "result_price['LR'] = y_pred_LR1\n",
    "result_price['GBR'] = y_pred_GBR1\n",
    "result_price['RFR'] = y_pred_RFR1\n",
    "result_price['R'] = y_pred_R1\n",
    "result_price['L'] = y_pred_L1\n",
    "result_price['Average_Price_Pred'] = (y_pred_LR1 + y_pred_GBR1 + y_pred_RFR1 + y_pred_R1 + y_pred_L1) / 5\n",
    "result_price['Date'] = le.inverse_transform(result_price['Date'])\n",
    "#result_price['Crypto'] = le.inverse_transform(result_price['Crypto'])\n",
    "result_price.sort_values(by=['Date'], inplace = True, ascending=False)"
   ]
  },
  {
   "cell_type": "code",
   "execution_count": 65,
   "metadata": {},
   "outputs": [],
   "source": [
    "market_cap = pd.DataFrame()\n",
    "avg_price = pd.DataFrame()\n",
    "\n",
    "for i in range(len(cryptos)):\n",
    "    data1 = result_mc[result_mc['Crypto'] == i]\n",
    "    data2 = result_price[result_price['Crypto'] == i]\n",
    "    \n",
    "    for j in range(len(data1)):\n",
    "        data1.iloc[j, 1] = cryptos[i]\n",
    "        data2.iloc[j, 1] = cryptos[i]\n",
    "    \n",
    "    market_cap = pd.concat([market_cap, data1])\n",
    "    avg_price = pd.concat([avg_price, data2])"
   ]
  },
  {
   "cell_type": "code",
   "execution_count": 66,
   "metadata": {},
   "outputs": [],
   "source": [
    "# Compare all acurracies of train and test sets of different regression models\n",
    "test_scores1 = [score_test_LR1, score_test_GBR1, score_test_RFR1, score_test_R1, score_test_L1]\n",
    "train_scores1 = [score_train_LR1, score_train_GBR1, score_train_RFR1, score_train_R1, score_train_L1]"
   ]
  },
  {
   "cell_type": "code",
   "execution_count": 67,
   "metadata": {},
   "outputs": [
    {
     "data": {
      "image/png": "[encoded data removed]",
      "text/plain": [
       "<Figure size 1080x360 with 1 Axes>"
      ]
     },
     "metadata": {
      "needs_background": "light"
     },
     "output_type": "display_data"
    }
   ],
   "source": [
    "# Plot the train score of different regression models\n",
    "plt.bar(indices, train_scores1)\n",
    "plt.xlabel('Models')\n",
    "plt.ylabel('Scores')\n",
    "plt.title('Train scores of Price prediction of 5 models')\n",
    "plt.show()"
   ]
  },
  {
   "cell_type": "code",
   "execution_count": 68,
   "metadata": {},
   "outputs": [
    {
     "data": {
      "image/png": "[encoded data removed]",
      "text/plain": [
       "<Figure size 1080x360 with 1 Axes>"
      ]
     },
     "metadata": {
      "needs_background": "light"
     },
     "output_type": "display_data"
    }
   ],
   "source": [
    "plt.bar(indices, test_scores1)\n",
    "plt.xlabel('Models')\n",
    "plt.ylabel('Scores')\n",
    "plt.title('Test scores of Price prediction of 5 models')\n",
    "plt.show()"
   ]
  },
  {
   "cell_type": "markdown",
   "metadata": {},
   "source": [
    "The accuracy score for both training and testing price prediction dataset is similar for all five regression models. Hence, we can say that the score of predicting price is accurate."
   ]
  },
  {
   "cell_type": "code",
   "execution_count": 69,
   "metadata": {},
   "outputs": [],
   "source": [
    "# group check dataframe by crypto\n",
    "group_mc = market_cap.groupby('Crypto')\n",
    "group_mc_all = pd.DataFrame()"
   ]
  },
  {
   "cell_type": "code",
   "execution_count": 70,
   "metadata": {},
   "outputs": [],
   "source": [
    "# Compute the mean of OpenClose, HighLow, MarketCap, Volume columns of the group_crypto dataframe \n",
    "cols = market_cap.columns\n",
    "# ['Date', 'Crypto', 'Volume', 'OpenClose', 'HighLow', 'AvgPrice','AvgValue', 'LR', \n",
    "# 'GBR', 'RFR', 'R', 'L', 'Average_MC_Pred']\n",
    "group_mc_all['Crypto'] = market_cap['Crypto'].unique()\n",
    "\n",
    "for i in range(len(cols)):\n",
    "    if cols[i] != 'Date' and cols[i] != 'Crypto':\n",
    "        vals = group_mc[cols[i]].agg(np.mean)\n",
    "        group_mc_all[cols[i]] = vals.values"
   ]
  },
  {
   "cell_type": "code",
   "execution_count": 71,
   "metadata": {},
   "outputs": [],
   "source": [
    "# group check dataframe by crypto\n",
    "group_price = avg_price.groupby('Crypto')\n",
    "group_price_all = pd.DataFrame()"
   ]
  },
  {
   "cell_type": "code",
   "execution_count": 72,
   "metadata": {},
   "outputs": [],
   "source": [
    "# Compute the mean of OpenClose, HighLow, MarketCap, Volume columns of the group_crypto dataframe \n",
    "cols = avg_price.columns\n",
    "# ['Date', 'Crypto', 'Volume', 'OpenClose', 'HighLow', 'AvgPrice','AvgValue', 'LR', \n",
    "# 'GBR', 'RFR', 'R', 'L', 'Average_MC_Pred']\n",
    "group_price_all['Crypto'] = avg_price['Crypto'].unique()\n",
    "\n",
    "for i in range(len(cols)):\n",
    "    if cols[i] != 'Date' and cols[i] != 'Crypto':\n",
    "        vals = group_price[cols[i]].agg(np.mean)\n",
    "        group_price_all[cols[i]] = vals.values"
   ]
  },
  {
   "cell_type": "code",
   "execution_count": 73,
   "metadata": {
    "scrolled": false
   },
   "outputs": [
    {
     "data": {
      "image/png": "[encoded data removed]",
      "text/plain": [
       "<Figure size 1080x360 with 1 Axes>"
      ]
     },
     "metadata": {
      "needs_background": "light"
     },
     "output_type": "display_data"
    }
   ],
   "source": [
    "plt.bar(group_price_all['Crypto'], group_price_all['Average_Price_Pred'])\n",
    "plt.xlabel('Cryptocurencies')\n",
    "plt.ylabel('Average Prices')\n",
    "plt.title('Predicted average prices of top 10 cryptocurrencies')\n",
    "plt.show()"
   ]
  },
  {
   "cell_type": "markdown",
   "metadata": {},
   "source": []
  },
  {
   "cell_type": "code",
   "execution_count": 74,
   "metadata": {
    "scrolled": true
   },
   "outputs": [
    {
     "data": {
      "image/png": "[encoded data removed]",
      "text/plain": [
       "<Figure size 1080x360 with 1 Axes>"
      ]
     },
     "metadata": {
      "needs_background": "light"
     },
     "output_type": "display_data"
    }
   ],
   "source": [
    "group_price_all = group_price_all[group_price_all['Crypto'] != 'Bitcoin']\n",
    "plt.bar(group_price_all['Crypto'], group_price_all['Average_Price_Pred'])\n",
    "plt.xlabel('Cryptocurencies')\n",
    "plt.ylabel('Average Prices')\n",
    "plt.title('Predicted average prices of top 9 cryptocurrencies (without Bitcoin)')\n",
    "plt.show()"
   ]
  },
  {
   "cell_type": "code",
   "execution_count": 75,
   "metadata": {},
   "outputs": [
    {
     "data": {
      "image/png": "[encoded data removed]",
      "text/plain": [
       "<Figure size 1080x360 with 1 Axes>"
      ]
     },
     "metadata": {
      "needs_background": "light"
     },
     "output_type": "display_data"
    }
   ],
   "source": [
    "plt.bar(group_mc_all['Crypto'], group_mc_all['Average_MC_Pred'])\n",
    "plt.xlabel('Cryptocurencies')\n",
    "plt.ylabel('Market Capital percentages')\n",
    "plt.title('Predicted average market capital percentages of top 10 cryptocurrencies')\n",
    "plt.show()"
   ]
  },
  {
   "cell_type": "code",
   "execution_count": 76,
   "metadata": {},
   "outputs": [
    {
     "data": {
      "image/png": "[encoded data removed]",
      "text/plain": [
       "<Figure size 1080x360 with 1 Axes>"
      ]
     },
     "metadata": {
      "needs_background": "light"
     },
     "output_type": "display_data"
    }
   ],
   "source": [
    "group_mc_all = group_mc_all[group_mc_all['Crypto'] != 'Bitcoin']\n",
    "plt.bar(group_mc_all['Crypto'], group_mc_all['Average_MC_Pred'])\n",
    "plt.xlabel('Cryptocurencies')\n",
    "plt.ylabel('Market Capital percentages')\n",
    "plt.title('Predicted average market capital percentages of top 9 cryptocurrencies (without Bitcoin)')\n",
    "plt.show()"
   ]
  },
  {
   "cell_type": "code",
   "execution_count": null,
   "metadata": {},
   "outputs": [],
   "source": []
  }
 ],
 "metadata": {
  "kernelspec": {
   "display_name": "Python 3",
   "language": "python",
   "name": "python3"
  },
  "language_info": {
   "codemirror_mode": {
    "name": "ipython",
    "version": 3
   },
   "file_extension": ".py",
   "mimetype": "text/x-python",
   "name": "python",
   "nbconvert_exporter": "python",
   "pygments_lexer": "ipython3",
   "version": "3.7.6"
  }
 },
 "nbformat": 4,
 "nbformat_minor": 4
}
