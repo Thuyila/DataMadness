{
 "cells": [
  {
   "cell_type": "code",
   "execution_count": 1,
   "metadata": {},
   "outputs": [],
   "source": [
    "import pandas as pd\n",
    "import numpy as np\n",
    "import matplotlib.pyplot as plt\n",
    "import seaborn as sns\n",
    "import datetime\n",
    "import warnings\n",
    "warnings.filterwarnings('ignore')"
   ]
  },
  {
   "cell_type": "code",
   "execution_count": 2,
   "metadata": {},
   "outputs": [],
   "source": [
    "df = pd.read_csv('cryptos.csv')"
   ]
  },
  {
   "cell_type": "code",
   "execution_count": 3,
   "metadata": {},
   "outputs": [],
   "source": [
    "df = df[['Crypto', 'Date', 'Open', 'Low', 'High', 'Close', 'Volume', 'Market Cap', ]]"
   ]
  },
  {
   "cell_type": "code",
   "execution_count": 4,
   "metadata": {},
   "outputs": [],
   "source": [
    "df['Date'] = pd.to_datetime(df['Date'], format='%d-%m-%Y')"
   ]
  },
  {
   "cell_type": "code",
   "execution_count": 5,
   "metadata": {},
   "outputs": [
    {
     "data": {
      "text/plain": [
       "Crypto        0\n",
       "Date          0\n",
       "Open          0\n",
       "Low           0\n",
       "High          0\n",
       "Close         0\n",
       "Volume        0\n",
       "Market Cap    0\n",
       "dtype: int64"
      ]
     },
     "execution_count": 5,
     "metadata": {},
     "output_type": "execute_result"
    }
   ],
   "source": [
    "df.isnull().sum()"
   ]
  },
  {
   "cell_type": "code",
   "execution_count": 6,
   "metadata": {},
   "outputs": [
    {
     "data": {
      "text/html": [
       "<div>\n",
       "<style scoped>\n",
       "    .dataframe tbody tr th:only-of-type {\n",
       "        vertical-align: middle;\n",
       "    }\n",
       "\n",
       "    .dataframe tbody tr th {\n",
       "        vertical-align: top;\n",
       "    }\n",
       "\n",
       "    .dataframe thead th {\n",
       "        text-align: right;\n",
       "    }\n",
       "</style>\n",
       "<table border=\"1\" class=\"dataframe\">\n",
       "  <thead>\n",
       "    <tr style=\"text-align: right;\">\n",
       "      <th></th>\n",
       "      <th>Open</th>\n",
       "      <th>Low</th>\n",
       "      <th>High</th>\n",
       "      <th>Close</th>\n",
       "      <th>Volume</th>\n",
       "      <th>Market Cap</th>\n",
       "    </tr>\n",
       "  </thead>\n",
       "  <tbody>\n",
       "    <tr>\n",
       "      <th>count</th>\n",
       "      <td>19131.000000</td>\n",
       "      <td>19131.000000</td>\n",
       "      <td>19131.000000</td>\n",
       "      <td>19131.000000</td>\n",
       "      <td>1.913100e+04</td>\n",
       "      <td>1.913100e+04</td>\n",
       "    </tr>\n",
       "    <tr>\n",
       "      <th>mean</th>\n",
       "      <td>761.444392</td>\n",
       "      <td>738.682495</td>\n",
       "      <td>783.436833</td>\n",
       "      <td>763.837914</td>\n",
       "      <td>3.975340e+09</td>\n",
       "      <td>1.853319e+10</td>\n",
       "    </tr>\n",
       "    <tr>\n",
       "      <th>std</th>\n",
       "      <td>3199.816505</td>\n",
       "      <td>3084.525401</td>\n",
       "      <td>3309.109959</td>\n",
       "      <td>3215.509484</td>\n",
       "      <td>1.222030e+10</td>\n",
       "      <td>5.932182e+10</td>\n",
       "    </tr>\n",
       "    <tr>\n",
       "      <th>min</th>\n",
       "      <td>0.001352</td>\n",
       "      <td>0.001227</td>\n",
       "      <td>0.001509</td>\n",
       "      <td>0.001357</td>\n",
       "      <td>0.000000e+00</td>\n",
       "      <td>0.000000e+00</td>\n",
       "    </tr>\n",
       "    <tr>\n",
       "      <th>25%</th>\n",
       "      <td>0.206962</td>\n",
       "      <td>0.200160</td>\n",
       "      <td>0.218245</td>\n",
       "      <td>0.207531</td>\n",
       "      <td>3.635380e+06</td>\n",
       "      <td>2.346223e+08</td>\n",
       "    </tr>\n",
       "    <tr>\n",
       "      <th>50%</th>\n",
       "      <td>1.687292</td>\n",
       "      <td>1.621860</td>\n",
       "      <td>1.781262</td>\n",
       "      <td>1.695490</td>\n",
       "      <td>1.349885e+08</td>\n",
       "      <td>2.448265e+09</td>\n",
       "    </tr>\n",
       "    <tr>\n",
       "      <th>75%</th>\n",
       "      <td>74.700625</td>\n",
       "      <td>72.283853</td>\n",
       "      <td>77.416730</td>\n",
       "      <td>74.837289</td>\n",
       "      <td>1.821590e+09</td>\n",
       "      <td>9.560998e+09</td>\n",
       "    </tr>\n",
       "    <tr>\n",
       "      <th>max</th>\n",
       "      <td>57532.738864</td>\n",
       "      <td>55672.609513</td>\n",
       "      <td>58330.572142</td>\n",
       "      <td>57539.943668</td>\n",
       "      <td>3.509679e+11</td>\n",
       "      <td>1.072263e+12</td>\n",
       "    </tr>\n",
       "  </tbody>\n",
       "</table>\n",
       "</div>"
      ],
      "text/plain": [
       "               Open           Low          High         Close        Volume  \\\n",
       "count  19131.000000  19131.000000  19131.000000  19131.000000  1.913100e+04   \n",
       "mean     761.444392    738.682495    783.436833    763.837914  3.975340e+09   \n",
       "std     3199.816505   3084.525401   3309.109959   3215.509484  1.222030e+10   \n",
       "min        0.001352      0.001227      0.001509      0.001357  0.000000e+00   \n",
       "25%        0.206962      0.200160      0.218245      0.207531  3.635380e+06   \n",
       "50%        1.687292      1.621860      1.781262      1.695490  1.349885e+08   \n",
       "75%       74.700625     72.283853     77.416730     74.837289  1.821590e+09   \n",
       "max    57532.738864  55672.609513  58330.572142  57539.943668  3.509679e+11   \n",
       "\n",
       "         Market Cap  \n",
       "count  1.913100e+04  \n",
       "mean   1.853319e+10  \n",
       "std    5.932182e+10  \n",
       "min    0.000000e+00  \n",
       "25%    2.346223e+08  \n",
       "50%    2.448265e+09  \n",
       "75%    9.560998e+09  \n",
       "max    1.072263e+12  "
      ]
     },
     "execution_count": 6,
     "metadata": {},
     "output_type": "execute_result"
    }
   ],
   "source": [
    "df.describe()"
   ]
  },
  {
   "cell_type": "code",
   "execution_count": 7,
   "metadata": {},
   "outputs": [],
   "source": [
    "last_month_end = np.max(df['Date'])\n",
    "last_month_start = last_month_end - datetime.timedelta(30)"
   ]
  },
  {
   "cell_type": "code",
   "execution_count": 8,
   "metadata": {},
   "outputs": [],
   "source": [
    "new_df = df[df['Date'] > last_month_start]"
   ]
  },
  {
   "cell_type": "code",
   "execution_count": 9,
   "metadata": {},
   "outputs": [
    {
     "data": {
      "text/html": [
       "<div>\n",
       "<style scoped>\n",
       "    .dataframe tbody tr th:only-of-type {\n",
       "        vertical-align: middle;\n",
       "    }\n",
       "\n",
       "    .dataframe tbody tr th {\n",
       "        vertical-align: top;\n",
       "    }\n",
       "\n",
       "    .dataframe thead th {\n",
       "        text-align: right;\n",
       "    }\n",
       "</style>\n",
       "<table border=\"1\" class=\"dataframe\">\n",
       "  <thead>\n",
       "    <tr style=\"text-align: right;\">\n",
       "      <th></th>\n",
       "      <th>Open</th>\n",
       "      <th>Low</th>\n",
       "      <th>High</th>\n",
       "      <th>Close</th>\n",
       "      <th>Volume</th>\n",
       "      <th>Market Cap</th>\n",
       "    </tr>\n",
       "  </thead>\n",
       "  <tbody>\n",
       "    <tr>\n",
       "      <th>count</th>\n",
       "      <td>300.000000</td>\n",
       "      <td>300.000000</td>\n",
       "      <td>300.000000</td>\n",
       "      <td>300.000000</td>\n",
       "      <td>3.000000e+02</td>\n",
       "      <td>3.000000e+02</td>\n",
       "    </tr>\n",
       "    <tr>\n",
       "      <th>mean</th>\n",
       "      <td>4716.097206</td>\n",
       "      <td>4537.129486</td>\n",
       "      <td>4898.565478</td>\n",
       "      <td>4753.284602</td>\n",
       "      <td>2.942375e+10</td>\n",
       "      <td>1.199415e+11</td>\n",
       "    </tr>\n",
       "    <tr>\n",
       "      <th>std</th>\n",
       "      <td>13680.313980</td>\n",
       "      <td>13152.946432</td>\n",
       "      <td>14193.260865</td>\n",
       "      <td>13773.175728</td>\n",
       "      <td>4.578569e+10</td>\n",
       "      <td>2.516386e+11</td>\n",
       "    </tr>\n",
       "    <tr>\n",
       "      <th>min</th>\n",
       "      <td>0.282152</td>\n",
       "      <td>0.279825</td>\n",
       "      <td>0.336867</td>\n",
       "      <td>0.305702</td>\n",
       "      <td>5.125454e+08</td>\n",
       "      <td>6.802946e+09</td>\n",
       "    </tr>\n",
       "    <tr>\n",
       "      <th>25%</th>\n",
       "      <td>0.885879</td>\n",
       "      <td>0.825905</td>\n",
       "      <td>0.936482</td>\n",
       "      <td>0.902019</td>\n",
       "      <td>3.538339e+09</td>\n",
       "      <td>1.209396e+10</td>\n",
       "    </tr>\n",
       "    <tr>\n",
       "      <th>50%</th>\n",
       "      <td>26.960933</td>\n",
       "      <td>24.776142</td>\n",
       "      <td>28.890621</td>\n",
       "      <td>27.344975</td>\n",
       "      <td>7.718615e+09</td>\n",
       "      <td>2.319452e+10</td>\n",
       "    </tr>\n",
       "    <tr>\n",
       "      <th>75%</th>\n",
       "      <td>216.238969</td>\n",
       "      <td>195.502475</td>\n",
       "      <td>228.589628</td>\n",
       "      <td>216.242812</td>\n",
       "      <td>3.597193e+10</td>\n",
       "      <td>3.495600e+10</td>\n",
       "    </tr>\n",
       "    <tr>\n",
       "      <th>max</th>\n",
       "      <td>57532.738864</td>\n",
       "      <td>55672.609513</td>\n",
       "      <td>58330.572142</td>\n",
       "      <td>57539.943668</td>\n",
       "      <td>3.509679e+11</td>\n",
       "      <td>1.072263e+12</td>\n",
       "    </tr>\n",
       "  </tbody>\n",
       "</table>\n",
       "</div>"
      ],
      "text/plain": [
       "               Open           Low          High         Close        Volume  \\\n",
       "count    300.000000    300.000000    300.000000    300.000000  3.000000e+02   \n",
       "mean    4716.097206   4537.129486   4898.565478   4753.284602  2.942375e+10   \n",
       "std    13680.313980  13152.946432  14193.260865  13773.175728  4.578569e+10   \n",
       "min        0.282152      0.279825      0.336867      0.305702  5.125454e+08   \n",
       "25%        0.885879      0.825905      0.936482      0.902019  3.538339e+09   \n",
       "50%       26.960933     24.776142     28.890621     27.344975  7.718615e+09   \n",
       "75%      216.238969    195.502475    228.589628    216.242812  3.597193e+10   \n",
       "max    57532.738864  55672.609513  58330.572142  57539.943668  3.509679e+11   \n",
       "\n",
       "         Market Cap  \n",
       "count  3.000000e+02  \n",
       "mean   1.199415e+11  \n",
       "std    2.516386e+11  \n",
       "min    6.802946e+09  \n",
       "25%    1.209396e+10  \n",
       "50%    2.319452e+10  \n",
       "75%    3.495600e+10  \n",
       "max    1.072263e+12  "
      ]
     },
     "execution_count": 9,
     "metadata": {},
     "output_type": "execute_result"
    }
   ],
   "source": [
    "new_df.describe()"
   ]
  },
  {
   "cell_type": "code",
   "execution_count": 15,
   "metadata": {},
   "outputs": [],
   "source": [
    "crypto_group = new_df.groupby('Crypto')"
   ]
  },
  {
   "cell_type": "code",
   "execution_count": 21,
   "metadata": {},
   "outputs": [],
   "source": [
    "avg_market = crypto_group['Market Cap'].agg(np.mean)\n",
    "avg_market = avg_market.sort_values(ascending = False)"
   ]
  },
  {
   "cell_type": "code",
   "execution_count": 22,
   "metadata": {},
   "outputs": [
    {
     "data": {
      "text/plain": [
       "Crypto\n",
       "Bitcoin      8.469910e+11\n",
       "Ethereum     1.922063e+11\n",
       "Tether       3.119700e+10\n",
       "Cardano      2.584187e+10\n",
       "Polkadot     2.482554e+10\n",
       "Binance      2.319925e+10\n",
       "XRP          2.210151e+10\n",
       "Litecoin     1.214519e+10\n",
       "ChainLink    1.142647e+10\n",
       "Stellar      9.480475e+09\n",
       "Name: Market Cap, dtype: float64"
      ]
     },
     "execution_count": 22,
     "metadata": {},
     "output_type": "execute_result"
    }
   ],
   "source": [
    "avg_market"
   ]
  },
  {
   "cell_type": "code",
   "execution_count": 30,
   "metadata": {},
   "outputs": [
    {
     "data": {
      "text/plain": [
       "Text(0.5, 1.0, 'Market Cap of most recent month')"
      ]
     },
     "execution_count": 30,
     "metadata": {},
     "output_type": "execute_result"
    },
    {
     "data": {
      "image/png": "[encoded data removed]",
      "text/plain": [
       "<Figure size 720x360 with 1 Axes>"
      ]
     },
     "metadata": {
      "needs_background": "light"
     },
     "output_type": "display_data"
    }
   ],
   "source": [
    "plt.plot(avg_market)\n",
    "plt.rcParams[\"figure.figsize\"] = (5,5)\n",
    "plt.xlabel('Crypto')\n",
    "plt.ylabel('Market Cap')\n",
    "plt.title('Market Cap of most recent month')"
   ]
  },
  {
   "cell_type": "code",
   "execution_count": null,
   "metadata": {},
   "outputs": [],
   "source": []
  }
 ],
 "metadata": {
  "kernelspec": {
   "display_name": "Python 3",
   "language": "python",
   "name": "python3"
  },
  "language_info": {
   "codemirror_mode": {
    "name": "ipython",
    "version": 3
   },
   "file_extension": ".py",
   "mimetype": "text/x-python",
   "name": "python",
   "nbconvert_exporter": "python",
   "pygments_lexer": "ipython3",
   "version": "3.8.3"
  }
 },
 "nbformat": 4,
 "nbformat_minor": 4
}
